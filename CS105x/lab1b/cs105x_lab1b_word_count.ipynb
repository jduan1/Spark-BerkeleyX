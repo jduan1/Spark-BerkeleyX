{
 "cells": [
  {
   "cell_type": "markdown",
   "metadata": {},
   "source": [
    "<a rel=\"license\" href=\"http://creativecommons.org/licenses/by-nc-nd/4.0/\"><img alt=\"Creative Commons License\" style=\"border-width:0\" src=\"https://i.creativecommons.org/l/by-nc-nd/4.0/88x31.png\" align=\"left\" /></a><br><br/>This work is licensed under a <a rel=\"license\" href=\"http://creativecommons.org/licenses/by-nc-nd/4.0/\">Creative Commons Attribution-NonCommercial-NoDerivatives 4.0 International License</a>."
   ]
  },
  {
   "cell_type": "markdown",
   "metadata": {},
   "source": [
    "# ![Spark Logo](http://spark-mooc.github.io/web-assets/images/ta_Spark-logo-small.png) + ![Python Logo](http://spark-mooc.github.io/web-assets/images/python-logo-master-v3-TM-flattened_small.png)"
   ]
  },
  {
   "cell_type": "markdown",
   "metadata": {},
   "source": [
    "# Word Count Lab: Building a word count application\n",
    "\n",
    "This lab will build on the techniques covered in the Spark tutorial to develop a simple word count application. The volume of unstructured text in existence is growing dramatically, and Spark is an excellent tool for analyzing this type of data. In this lab, we will write code that calculates the most common words in the [Complete Works of William Shakespeare](http://www.gutenberg.org/ebooks/100) retrieved from [Project Gutenberg](http://www.gutenberg.org/wiki/Main_Page). This could also be scaled to larger applications, such as finding the most common words in Wikipedia.\n",
    "\n",
    "### During this lab we will cover:\n",
    "* Part 1: Creating a base DataFrame and performing operations\n",
    "* Part 2: Counting with Spark SQL and DataFrames\n",
    "* Part 3: Finding unique words and a mean value\n",
    "* Part 4: Apply word count to a file\n",
    "\n",
    "Note that for reference, you can look up the details of the relevant methods in [Spark's Python API](https://spark.apache.org/docs/latest/api/python/pyspark.html#pyspark.sql)."
   ]
  },
  {
   "cell_type": "markdown",
   "metadata": {},
   "source": [
    "## Part 1: Creating a base DataFrame and performing operations\n",
    "In this part of the lab, we will explore creating a base DataFrame with `sqlContext.createDataFrame` and using DataFrame operations to count words."
   ]
  },
  {
   "cell_type": "markdown",
   "metadata": {},
   "source": [
    "### (1a) Create a DataFrame\n",
    "We'll start by generating a base DataFrame by using a Python list of tuples and the `sqlContext.createDataFrame` method. Then we'll print out the type and schema of the DataFrame. The Python API has several examples for using the `createDataFrame` [method](http://spark.apache.org/docs/latest/api/python/pyspark.sql.html#pyspark.sql.SQLContext.createDataFrame)."
   ]
  },
  {
   "cell_type": "code",
   "execution_count": 13,
   "metadata": {},
   "outputs": [
    {
     "name": "stdout",
     "output_type": "stream",
     "text": [
      "+--------+\n",
      "|    word|\n",
      "+--------+\n",
      "|     cat|\n",
      "|elephant|\n",
      "|     rat|\n",
      "|     rat|\n",
      "|     cat|\n",
      "+--------+\n",
      "\n",
      "<class 'pyspark.sql.dataframe.DataFrame'>\n",
      "root\n",
      " |-- word: string (nullable = true)\n",
      "\n"
     ]
    }
   ],
   "source": [
    "# works only for yarn mode\n",
    "wordsDF = sqlContext.createDataFrame([('cat',), ('elephant',), ('rat',), ('rat',), ('cat', )], ['word'])\n",
    "wordsDF.show()\n",
    "print(type(wordsDF))\n",
    "wordsDF.printSchema()"
   ]
  },
  {
   "cell_type": "markdown",
   "metadata": {},
   "source": [
    "### (1b) Using DataFrame functions to add an 's'\n",
    "Let's create a new DataFrame from wordsDF by performing an operation that adds an 's' to each word. To do this, we'll call the [`select` DataFrame function](http://spark.apache.org/docs/latest/api/python/pyspark.sql.html#pyspark.sql.DataFrame.select) and pass in a column that has the recipe for adding an 's' to our existing column. To generate this `Column` object you should use the [`concat` function](http://spark.apache.org/docs/latest/api/python/pyspark.sql.html#pyspark.sql.functions.concat) found in the [`pyspark.sql.functions` module](http://spark.apache.org/docs/latest/api/python/pyspark.sql.html#pyspark.sql.functions.concat). Note that concat takes in two or more string columns and returns a single string column. In order to pass in a constant or literal value like 's', you'll need to wrap that value with the [`lit` column function](http://spark.apache.org/docs/latest/api/python/pyspark.sql.html#pyspark.sql.functions.lit).\n",
    "\n",
    "> Note: Make sure that the resulting DataFrame has one column which is named 'word'."
   ]
  },
  {
   "cell_type": "code",
   "execution_count": 2,
   "metadata": {},
   "outputs": [
    {
     "name": "stdout",
     "output_type": "stream",
     "text": [
      "+---------+\n",
      "|     word|\n",
      "+---------+\n",
      "|     cats|\n",
      "|elephants|\n",
      "|     rats|\n",
      "|     rats|\n",
      "|     cats|\n",
      "+---------+\n",
      "\n"
     ]
    }
   ],
   "source": [
    "from pyspark.sql.functions import lit, concat\n",
    "pluralDF = wordsDF.select(concat(wordsDF.word, lit('s')).alias('word'))\n",
    "pluralDF.show()"
   ]
  },
  {
   "cell_type": "markdown",
   "metadata": {},
   "source": [
    "### (1c) Length of each word\n",
    "Now use the SQL `length` function to find the number of characters in each word. The [`length` function](http://spark.apache.org/docs/latest/api/python/pyspark.sql.html#pyspark.sql.functions.length) is found in the `pyspark.sql.functions` module."
   ]
  },
  {
   "cell_type": "code",
   "execution_count": 3,
   "metadata": {},
   "outputs": [
    {
     "name": "stdout",
     "output_type": "stream",
     "text": [
      "+------------+\n",
      "|length(word)|\n",
      "+------------+\n",
      "|           4|\n",
      "|           9|\n",
      "|           4|\n",
      "|           4|\n",
      "|           4|\n",
      "+------------+\n",
      "\n"
     ]
    }
   ],
   "source": [
    "from pyspark.sql.functions import length\n",
    "pluralLengthsDF = pluralDF.select(length(pluralDF.word))\n",
    "pluralLengthsDF.show()"
   ]
  },
  {
   "cell_type": "markdown",
   "metadata": {},
   "source": [
    "## Part 2: Counting with Spark SQL and DataFrames\n",
    "Now, let's count the number of times a particular word appears in the 'word' column. There are multiple ways to perform the counting, but some are much less efficient than others.\n",
    "\n",
    "A naive approach would be to call `collect` on all of the elements and count them in the driver program. While this approach could work for small datasets, we want an approach that will work for any size dataset including terabyte- or petabyte-sized datasets. In addition, performing all of the work in the driver program is slower than performing it in parallel in the workers. For these reasons, we will use data parallel operations."
   ]
  },
  {
   "cell_type": "markdown",
   "metadata": {},
   "source": [
    "### (2a) Using `groupby` and `count`\n",
    "Using DataFrames, we can preform aggregations by grouping the data using the [`groupBy` function](http://spark.apache.org/docs/latest/api/python/pyspark.sql.html#pyspark.sql.DataFrame.groupBy) on the DataFrame. Using `groupBy` returns a [`GroupedData` object](http://spark.apache.org/docs/latest/api/python/pyspark.sql.html#pyspark.sql.GroupedData) and we can use the functions available for `GroupedData` to aggregate the groups. For example, we can call `avg` or `count` on a `GroupedData` object to obtain the average of the values in the groups or the number of occurrences in the groups, respectively.\n",
    "\n",
    "To find the counts of words, group by the words and then use the [`count` function](http://spark.apache.org/docs/latest/api/python/pyspark.sql.html#pyspark.sql.GroupedData.count) to find the number of times that words occur."
   ]
  },
  {
   "cell_type": "code",
   "execution_count": 4,
   "metadata": {},
   "outputs": [
    {
     "name": "stdout",
     "output_type": "stream",
     "text": [
      "+--------+-----+\n",
      "|    word|count|\n",
      "+--------+-----+\n",
      "|     rat|    2|\n",
      "|     cat|    2|\n",
      "|elephant|    1|\n",
      "+--------+-----+\n",
      "\n"
     ]
    }
   ],
   "source": [
    "wordCountsDF = (wordsDF\n",
    "                .groupBy(wordsDF.word)\n",
    "                .count()\n",
    ")\n",
    "wordCountsDF.show()"
   ]
  },
  {
   "cell_type": "markdown",
   "metadata": {},
   "source": [
    "## Part 3: Finding unique words and a mean value\n"
   ]
  },
  {
   "cell_type": "markdown",
   "metadata": {},
   "source": [
    "### (3a) Unique words\n",
    "Calculate the number of unique words in `wordsDF`. You can use other DataFrames that you have already created to make this easier."
   ]
  },
  {
   "cell_type": "code",
   "execution_count": 5,
   "metadata": {},
   "outputs": [
    {
     "name": "stdout",
     "output_type": "stream",
     "text": [
      "3\n"
     ]
    }
   ],
   "source": [
    "uniqueWordsCount = wordCountsDF.count()\n",
    "print uniqueWordsCount"
   ]
  },
  {
   "cell_type": "markdown",
   "metadata": {},
   "source": [
    "### (3b) Means of groups using DataFrames\n",
    "Find the mean number of occurrences of words in `wordCountsDF`.\n",
    "\n",
    "You should use the [`mean` GroupedData method](http://spark.apache.org/docs/latest/api/python/pyspark.sql.html#pyspark.sql.GroupedData.mean) to accomplish this. Note that when you use `groupBy` you don't need to pass in any columns. A call without columns just prepares the DataFrame so that aggregation functions like `mean` can be applied."
   ]
  },
  {
   "cell_type": "code",
   "execution_count": 6,
   "metadata": {},
   "outputs": [
    {
     "name": "stdout",
     "output_type": "stream",
     "text": [
      "1.66666666667\n"
     ]
    }
   ],
   "source": [
    "# Average number of occurrence\n",
    "averageCount = wordCountsDF.groupBy().mean('count').head()[0]\n",
    "#wordCountsDF.groupBy().select(mean().alias(\"count\"))\n",
    "print averageCount"
   ]
  },
  {
   "cell_type": "markdown",
   "metadata": {},
   "source": [
    "## Part 4: Apply word count to a file \n",
    "In this section we will finish developing our word count application. We'll have to build the wordCount function, deal with real world problems like capitalization and punctuation, load in our data source, and compute the word count on the new data."
   ]
  },
  {
   "cell_type": "markdown",
   "metadata": {},
   "source": [
    "### (4a) The `wordCount` function\n",
    "First, define a function for word counting. You should reuse the techniques that have been covered in earlier parts of this lab. This function should take in a DataFrame that is a list of words like `wordsDF` and return a DataFrame that has all of the words and their associated counts."
   ]
  },
  {
   "cell_type": "code",
   "execution_count": 7,
   "metadata": {},
   "outputs": [
    {
     "name": "stdout",
     "output_type": "stream",
     "text": [
      "+--------+-----+\n",
      "|    word|count|\n",
      "+--------+-----+\n",
      "|     rat|    2|\n",
      "|     cat|    2|\n",
      "|elephant|    1|\n",
      "+--------+-----+\n",
      "\n"
     ]
    }
   ],
   "source": [
    "# The wordCount function to compute number of each words in a DataFrame\n",
    "def wordCount(wordListDF):\n",
    "    assert(str(type(wordListDF)) == \"<class 'pyspark.sql.dataframe.DataFrame'>\")\n",
    "    assert('word' in wordListDF.columns)\n",
    "    return wordListDF.groupBy('word').count()\n",
    "wordCount(wordsDF).show()"
   ]
  },
  {
   "cell_type": "markdown",
   "metadata": {},
   "source": [
    "### (4b) Capitalization and punctuation\n",
    "Real world files are more complicated than the data we have been using in this lab. Some of the issues we have to address are:\n",
    "* Words should be counted independent of their capitialization (e.g., Spark and spark should be counted as the same word).\n",
    "* All punctuation should be removed.\n",
    "* Any leading or trailing spaces on a line should be removed.\n",
    "\n",
    "Define the function `removePunctuation` that converts all text to lower case, removes any punctuation, and removes leading and trailing spaces. Use the Python [regexp_replace](http://spark.apache.org/docs/latest/api/python/pyspark.sql.html#pyspark.sql.functions.regexp_replace) module to remove any text that is not a letter, number, or space. If you are unfamiliar with regular expressions, you may want to review this [tutorial](https://developers.google.com/edu/python/regular-expressions) from Google. Also, [this website](https://regex101.com/#python) is a great resource for debugging your regular expression.\n",
    "\n",
    "You should also use the `trim` and `lower` functions found in [pyspark.sql.functions](http://spark.apache.org/docs/latest/api/python/pyspark.sql.html#pyspark.sql.functions).\n",
    "\n",
    "> Note that you shouldn't use any RDD operations or need to create custom user defined functions (udfs) to accomplish this task"
   ]
  },
  {
   "cell_type": "code",
   "execution_count": 8,
   "metadata": {},
   "outputs": [
    {
     "name": "stdout",
     "output_type": "stream",
     "text": [
      "+--------------------------------------------+\n",
      "|sentence                                    |\n",
      "+--------------------------------------------+\n",
      "|Hi, you!                                    |\n",
      "| No under_score                             |\n",
      "| *      Remove punctuation and spaces   *   |\n",
      "+--------------------------------------------+\n",
      "\n",
      "+-----------------------------+\n",
      "|sentence                     |\n",
      "+-----------------------------+\n",
      "|hi you                       |\n",
      "|no underscore                |\n",
      "|remove punctuation and spaces|\n",
      "+-----------------------------+\n",
      "\n"
     ]
    }
   ],
   "source": [
    "from pyspark.sql.functions import regexp_replace, trim, col, lower\n",
    "\n",
    "# The removePunctuation function\n",
    "def removePunctuation(column):\n",
    "    return trim(regexp_replace(lower(column), '[^0-9a-z\\s]', '')).alias('sentence')\n",
    "\n",
    "# A testing DataFrame for removePunctuation\n",
    "sentenceDF = sqlContext.createDataFrame([('Hi, you!',),\n",
    "                                         (' No under_score',),\n",
    "                                         (' *      Remove punctuation and spaces   *   ',),\n",
    "                                        ],['sentence'])\n",
    "sentenceDF.show(truncate=False)\n",
    "(sentenceDF\n",
    " .select(removePunctuation(col('sentence')))\n",
    " .show(truncate=False)\n",
    ")"
   ]
  },
  {
   "cell_type": "markdown",
   "metadata": {},
   "source": [
    "### (4c) Load a text file\n",
    "For the next part of this lab, we will use the [Complete Works of William Shakespeare](http://www.gutenberg.org/ebooks/100) from [Project Gutenberg](http://www.gutenberg.org/wiki/Main_Page). To convert a text file into a DataFrame, we use the `sqlContext.read.text()` method. We also apply the recently defined `removePunctuation()` function using a `select()` transformation to strip out the punctuation and change all text to lower case. Since the file is large we use `show(15)`, so that we only print 15 lines.\n",
    "\n",
    "Use the following code to copy local files to Hadoop.\n",
    "\n",
    "    hadoop fs -copyFromLocal /path/to/file/shakespeare.txt /target/path/shakespeare.txt"
   ]
  },
  {
   "cell_type": "code",
   "execution_count": 9,
   "metadata": {},
   "outputs": [
    {
     "name": "stdout",
     "output_type": "stream",
     "text": [
      "+-------------------------------------------------+\n",
      "|sentence                                         |\n",
      "+-------------------------------------------------+\n",
      "|1609                                             |\n",
      "|                                                 |\n",
      "|the sonnets                                      |\n",
      "|                                                 |\n",
      "|by william shakespeare                           |\n",
      "|                                                 |\n",
      "|                                                 |\n",
      "|                                                 |\n",
      "|1                                                |\n",
      "|from fairest creatures we desire increase        |\n",
      "|that thereby beautys rose might never die        |\n",
      "|but as the riper should by time decease          |\n",
      "|his tender heir might bear his memory            |\n",
      "|but thou contracted to thine own bright eyes     |\n",
      "|feedst thy lights flame with selfsubstantial fuel|\n",
      "+-------------------------------------------------+\n",
      "only showing top 15 rows\n",
      "\n"
     ]
    }
   ],
   "source": [
    "fileName = 'shakespeare.txt'\n",
    "shakespeareDF = sqlContext.read.text(fileName).select(removePunctuation(col('value')))\n",
    "shakespeareDF.show(15, truncate=False)"
   ]
  },
  {
   "cell_type": "markdown",
   "metadata": {},
   "source": [
    "### (4d) Words from lines\n",
    "Before we can use the `wordcount()` function, we have to address two issues with the format of the DataFrame:\n",
    "* The first issue is that that we need to split each line by its spaces.\n",
    "* The second issue is we need to filter out empty lines or words.\n",
    "\n",
    "Apply a transformation that will split each 'sentence' in the DataFrame by its spaces, and then transform from a DataFrame that contains lists of words into a DataFrame with each word in its own row. To accomplish these two tasks you can use the `split` and `explode` functions found in [pyspark.sql.functions](http://spark.apache.org/docs/latest/api/python/pyspark.sql.html#pyspark.sql.functions).\n",
    "\n",
    "Once you have a DataFrame with one word per row you can apply the [DataFrame operation](http://spark.apache.org/docs/latest/api/python/pyspark.sql.html#pyspark.sql.DataFrame.where) `where` to remove the rows that contain ''.\n",
    "\n",
    "> Note that `shakeWordsDF` should be a DataFrame with one column named `word`."
   ]
  },
  {
   "cell_type": "code",
   "execution_count": 10,
   "metadata": {},
   "outputs": [
    {
     "name": "stdout",
     "output_type": "stream",
     "text": [
      "+-----------+\n",
      "|       word|\n",
      "+-----------+\n",
      "|       1609|\n",
      "|        the|\n",
      "|    sonnets|\n",
      "|         by|\n",
      "|    william|\n",
      "|shakespeare|\n",
      "|          1|\n",
      "|       from|\n",
      "|    fairest|\n",
      "|  creatures|\n",
      "|         we|\n",
      "|     desire|\n",
      "|   increase|\n",
      "|       that|\n",
      "|    thereby|\n",
      "|    beautys|\n",
      "|       rose|\n",
      "|      might|\n",
      "|      never|\n",
      "|        die|\n",
      "+-----------+\n",
      "only showing top 20 rows\n",
      "\n",
      "882996\n"
     ]
    }
   ],
   "source": [
    "from pyspark.sql.functions import split, explode\n",
    "shakeWordsDF = (shakespeareDF\n",
    "                .select(explode(split(shakespeareDF.sentence, ' ')).alias('word'))\n",
    "                .where(col('word') != ''))\n",
    "shakeWordsDF.show()\n",
    "shakeWordsDFCount = shakeWordsDF.count()\n",
    "print(shakeWordsDFCount)"
   ]
  },
  {
   "cell_type": "markdown",
   "metadata": {},
   "source": [
    "### (4e) Count the words\n",
    "We now have a DataFrame that is only words. Next, let's apply the `wordCount()` function to produce a list of word counts. We can view the first 20 words by using the `show()` action; however, we'd like to see the words in descending order of count, so we'll need to apply the [`orderBy` DataFrame method](http://spark.apache.org/docs/latest/api/python/pyspark.sql.html#pyspark.sql.DataFrame.orderBy) to first sort the DataFrame that is returned from `wordCount()`.\n",
    "\n",
    "You'll notice that many of the words are common English words. These are called stopwords. In a later lab, we will see how to eliminate them from the results."
   ]
  },
  {
   "cell_type": "code",
   "execution_count": 11,
   "metadata": {},
   "outputs": [
    {
     "name": "stdout",
     "output_type": "stream",
     "text": [
      "+----+-----+\n",
      "|word|count|\n",
      "+----+-----+\n",
      "|the |27361|\n",
      "|and |26028|\n",
      "|i   |20681|\n",
      "|to  |19150|\n",
      "|of  |17463|\n",
      "|a   |14593|\n",
      "|you |13615|\n",
      "|my  |12481|\n",
      "|in  |10956|\n",
      "|that|10890|\n",
      "|is  |9134 |\n",
      "|not |8497 |\n",
      "|with|7771 |\n",
      "|me  |7769 |\n",
      "|it  |7678 |\n",
      "|for |7558 |\n",
      "|be  |6857 |\n",
      "|his |6857 |\n",
      "|your|6655 |\n",
      "|this|6602 |\n",
      "+----+-----+\n",
      "only showing top 20 rows\n",
      "\n"
     ]
    }
   ],
   "source": [
    "from pyspark.sql.functions import desc\n",
    "topWordsAndCountsDF = wordCount(shakeWordsDF)\n",
    "# Display the most commonly used words\n",
    "topWordsAndCountsDF.orderBy(col('count').desc()).show(truncate=False)"
   ]
  },
  {
   "cell_type": "code",
   "execution_count": 12,
   "metadata": {},
   "outputs": [
    {
     "name": "stdout",
     "output_type": "stream",
     "text": [
      "+----------+-----+\n",
      "|      word|count|\n",
      "+----------+-----+\n",
      "|       art|  915|\n",
      "|      some| 1337|\n",
      "|     those|  545|\n",
      "|     still|  552|\n",
      "|  painters|    1|\n",
      "|      hope|  354|\n",
      "|    travel|   33|\n",
      "|     cures|    8|\n",
      "|    ransom|   53|\n",
      "|     spoil|   25|\n",
      "|   tresses|    3|\n",
      "|       few|   64|\n",
      "| forgetful|    5|\n",
      "|    harder|   11|\n",
      "|  tripping|    6|\n",
      "| soundness|    1|\n",
      "|    waters|   27|\n",
      "|occidental|    1|\n",
      "|    marrow|    4|\n",
      "|    distil|    4|\n",
      "+----------+-----+\n",
      "only showing top 20 rows\n",
      "\n"
     ]
    }
   ],
   "source": [
    "topWordsAndCountsDF.show()"
   ]
  }
 ],
 "metadata": {
  "kernelspec": {
   "display_name": "Python 2",
   "language": "python",
   "name": "python2"
  },
  "language_info": {
   "codemirror_mode": {
    "name": "ipython",
    "version": 2
   },
   "file_extension": ".py",
   "mimetype": "text/x-python",
   "name": "python",
   "nbconvert_exporter": "python",
   "pygments_lexer": "ipython2",
   "version": "2.7.6"
  }
 },
 "nbformat": 4,
 "nbformat_minor": 2
}
