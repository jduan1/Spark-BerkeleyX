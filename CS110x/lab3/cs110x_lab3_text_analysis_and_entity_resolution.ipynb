{
 "cells": [
  {
   "cell_type": "markdown",
   "metadata": {},
   "source": [
    "<a rel=\"license\" href=\"http://creativecommons.org/licenses/by-nc-nd/4.0/\"><img alt=\"Creative Commons License\" style=\"border-width:0\" src=\"https://i.creativecommons.org/l/by-nc-nd/4.0/88x31.png\" align=\"left\" /></a><br><br/>This work is licensed under a <a rel=\"license\" href=\"http://creativecommons.org/licenses/by-nc-nd/4.0/\">Creative Commons Attribution-NonCommercial-NoDerivatives 4.0 International License</a>."
   ]
  },
  {
   "cell_type": "markdown",
   "metadata": {
    "collapsed": true
   },
   "source": [
    "# ![Spark Logo](http://spark-mooc.github.io/web-assets/images/ta_Spark-logo-small.png) + ![Python Logo](http://spark-mooc.github.io/web-assets/images/python-logo-master-v3-TM-flattened_small.png)"
   ]
  },
  {
   "cell_type": "markdown",
   "metadata": {},
   "source": [
    "# Text Analysis and Entity Resolution \n",
    "Entity resolution is a common, yet difficult problem in data cleaning and integration. This lab will demonstrate how we can use Apache Spark to apply powerful and scalable text analysis techniques and perform entity resolution across two datasets of commercial products.\n",
    "\n",
    "Entity Resolution, or \"[Record linkage](https://en.wikipedia.org/wiki/Record_linkage)\" is the term used by statisticians, epidemiologists, and historians, among others, to describe the process of joining records from one data source with another that describe the same entity. Our terms with the same meaning include, \"entity disambiguation/linking\", \"duplicate detection\", \"deduplication\", \"record matching\", \"(reference) reconciliation\", \"object identification\", \"data/information integration\", and \"conflation\".\n",
    "\n",
    "Entity Resolution (ER) refers to the task of finding records in a dataset that refer to the same entity across different data sources (e.g., data files, books, websites, databases). ER is necessary when joining datasets based on entities that may or may not share a common identifier (e.g., database key, URI, National identification number), as may be the case due to differences in record shape, storage location, and/or curator style or preference. A dataset that has undergone ER may be referred to as being cross-linked."
   ]
  },
  {
   "cell_type": "markdown",
   "metadata": {},
   "source": [
    "## Code\n",
    "This assignment can be completed using basic Python, pySpark transformations and actions, and the plotting library matplotlib. Other libraries are not allowed.\n",
    "\n",
    "### Files\n",
    "Data files for this assignment are from the [metric-learning](https://github.com/spark-mooc/mooc-setup/tree/master/metric-learning) project and can be found at: https://github.com/spark-mooc/cs100-data\n",
    "\n",
    "The directory contains the following files:\n",
    "* **Google.csv**, the Google Products dataset\n",
    "* **Amazon.csv**, the Amazon dataset\n",
    "* **Google_small.csv**, 200 records sampled from the Google data\n",
    "* **Amazon_small.csv**, 200 records sampled from the Amazon data\n",
    "* **Amazon_Google_perfectMapping.csv**, the \"gold standard\" mapping\n",
    "* **stopwords.txt**, a list of common English words\n",
    "\n",
    "Besides the complete data files, there are \"sample\" data files for each dataset - we will use these for **Part 1**. In addition, there is a \"gold standard\" file that contains all of the true mappings between entities in the two datasets. Every row in the gold standard file has a pair of record IDs (one Google, one Amazon) that belong to two records that describe the same thing in the real world. We will use the gold standard to evaluate our algorithms."
   ]
  },
  {
   "cell_type": "markdown",
   "metadata": {},
   "source": [
    "## Part 0: Preliminaries\n",
    "We read in each of the files and create an RDD consisting of lines. For each of the data files (\"Google.csv\", \"Amazon.csv\", and the samples), we want to parse the IDs out of each record. The IDs are the first column of the file (they are URLs for Google, and alphanumeric strings for Amazon). Omitting the headers, we load these data files into pair RDDs where the _mapping ID_ is the key, and the value is a string consisting of the name/title, description, and manufacturer from the record.\n",
    "\n",
    "The file format of an Amazon line is:\n",
    "\n",
    "    \"id\",\"title\",\"description\",\"manufacturer\",\"price\"\n",
    "\n",
    "The file format of a Google line is:\n",
    "\n",
    "    \"id\",\"name\",\"description\",\"manufacturer\",\"price\""
   ]
  },
  {
   "cell_type": "code",
   "execution_count": null,
   "metadata": {
    "collapsed": true
   },
   "outputs": [],
   "source": [
    "import re\n",
    "DATAFILE_PATTERN = '^(.+),\"(.+)\",(.*),(.*),(.*)'\n",
    "\n",
    "def removeQuotes(s):\n",
    "    \"\"\" Remove quotation marks from an input string\n",
    "    Args:\n",
    "        s (str): input string that might have the quote \"\" characters\n",
    "    Returns:\n",
    "        str: a string without the quote characters\n",
    "    \"\"\"\n",
    "    return ''.join(i for i in s if i != '\"')\n",
    "\n",
    "def parseDatafileLine(datafileLine):\n",
    "    \"\"\" Parse a line of the data file using the specified regualr expression pattern\n",
    "    Args:\n",
    "        datafileLine (str): input string that is a line from the data file\n",
    "    Returns:\n",
    "        str: a string parsed using the given regular expression and without the quote characters\n",
    "    \"\"\"\n",
    "    match = re.search(DATAFILE_PATTERN, datafileLine)\n",
    "    if match is None:\n",
    "        print('Invalid datafile line: {0}'.format(datafileLine))\n",
    "        return (datafileLine, -1)\n",
    "    elif match.group(1) == '\"id\"':\n",
    "        print('Header datafile line: {0}'.format(datafileLine))\n",
    "        return (datafileLine, 0)\n",
    "    else:\n",
    "        product = '%s %s %s' % (match.group(2), match.group(3), match.group(4))\n",
    "        return ((removeQuotes(match.group(1)), product), 1)"
   ]
  },
  {
   "cell_type": "code",
   "execution_count": null,
   "metadata": {},
   "outputs": [],
   "source": [
    "import os\n",
    "data_dir = os.path.join('user', 'root', 'lab3')\n",
    "GOOGLE_PATH = 'Google.csv'\n",
    "GOOGLE_SMALL_PATH = 'Google_small.csv'\n",
    "AMAZON_PATH = 'Amazon.csv'\n",
    "AMAZON_SMALL_PATH = 'Amazon_small.csv'\n",
    "GOLD_STANDARD_PATH = 'Amazon_Google_perfectMapping.csv'\n",
    "STOPWORDS_PATH = 'stopwords.txt'\n",
    "\n",
    "def parseData(filename):\n",
    "    \"\"\" Parse a data file\n",
    "    Args:\n",
    "        filename (str): input file name of the data file\n",
    "    Returns:\n",
    "        RDD: an RDD of parsed lines\n",
    "    \"\"\"\n",
    "    return (sc\n",
    "            .textFile(filename, 4, 0)\n",
    "            .map(parseDatafileLine)\n",
    "            .cache())\n",
    "def loadData(path):\n",
    "    \"\"\" Load a data file\n",
    "    Args:\n",
    "        path (str): input file name of the data file\n",
    "    Returns:\n",
    "        RDD: an RDD of parsed valid lines \n",
    "    \"\"\"\n",
    "    filename = 'hdfs:/' + os.path.join(data_dir, path)\n",
    "    raw = parseData(filename).cache()\n",
    "    failed = (raw\n",
    "              .filter(lambda s: s[1] == -1)\n",
    "              .map(lambda s: s[0])\n",
    "              .cache())\n",
    "    for line in failed.take(10):\n",
    "        print('%s - Invalid datafile line: %s' % (path, line))\n",
    "    valid = (raw\n",
    "             .filter(lambda s: s[1] == 1)\n",
    "             .map(lambda s: s[0])\n",
    "             .cache())\n",
    "    print('{0} - Read {1} lines, successfully parse {2} lines, failed to parse {3} lines'\n",
    "          .format(path, raw.count(), valid.count(), failed.count()))\n",
    "    assert failed.count() == 0\n",
    "    assert raw.count() == (valid.count()+1)\n",
    "    return valid\n",
    "\n",
    "googleSmall = loadData(GOOGLE_SMALL_PATH)\n",
    "google = loadData(GOOGLE_PATH)\n",
    "amazonSmall = loadData(AMAZON_SMALL_PATH)\n",
    "amazon = loadData(AMAZON_PATH)"
   ]
  },
  {
   "cell_type": "markdown",
   "metadata": {},
   "source": [
    "Let's examine the lines that were just loaded in the two subset (small) files - one from Google and one from Amazon"
   ]
  },
  {
   "cell_type": "code",
   "execution_count": null,
   "metadata": {},
   "outputs": [],
   "source": [
    "for line in googleSmall.take(3):\n",
    "    print('google: {0}: {1}\\n'.format(line[0], line[1]))\n",
    "\n",
    "for line in amazonSmall.take(3):\n",
    "    print('amazon: {0}: {1}\\n'.format(line[0], line[1]))"
   ]
  },
  {
   "cell_type": "markdown",
   "metadata": {},
   "source": [
    "## Part 1: ER as Text Similarity - Bags of Words\n",
    "A simple approach to entity resolution is to treat all records as strings and compute their similarity with a string distance function. In this part, we will build some components for performing [bag-of-words](https://en.wikipedia.org/wiki/Bag-of-words_model) text-analysis, and then use them to compute record similarity. Bag-of-words is a conceptually simple yet powerful approach to text analysis.\n",
    "\n",
    "The idea is to treat strings, a.k.a. **documents**, as unordered collections of words, or **tokens**, i.e., as bags of words.\n",
    "> **Note on terminology**: a \"token\" is the result of parsing the document down to the elements we consider \"atomic\" for the task at hand. Tokens can be things like words, numbers, acronyms, or other exotica like word-roots or fixed-length character strings. Bag of words techniques all apply to any sort of token, so when we say \"bag-of-words\" we really mean \"bag-of-tokens,\" strictly speaking. Tokens become the atomic unit of text comparison. If we want to compare two documents, we count how many tokens they share in common. If we want to search for documents with keyword queries (this is what Google does), then we turn the keywords into tokens and find documents that contain them. The power of this approach is that it makes string comparisons insensitive to small differences that probably do not affect meaning much, for example, punctuation and word order."
   ]
  },
  {
   "cell_type": "markdown",
   "metadata": {},
   "source": [
    "### (1a) Tokenize a String\n",
    "Implement the function `simpleTokenize(string)` that takes a string and returns a list of non-empty tokens in the string. `simpleTokenize` should split strings using the provided regular expression. Since we want to make token-matching case insensitive, make sure all tokens are turned lower-case. Give an interpretation, in natural language, of what the regular expression, `split_regex`, matches. If you need help with Regular Expressions, try the site [regex101](https://regex101.com/) where you can interactively explore the results of applying different regular expressions to strings. Note that \\W includes the \"\\_\" character. You should use [re.split](https://docs.python.org/2/library/re.html#re.split) to perform the string split. Also, make sure you remove any empty tokens."
   ]
  },
  {
   "cell_type": "code",
   "execution_count": null,
   "metadata": {},
   "outputs": [],
   "source": [
    "quickbrownfox = 'A quick brown fox jumps over the lazy dog.'\n",
    "split_regex = r'\\W+'\n",
    "\n",
    "def simpleTokenize(string):\n",
    "    \"\"\" A simple implementation of input string tokenization\n",
    "    Args:\n",
    "        string (str): input string\n",
    "    Returns:\n",
    "        list: a list of tokens\n",
    "    \"\"\"\n",
    "    return [t for t in re.split(split_regex, string.lower()) if len(t)]\n",
    "\n",
    "#test cases\n",
    "print(simpleTokenize(quickbrownfox))\n",
    "print(simpleTokenize(' '))\n",
    "print(simpleTokenize('!!!!123A/456_B/789C.123A'))\n",
    "print(simpleTokenize('fox fox'))"
   ]
  },
  {
   "cell_type": "markdown",
   "metadata": {},
   "source": [
    "### (1b) Removing Stopwords\n",
    "[_Stopwords_](https://en.wikipedia.org/wiki/Stop_words) are common (English) words that do not contribute much to the content or meaning of a document (e.g., \"the\", \"a\", \"is\", \"to\", etc.). Stopwords add noise to bag-of-words comparisons, so they are usually excluded. Using the included file \"stopwords.txt\", implement tokenize, an improved tokenizer that does not emit stopwords."
   ]
  },
  {
   "cell_type": "code",
   "execution_count": null,
   "metadata": {},
   "outputs": [],
   "source": [
    "stopfile = os.path.join('lab3', STOPWORDS_PATH)\n",
    "stopwords = set(sc.textFile(stopfile).collect())\n",
    "print('These are the stopwords: %s' % stopwords)\n",
    "\n",
    "def tokenize(string):\n",
    "    \"\"\" An implementation of input string tokenization that excludes stopwords\n",
    "    Args:\n",
    "        string (str): input string\n",
    "    Returns:\n",
    "        list: a list of tokens without stopwords\n",
    "    \"\"\"\n",
    "    return [t for t in re.split(split_regex, string.lower()) if len(t) and t not in stopwords]\n",
    "\n",
    "#test cases\n",
    "print(tokenize(quickbrownfox))\n",
    "print(tokenize('Why a the?'))\n",
    "print(tokenize('Being at the_?'))"
   ]
  },
  {
   "cell_type": "markdown",
   "metadata": {},
   "source": [
    "### (1c) Tokenizing the small datasets \n",
    "Now let's tokenize the two small datasets. For each ID in a dataset, tokenize the values, and then count the total number of tokens. How many tokens, total, are there in the two datasets?"
   ]
  },
  {
   "cell_type": "code",
   "execution_count": null,
   "metadata": {},
   "outputs": [],
   "source": [
    "amazonRecToToken = amazonSmall.map(lambda x:(x[0], tokenize(x[1])))\n",
    "googleRecToToken = googleSmall.map(lambda x:(x[0], tokenize(x[1])))\n",
    "\n",
    "def countTokens(vendorRDD):\n",
    "    \"\"\" Count and return the number of tokens\n",
    "    Args:\n",
    "        vendorRDD (RDD of (recordId, tokenizedValue)): Pair tuple of record ID to tokenized output\n",
    "    Returns:\n",
    "        count: count of all tokens\n",
    "    \"\"\"\n",
    "    recordCount = vendorRDD.map(lambda s:len(s[1]))\n",
    "    recordSum = recordCount.reduce(lambda a, b:a+b)\n",
    "    return recordSum\n",
    "\n",
    "totalTokens = countTokens(amazonRecToToken) + countTokens(googleRecToToken)\n",
    "print('There are {0} tokens in the combined datasets'.format(totalTokens))"
   ]
  },
  {
   "cell_type": "markdown",
   "metadata": {},
   "source": [
    "### (1d) Amazon record with the most tokens\n",
    "Which Amazon record has the biggest number of tokens? In other words, you want to sort the records and get the one with the largest count of tokens."
   ]
  },
  {
   "cell_type": "code",
   "execution_count": null,
   "metadata": {},
   "outputs": [],
   "source": [
    "def findBiggestRecord(vendorRDD):\n",
    "    \"\"\" Find and return the record with the largest number of tokens\n",
    "    Args:\n",
    "        vendorRDD (RDD of (recordID, tokens): input Pair Tuple of record ID and tokens)\n",
    "    Returns:\n",
    "        list: a list of 1 Pair Tuple of record ID and tokens\n",
    "    \"\"\"\n",
    "    return (vendorRDD.takeOrdered(1, lambda s: -1 * len(s[1])))\n",
    "\n",
    "biggestRecordAmazon = findBiggestRecord(amazonRecToToken)\n",
    "print('The Amazon record with ID \"{0}\" has the most tokens ({1})'.format(biggestRecordAmazon[0][0], len(biggestRecordAmazon[0][1])))"
   ]
  },
  {
   "cell_type": "markdown",
   "metadata": {},
   "source": [
    "## Part 2: ER as Text Similarity - Weighted Bag-of-Words using TF-IDF"
   ]
  },
  {
   "cell_type": "markdown",
   "metadata": {},
   "source": [
    "Bag-of-words comparisons are not very good when all tokens are treated the same: some tokens are more important than others. Weights give us a way to specify which tokens to favor. With weights, when we compare documents, instead of counting common tokens, we sum up the weights of common tokens. A good heuristic for assigning weights is called \"Term-Frequency/Inverse-Document-Frequency,\" or [TF-IDF](https://en.wikipedia.org/wiki/Tf%E2%80%93idf) for short.\n",
    "### TF: Term Frequency\n",
    "TF rewards tokens that appear many times in the same document. It is computed as the frequency of a token in a document, that is, if document d contains 100 tokens and token t appears in d 5 times, then the TF weight of t in d is 5/100 = 1/20. The intuition for TF is that if a word occurs often in a document, then it is more important to the meaning of the document.\n",
    "\n",
    "### IDF: Inverse-Document-Frequency\n",
    "IDF rewards tokens that are rare overall in a dataset. The intuition is that it is more significant if two documents share a rare word than a common one. IDF weight for a token, t, in a set of documents, U, is computed as follows:\n",
    "* Let N be the total number of documents in U\n",
    "* Find n(t), the number of documents in U that contain t\n",
    "* Then IDF(t) = N/n(t).\n",
    "\n",
    "Note that n(t)/N is the frequency of t in U, and N/n(t) is the inverse frequency.\n",
    ">**Note on terminology**: Sometimes token weights depend on the document the token belongs to, that is, the same token may have a different weight when it's found in different documents. We call these weights local weights. TF is an example of a local weight, because it depends on the length of the source. On the other hand, some token weights only depend on the token, and are the same everywhere that token is found. We call these weights global, and IDF is one such weight.\n",
    "\n",
    "### TF-IDF\n",
    "Finally, to bring it all together, the total TF-IDF weight for a token in a document is the product of its TF and IDF weights."
   ]
  },
  {
   "cell_type": "markdown",
   "metadata": {},
   "source": [
    "### (2a) Implement a TF function\n",
    "Implement `tf(tokens)` that takes a list of tokens and returns a Python [dictionary](https://docs.python.org/2/tutorial/datastructures.html#dictionaries) mapping tokens to TF weights.\n",
    "The steps your function should perform are:\n",
    "* Create an empty Python dictionary\n",
    "* For each of the tokens in the input tokens list, count 1 for each occurrence and add the token to the dictionary\n",
    "* For each of the tokens in the dictionary, divide the token's count by the total number of tokens in the input tokens list"
   ]
  },
  {
   "cell_type": "code",
   "execution_count": null,
   "metadata": {},
   "outputs": [],
   "source": [
    "def tf(tokens):\n",
    "    \"\"\" Compute TF\n",
    "    Args:\n",
    "        tokens (list of str): input list of tokens from tokenize\n",
    "    Returns:\n",
    "        dictionary: a dictionary of tokens to its TF values\n",
    "    \"\"\"\n",
    "    counts = {}\n",
    "    length = len(tokens)\n",
    "    for t in tokens:\n",
    "        counts.setdefault(t, 0.0)\n",
    "        counts[t] += 1\n",
    "    return {t:counts[t]/length for t in counts}\n",
    "\n",
    "#test cases\n",
    "print(tf(tokenize(quickbrownfox)))\n",
    "print(tf(tokenize('one_ One_ two!')))"
   ]
  },
  {
   "cell_type": "markdown",
   "metadata": {},
   "source": [
    "### (2b) Create a corpus\n",
    "Create a pair RDD called `corpusRDD`, consisting of a combination of the two small datasets, `amazonRecToToken` and `googleRecToToken`. Each element of the `corpusRDD` should be a pair consisting of a key from one of the small datasets (ID or URL) and the value is the associated value for that key from the small datasets."
   ]
  },
  {
   "cell_type": "code",
   "execution_count": null,
   "metadata": {
    "collapsed": true
   },
   "outputs": [],
   "source": [
    "corpusRDD = amazonRecToToken.union(googleRecToToken)"
   ]
  },
  {
   "cell_type": "markdown",
   "metadata": {},
   "source": [
    "### (2c) Implement a IDF function\n",
    "Implement `idfs` that assigns an IDF weight to every unique token in an RDD called `corpus`. The function should return an pair RDD where the `key` is the unique token and value is the IDF weight for the token.\n",
    "\n",
    "Recall that the IDF weight for a token, t, in a set of documents, U, is computed as follows:\n",
    "* Let N be the total number of documents in U.\n",
    "* Find n(t), the number of documents in U that contain t.\n",
    "* Then IDF(t) = N/n(t).\n",
    "\n",
    "The steps your function should perform are:\n",
    "* Calculate N. Think about how you can calculate N from the input RDD.\n",
    "* Create an RDD (not a pair RDD) containing the unique tokens from each document in the input `corpus`. For each document, you should only include a token once, even if it appears multiple times in that document.\n",
    "* For each of the unique tokens, count how many times it appears in the document and then compute the IDF for that token: N/n(t)\n",
    "\n",
    "Use your `idfs` to compute the IDF weights for all tokens in `corpusRDD` (the combined small datasets). How many unique tokens are there?"
   ]
  },
  {
   "cell_type": "code",
   "execution_count": null,
   "metadata": {},
   "outputs": [],
   "source": [
    "def idfs(corpus):\n",
    "    \"\"\" Compute IDF\n",
    "    Args:\n",
    "        corpus (RDD): input corpus\n",
    "    Returns:\n",
    "        RDD: an RDD of (token, IDF value)\n",
    "    \"\"\"\n",
    "    N = float(corpus.count())\n",
    "    uniqueTokens = corpus.flatMap(lambda s: set(s[1]))\n",
    "    tokenCountPairTuple = uniqueTokens.map(lambda s: (s,1))\n",
    "    tokenSumPairTuple = tokenCountPairTuple.reduceByKey(lambda x, y: x+y)\n",
    "    return (tokenSumPairTuple.map(lambda s: (s[0], float(N/s[1]))))\n",
    "\n",
    "idfsSmall = idfs(amazonRecToToken.union(googleRecToToken))\n",
    "uniqueTokenCount = idfsSmall.count()\n",
    "\n",
    "print('There are {0} unique tokens in the small datasets.'.format(uniqueTokenCount))\n",
    "\n",
    "tokenSmallestIdf = idfsSmall.takeOrdered(1, lambda s: s[1])[0]\n",
    "print(tokenSmallestIdf[0])\n",
    "print(tokenSmallestIdf[1])"
   ]
  },
  {
   "cell_type": "markdown",
   "metadata": {},
   "source": [
    "### (2d) Tokens with the smallest IDF\n",
    "Print out the 11 tokens with the smallest IDF in the combined small dataset."
   ]
  },
  {
   "cell_type": "code",
   "execution_count": null,
   "metadata": {},
   "outputs": [],
   "source": [
    "smallIDFTokens = idfsSmall.takeOrdered(11, lambda s: s[1])\n",
    "print(smallIDFTokens)"
   ]
  },
  {
   "cell_type": "markdown",
   "metadata": {},
   "source": [
    "### (2e) IDF Histogram\n",
    "Plot a histogram of IDF values. Be sure to use appropriate scaling and bucketing for the data. First plot the histogram using matplotlib\n"
   ]
  },
  {
   "cell_type": "code",
   "execution_count": null,
   "metadata": {},
   "outputs": [],
   "source": [
    "from matplotlib import pyplot as plt\n",
    "%matplotlib inline\n",
    "small_idf_values = idfsSmall.map(lambda s: s[1]).collect()\n",
    "fig = plt.figure(figsize=(8,3))\n",
    "plt.hist(small_idf_values, 50, log=True)\n",
    "fig.show()"
   ]
  },
  {
   "cell_type": "code",
   "execution_count": null,
   "metadata": {},
   "outputs": [],
   "source": [
    "from pyspark.sql import Row\n",
    "\n",
    "idfsToCountRow = idfsSmall.map(lambda (x,y):(x,y))\n",
    "idfsToCountDF = sqlContext.createDataFrame(idfsToCountRow, ('token', 'value'))\n",
    "idfsToCountDF.show()"
   ]
  },
  {
   "cell_type": "markdown",
   "metadata": {},
   "source": [
    "### (2f) Implement a TF-IDF function\n",
    "Use your `tf` function to implement a `tfidf(tokens, idfs)` function that takes a list of tokens from a document and a Python dictionary of IDF weights and returns a Python dictionary mapping individual tokens to total TF-IDF weights.\n",
    "The steps your function should perform are:\n",
    "* Calculate the token frequencies (TF) for `tokens`\n",
    "* Create a Python dictionary where each token maps to the token's frequency times the token's IDF weight\n",
    "\n",
    "Use your `tfidf` function to compute the weights of Amazon product record 'b000hkgj8k'. To do this, we need to extract the record for the token from the tokenized small Amazon dataset and we need to convert the IDFs for the small dataset into a Python dictionary. We can do the first part, by using a `filter()` transformation to extract the matching record and a `collect()` action to return the value to the driver.\n",
    "\n",
    "For the second part, we use the [`collectAsMap()` action](http://spark.apache.org/docs/latest/api/python/pyspark.html#pyspark.RDD.collectAsMap) to return the IDFs to the driver as a Python dictionary."
   ]
  },
  {
   "cell_type": "code",
   "execution_count": null,
   "metadata": {},
   "outputs": [],
   "source": [
    "def tfidf(tokens, idfs):\n",
    "    \"\"\" Compute TF-IDF\n",
    "    Args:\n",
    "        tokens (list of str): inputlist of tokens from tokenize\n",
    "        idfs (dictionary): record to IDF value\n",
    "    Returns:\n",
    "        dictionary: a dictionary of records to TF-IDF values\n",
    "    \"\"\"\n",
    "    tfs = tf(tokens)\n",
    "    tfIdfDict = {t: tfs[t] * idfs[t] for t in tfs}\n",
    "    return tfIdfDict\n",
    "\n",
    "recb000hkgj8k = amazonRecToToken.filter(lambda x: x[0] == 'b000hkgj8k').collect()[0][1]\n",
    "idfsSmallWeights = idfsSmall.collectAsMap()\n",
    "rec_b000hkgj8k_weights = tfidf(recb000hkgj8k, idfsSmallWeights)\n",
    "print('Amazon record \"b000hkgj8k\" has tokens and weights:\\n{0}'.format(rec_b000hkgj8k_weights))"
   ]
  },
  {
   "cell_type": "markdown",
   "metadata": {},
   "source": [
    "## Part 3: ER as Text Similarity - Cosine Similarity"
   ]
  },
  {
   "cell_type": "markdown",
   "metadata": {},
   "source": [
    "Now we are ready to do text comparisons in a formal way. The metric of string distance we will use is called [cosine similarity](https://en.wikipedia.org/wiki/Cosine_similarity). We will treat each document as a vector in some high dimensional space. Then, to compare two documents we compute the cosine of the angle between their two document vectors. This is much easier than it sounds.\n",
    "\n",
    "The first question to answer is how do we represent documents as vectors? The answer is familiar: bag-of-words! We treat each unique token as a dimension, and treat token weights as magnitudes in their respective token dimensions. For example, suppose we use simple counts as weights, and we want to interpret the string \"Hello, world! Goodbye, world!\" as a vector. Then in the \"hello\" and \"goodbye\" dimensions the vector has value 1, in the \"world\" dimension it has value 2, and it is zero in all other dimensions.\n",
    "\n",
    "The next question is: given two vectors how do we find the cosine of the angle between them? Recall the formula for the dot product of two vectors:\n",
    "\\begin{equation}\n",
    "a\\cdot b=|a||b|\\cos\\theta\n",
    "\\end{equation}\n",
    "Here $a\\cdot b=\\sum a_ib_i$ is the ordinary dot product of two vectors, and $|a| = \\sqrt{ \\sum a_i^2 }$ is the norm of $a$.\n",
    "\n",
    "We can rearrange terms and solve for the cosine to find it is simply the normalized dot product of the vectors. With our vector model, the dot product and norm computations are simple functions of the bag-of-words document representations, so we now have a formal way to compute similarity:\n",
    "\\begin{equation}\n",
    "\\text{similarity}=\\cos(\\theta)=\\frac{a\\cdot b}{|a||b|}=\\frac{\\sum a_ib_i}{\\sqrt{\\sum a_i^2}\\sqrt{\\sum b_i^2}}\n",
    "\\end{equation}\n",
    "Setting aside the algebra, the geometric interpretation is more intuitive. The angle between two document vectors is small if they share many tokens in common, because they are pointing in roughly the same direction. For that case, the cosine of the angle will be large. Otherwise, if the angle is large (and they have few words in common), the cosine is small. Therefore, cosine similarity scales proportionally with our intuitive sense of similarity."
   ]
  },
  {
   "cell_type": "markdown",
   "metadata": {},
   "source": [
    "### (3a) Implement the components of a `cosineSimilarity` function\n",
    "Implement the components of a cosineSimilarity function. Use the `tokenize` and `tfidf` functions, and the IDF weights from Part 2 for extracting tokens and assigning them weights. The steps you should perform are:\n",
    "* Define a function `dotprod` that takes two Python dictionaries and produces the dot product of them, where the dot product is defined as the sum of the product of values for tokens that appear in both dictionaries\n",
    "* Define a function `norm` that returns the square root of the dot product of a dictionary and itself\n",
    "* Define a function `cossim` that returns the dot product of two dictionaries divided by the norm of the first dictionary and then by the norm of the second dictionary"
   ]
  },
  {
   "cell_type": "code",
   "execution_count": null,
   "metadata": {},
   "outputs": [],
   "source": [
    "import math\n",
    "\n",
    "def dotprod(a, b):\n",
    "    \"\"\" Compute dot product\n",
    "    Args:\n",
    "        a (dictionary): first dictionary of record to value\n",
    "        b (dictionary): second dictionary of record to value\n",
    "    Returns:\n",
    "        dotProd: result of the dot product with the tow input dictionaries\n",
    "    \"\"\"\n",
    "    return sum([a[t] * b[t] for t in a if t in b])\n",
    "\n",
    "def norm(a):\n",
    "    \"\"\" Compute square root of the dot product\n",
    "    Args:\n",
    "        a (dictionary): a dictionary of record to value\n",
    "    Returns:\n",
    "        norm (float): the square root of the dot product value\n",
    "    \"\"\"\n",
    "    return math.sqrt(dotprod(a, a))\n",
    "\n",
    "def cossim(a,b):\n",
    "    \"\"\" Compute cosine similarity\n",
    "    Args:\n",
    "        a (dictionary): first dictionary of record to value\n",
    "        b (dictionary): second dictionary of record to value\n",
    "    Returns:\n",
    "        cossim (float): cosine similarity\n",
    "    \"\"\"\n",
    "    return dotprod(a, b) / (norm(a) * norm(b))\n",
    "\n",
    "# test cases\n",
    "testVec1 = {1:2, 2:3, 3:5}\n",
    "testVec2 = {1:1, 2:0, 3:20}\n",
    "dp = dotprod(testVec1, testVec2)\n",
    "nm = norm(testVec1)\n",
    "print(dp, nm)"
   ]
  },
  {
   "cell_type": "markdown",
   "metadata": {},
   "source": [
    "### (3b) Implement a `cosineSimilarity` function \n",
    "Implement a `cosineSimilarity(string1, string2, idfsDictionary)` function that takes two strings and a dictionary of IDF weights, and computes their cosine similarity in the context of some global IDF weights.\n",
    "\n",
    "The steps you should perform are:\n",
    "* Apply your `tfidf` function to the tokenized first and second strings, using the dictionary of IDF weights\n",
    "* Compute and return your `cossim` function applied to the results of the two `tfidf` functions"
   ]
  },
  {
   "cell_type": "code",
   "execution_count": null,
   "metadata": {},
   "outputs": [],
   "source": [
    "def cosineSimilarity(string1, string2, idfsDictionary):\n",
    "    \"\"\" Compute cosine similarity between two strings\n",
    "    Args:\n",
    "        string1 (str): first string\n",
    "        string2 (str): second string\n",
    "        idfsDictionary (dictionary): a dictionary of IDF values\n",
    "    Returns:\n",
    "        cossim (float): cosine similarity value\n",
    "    \"\"\"\n",
    "    w1 = tfidf(tokenize(string1), idfsDictionary)\n",
    "    w2 = tfidf(tokenize(string2), idfsDictionary)\n",
    "    return cossim(w1, w2)\n",
    "\n",
    "# test case\n",
    "cossimAdobe = cosineSimilarity('Adobe Photoshop',\n",
    "                               'Adobe Illustrator',\n",
    "                               idfsSmallWeights)\n",
    "print(cossimAdobe)"
   ]
  },
  {
   "cell_type": "markdown",
   "metadata": {},
   "source": [
    "### (3c) Perform Entity Resolution\n",
    "Now we can finally do some entity resolution! For every product record in the small Google dataset, use your `cosineSimilarity` function to compute its similarity to every record in the small Amazon dataset. Then, build a dictionary mapping `(Google URL, Amazon ID)` tuples to similarity scores between 0 and 1. We'll do this computation two different ways, first we'll do it without a broadcast variable, and then we'll use a broadcast variable\n",
    "\n",
    "The steps you should perform are:\n",
    "* Create an RDD that is a combination of the small Google and small Amazon datasets that has as elements all pairs of elements (a, b) where a is in self and b is in other. The result will be an RDD of the form: \n",
    "\n",
    "```\n",
    "[ ((Google URL1, Google String1), (Amazon ID1, Amazon String1)), ((Google URL1, Google String1), (Amazon ID2, Amazon String2)), ((Google URL2, Google String2), (Amazon ID1, Amazon String1)), ... ]\n",
    "```\n",
    "* Define a worker function that given an element from the combination RDD computes the cosineSimlarity for the two records in the element\n",
    "* Apply the worker function to every element in the RDD\n",
    "\n",
    "Now, compute the similarity between Amazon record `b000o24l3q` and Google record `http://www.google.com/base/feeds/snippets/17242822440574356561`.\n",
    "\n",
    "**Hint**: Use Spark's [cartesian](https://spark.apache.org/docs/2.1.0/api/python/pyspark.html#pyspark.RDD.cartesian) method."
   ]
  },
  {
   "cell_type": "code",
   "execution_count": null,
   "metadata": {},
   "outputs": [],
   "source": [
    "crossSmall = (googleSmall\n",
    "              .cartesian(amazonSmall)\n",
    "              .cache())\n",
    "def computeSimilarity(record):\n",
    "    \"\"\" Compute similarity on a combination record\n",
    "    Args:\n",
    "        record: a pair, (google record, amazon record)\n",
    "    Returns:\n",
    "        pair: a pair, (google URL, amazon ID, cosine similarity value)\n",
    "    \"\"\"\n",
    "    googleRec = record[0]\n",
    "    amazonRec = record[1]\n",
    "    googleURL = googleRec[0]\n",
    "    amazonID = amazonRec[0]\n",
    "    googleValue = googleRec[1]\n",
    "    amazonValue = amazonRec[1]\n",
    "    cs = cosineSimilarity(googleValue, amazonValue, idfsSmallWeights)\n",
    "    return (googleURL, amazonID, cs)\n",
    "\n",
    "similarities = (crossSmall\n",
    "                .map(computeSimilarity)\n",
    "                .cache())\n",
    "\n",
    "def similar(amazonID, googleURL):\n",
    "    \"\"\" Return similarity value\n",
    "    Args:\n",
    "        amazonID: amazon ID\n",
    "        googleURL: google URL\n",
    "    Returns:\n",
    "        similar: cosine similarity value\n",
    "    \"\"\"\n",
    "    return (similarities\n",
    "            .filter(lambda record: (record[0] == googleURL and record[1] == amazonID))\n",
    "            .collect()[0][2])\n",
    "\n",
    "similarityAmazonGoogle = similar('b000o24l3q', 'http://www.google.com/base/feeds/snippets/17242822440574356561')\n",
    "print('Requested similarity is {0}'.format(similarityAmazonGoogle))"
   ]
  },
  {
   "cell_type": "markdown",
   "metadata": {},
   "source": [
    "### (3d) Perform Entity Resolution with Broadcast Variables\n",
    "The solution in (3c) works well for small datasets, but it requires Spark to (automatically) send the `idfsSmallWeights` variable to all the workers. If we didn't `cache()` similarities, then it might have to be recreated if we run `similar()` multiple times. This would cause Spark to send `idfsSmallWeights` every time.\n",
    "\n",
    "Instead, we can use a broadcast variable - we define the broadcast variable in the driver and then we can refer to it in each worker. Spark saves the broadcast variable at each worker, so it is only sent once.\n",
    "\n",
    "The steps you should perform are:\n",
    "* Define a `computeSimilarityBroadcast` function that given an element from the combination RDD computes the cosine simlarity for the two records in the element. This will be the same as the worker function `computeSimilarity` in (3c) except that it uses a broadcast variable.\n",
    "* Apply the worker function to every element in the RDD\n",
    "Again, compute the similarity between Amazon record `b000o24l3q` and Google record `http://www.google.com/base/feeds/snippets/17242822440574356561`."
   ]
  },
  {
   "cell_type": "code",
   "execution_count": null,
   "metadata": {},
   "outputs": [],
   "source": [
    "def computeSimilarityBroadcast(record):\n",
    "    \"\"\" Compute similarity on a combination record, using Broadcast variable\n",
    "    Args:\n",
    "        record: a pair, (google record, amazon record)\n",
    "    Returns:\n",
    "        pair: a pair, (google URL, amazon ID, cosine similarity value)\n",
    "    \"\"\"\n",
    "    googleRec = record[0]\n",
    "    amazonRec = record[1]\n",
    "    googleURL = googleRec[0]\n",
    "    amazonID = amazonRec[0]\n",
    "    googleValue = googleRec[1]\n",
    "    amazonValue = amazonRec[1]\n",
    "    cs = cosineSimilarity(googleValue, amazonValue, idfsSmallBroadcast.value)\n",
    "    return (googleURL, amazonID, cs)\n",
    "\n",
    "idfsSmallBroadcast = sc.broadcast(idfsSmallWeights)\n",
    "similaritiesBroadcast = (crossSmall\n",
    "                         .map(computeSimilarityBroadcast)\n",
    "                         .cache())\n",
    "\n",
    "def similarBoradcast(amazonID, googleURL):\n",
    "    \"\"\" Return similarity value, computed using Broadcast variable\n",
    "    Args:\n",
    "        amazonID: amazon ID\n",
    "        googleURL: google URL\n",
    "    Returns:\n",
    "        similar: cosine similarity\n",
    "    \"\"\"\n",
    "    return (similaritiesBroadcast\n",
    "            .filter(lambda record: record[0] == googleURL and record[1] == amazonID)\n",
    "            .collect()[0][2])\n",
    "similarityAmazonGoolgeBroadcast = similarBoradcast('b000o24l3q', 'http://www.google.com/base/feeds/snippets/17242822440574356561')\n",
    "print('Requested similarity is {0}'.format(similarityAmazonGoolgeBroadcast))"
   ]
  },
  {
   "cell_type": "markdown",
   "metadata": {},
   "source": [
    "### (3e) Perform a Gold Standard Evaluation\n",
    "First, we'll load the \"gold standard\" data and use it to answer several questions. We read and parse the Gold Standard data, where the format of each line is \"Amazon Product ID\",\"Google URL\". The resulting RDD has elements of the form (\"AmazonID GoogleURL\", 'gold')"
   ]
  },
  {
   "cell_type": "code",
   "execution_count": null,
   "metadata": {},
   "outputs": [],
   "source": [
    "GOLDFILE_PATTERN = '^(.+),(.+)'\n",
    "\n",
    "def parse_goldfile_line(goldfile_line):\n",
    "    \"\"\" Parse a line from the 'golden standard' data file\n",
    "    Args:\n",
    "        goldfile_line: a line of data\n",
    "    Returns:\n",
    "        pair: ((key, 'gold'), 1 if successful or else 0))\n",
    "    \"\"\"\n",
    "    match = re.search(GOLDFILE_PATTERN, goldfile_line)\n",
    "    if match is None:\n",
    "        print('Invalid goldfile line: {0}'.format(goldfile_line))\n",
    "        return (goldfile_line, -1)\n",
    "    elif match.group(1) == '\"idAmazon\"':\n",
    "        print('Header datafile line: {0}'.format(goldfile_line))\n",
    "        return (goldfile_line, 0)\n",
    "    else:\n",
    "        key = '{0} {1}'.format(removeQuotes(match.group(1)), removeQuotes(match.group(2)))\n",
    "        return ((key, 'gold'), 1)\n",
    "    \n",
    "goldfile = os.path.join('lab3', GOLD_STANDARD_PATH)\n",
    "gsRaw = (sc\n",
    "         .textFile(goldfile)\n",
    "         .map(parse_goldfile_line)\n",
    "         .cache())\n",
    "gsFailed = (gsRaw\n",
    "            .filter(lambda s: s[1] == -1)\n",
    "            .map(lambda s: s[0]))\n",
    "for line in gsFailed.take(10):\n",
    "    print('Invalid goldfile line: {0}'.format(line))\n",
    "\n",
    "goldStandard = (gsRaw\n",
    "                .filter(lambda s: s[1] == 1)\n",
    "                .map(lambda s: s[0])\n",
    "                .cache())\n",
    "\n",
    "print('Read {0} lines, successfully parsed {1} lines, failed to parse {2} lines'.format(gsRaw.count(),\n",
    "                                                                                        goldStandard.count(),\n",
    "                                                                                        gsFailed.count()))\n",
    "assert gsFailed.count() == 0\n",
    "assert gsRaw.count() == (goldStandard.count()+1)"
   ]
  },
  {
   "cell_type": "markdown",
   "metadata": {},
   "source": [
    "### Using the \"gold standard\" data we can answer the following questions:\n",
    "* How many true duplicate pairs are there in the small datasets?\n",
    "* What is the average similarity score for true duplicates?\n",
    "* What about for non-duplicates? The steps you should perform are:\n",
    "* Create a new `sims` RDD from the `similaritiesBroadcast` RDD, where each element consists of a pair of the form (\"AmazonID GoogleURL\", cosineSimilarityScore). An example entry from `sims` is: `('b000bi7uqs http://www.google.com/base/feeds/snippets/18403148885652932189', 0.40202896125621296)`\n",
    "* Combine the `sims` RDD with the `goldStandard` RDD by creating a new `trueDupsRDD` RDD that has the just the cosine similarity scores for those \"AmazonID GoogleURL\" pairs that appear in both the sims RDD and `goldStandard RDD`. Hint: you can do this using the `join()` transformation.\n",
    "* Count the number of true duplicate pairs in the `trueDupsRDD` dataset\n",
    "* Compute the average similarity score for true duplicates in the `trueDupsRDD` datasets. Remember to use `float` for calculation\n",
    "* Create a new `nonDupsRDD` RDD that has the just the cosine similarity scores for those \"AmazonID GoogleURL\" pairs from the `similaritiesBroadcast` RDD that **do not** appear in both the `sims` RDD and gold standard RDD.\n",
    "* Compute the average similarity score for non-duplicates in the last datasets. Remember to use `float` for calculation"
   ]
  },
  {
   "cell_type": "code",
   "execution_count": null,
   "metadata": {},
   "outputs": [],
   "source": [
    "sims = similaritiesBroadcast.map(lambda x:('{0} {1}'.format(x[1], x[0]), x[2]))\n",
    "\n",
    "trueDupsRDD = (sims\n",
    "               .join(goldStandard)\n",
    "               .map(lambda x: x[1][0]))\n",
    "trueDupsCount = trueDupsRDD.count()\n",
    "avgSimDups = float(trueDupsRDD.reduce(lambda x, y : x + y)) / float(trueDupsCount)\n",
    "\n",
    "nonDupsRDD = (sims\n",
    "              .leftOuterJoin(goldStandard)\n",
    "              .filter(lambda x: x[1][1] is None)\n",
    "              .map(lambda a: a[1][0]))\n",
    "avgSimNon = float(nonDupsRDD.reduce(lambda a, b : a + b)) / float(sims.count() - trueDupsCount)\n",
    "print('There are {0} true duplicates.'.format(trueDupsCount))\n",
    "print('The average similarity of true duplicates is {0}'.format(avgSimDups))\n",
    "print('And for non duplicates it is {0}'.format(avgSimNon))"
   ]
  },
  {
   "cell_type": "markdown",
   "metadata": {
    "collapsed": true
   },
   "source": [
    "## Part 4: Scalable ER\n",
    "In the previous parts, we built a text similarity function and used it for small scale entity resolution. Our implementation is limited by its quadratic run time complexity, and is not practical for even modestly sized datasets. In this part, we will implement a more scalable algorithm and use it to do entity resolution on the full dataset."
   ]
  },
  {
   "cell_type": "markdown",
   "metadata": {},
   "source": [
    "### Inverted Indices\n",
    "To improve our ER algorithm from the earlier parts, we should begin by analyzing its running time. In particular, the algorithm above is quadratic in two ways. First, we did a lot of redundant computation of tokens and weights, since each record was reprocessed every time it was compared. Second, we made quadratically many token comparisons between records.\n",
    "\n",
    "The first source of quadratic overhead can be eliminated with precomputation and look-up tables, but the second source is a little more tricky. In the worst case, every token in every record in one dataset exists in every record in the other dataset, and therefore every token makes a non-zero contribution to the cosine similarity. In this case, token comparison is unavoidably quadratic.\n",
    "\n",
    "But in reality most records have nothing (or very little) in common. Moreover, it is typical for a record in one dataset to have at most one duplicate record in the other dataset (this is the case assuming each dataset has been de-duplicated against itself). In this case, the output is linear in the size of the input and we can hope to achieve linear running time.\n",
    "\n",
    "An [**inverted index**](https://en.wikipedia.org/wiki/Inverted_index) is a data structure that will allow us to avoid making quadratically many token comparisons. It maps each token in the dataset to the list of documents that contain the token. So, instead of comparing, record by record, each token to every other token to see if they match, we will use inverted indices to look up records that match on a particular token.\n",
    "\n",
    "> **Note on terminology**: In text search, a _forward_ index maps documents in a dataset to the tokens they contain. An inverted index supports the inverse mapping.\n",
    "\n",
    "> **Note**: For this section, use the complete Google and Amazon datasets, not the samples"
   ]
  },
  {
   "cell_type": "markdown",
   "metadata": {},
   "source": [
    "### (4a) Tokenize the full dataset\n",
    "Tokenize each of the two full datasets for Google and Amazon."
   ]
  },
  {
   "cell_type": "code",
   "execution_count": null,
   "metadata": {},
   "outputs": [],
   "source": [
    "amazonFullRecToToken = amazon.map(lambda s: (s[0], tokenize(s[1])))\n",
    "googleFullRecToToken = google.map(lambda s: (s[0], tokenize(s[1])))\n",
    "print('Amazon full dataset is {0} products, Google full dataset is {1} products'.format(amazonFullRecToToken.count(), googleFullRecToToken.count()))"
   ]
  },
  {
   "cell_type": "markdown",
   "metadata": {},
   "source": [
    "### (4b) Compute IDFs and TF-IDFs for the full datasets\n",
    "We will reuse your code from above to compute IDF weights for the complete combined datasets. The steps you should perform are:\n",
    "* Create a new `fullCorpusRDD` that contains the tokens from the full Amazon and Google datasets.\n",
    "* Apply your `idfs` function to the `fullCorpusRDD`\n",
    "* Create a broadcast variable containing a dictionary of the IDF weights for the full dataset.\n",
    "* For each of the Amazon and Google full datasets, create weight RDDs that map IDs/URLs to TF-IDF weighted token vectors."
   ]
  },
  {
   "cell_type": "code",
   "execution_count": null,
   "metadata": {},
   "outputs": [],
   "source": [
    "fullCorpusRDD = amazonFullRecToToken.union(googleFullRecToToken)\n",
    "idfsFull = idfs(fullCorpusRDD)\n",
    "idfsFullCount = idfsFull.count()\n",
    "print('There are {0} unique tokens in the full dataset'.format(idfsFullCount))\n",
    "\n",
    "# Recompute IDFs for full dataset\n",
    "idfsFullWeights = idfsFull.collectAsMap()\n",
    "idfsFullBroadcast = sc.broadcast(idfsFullWeights)\n",
    "\n",
    "# Pre-compute TF-IDF weights. Build mappings fro record ID weight vector\n",
    "amazonWeightsRDD = amazonFullRecToToken.map(lambda x: (x[0], tfidf(x[1], idfsFullBroadcast.value)))\n",
    "googleWeightsRDD = googleFullRecToToken.map(lambda x: (x[0], tfidf(x[1], idfsFullBroadcast.value)))\n",
    "print('There are {0} Amazon weights and {1} Google weights.'.format(amazonWeightsRDD.count(), googleWeightsRDD.count()))"
   ]
  },
  {
   "cell_type": "markdown",
   "metadata": {},
   "source": [
    "### (4c) Compute Norms for the weights from the full datasets \n",
    "We will reuse your code from above to compute norms of the IDF weights for the complete combined dataset. The steps you should perform are:\n",
    "* Create two collections, one for each of the full Amazon and Google datasets, where IDs/URLs map to the norm of the associated TF-IDF weighted token vectors.\n",
    "* Convert each collection into a broadcast variable, containing a dictionary of the norm of IDF weights for the full dataset"
   ]
  },
  {
   "cell_type": "code",
   "execution_count": null,
   "metadata": {},
   "outputs": [],
   "source": [
    "amazonNorms = amazonWeightsRDD.map(lambda x: (x[0], norm(x[1]))).collectAsMap()\n",
    "amazonNormsBroadcast = sc.broadcast(amazonNorms)\n",
    "googleNorms = googleWeightsRDD.map(lambda x: (x[0], norm(x[1]))).collectAsMap()\n",
    "googleNormsBroadcast = sc.broadcast(googleNorms)\n",
    "print('There are {0} Amazon norms and {1} Google norms'.format(len(amazonNorms), len(googleNorms)))"
   ]
  },
  {
   "cell_type": "markdown",
   "metadata": {},
   "source": [
    "### (4d) Create inverted indices from the full datasets\n",
    "Build inverted indices of both data sources. The steps you should perform are:\n",
    "* Create an invert function that given a pair of (ID/URL, TF-IDF weighted token vector), returns a list of pairs of (token, ID/URL). Recall that the TF-IDF weighted token vector is a Python dictionary with keys that are tokens and values that are weights.\n",
    "* Use your invert function to convert the full Amazon and Google TF-IDF weighted token vector datasets into two RDDs where each element is a pair of a token and an ID/URL that contain that token. These are inverted indices."
   ]
  },
  {
   "cell_type": "code",
   "execution_count": null,
   "metadata": {},
   "outputs": [],
   "source": [
    "def invert(record):\n",
    "    \"\"\" Invert (ID, tokens) to a list of (token, ID)\n",
    "    Args:\n",
    "        record: a pair, (ID, token vector)\n",
    "    Returns:\n",
    "        pairs: a list of pairs of token to ID\n",
    "    \"\"\"\n",
    "    rId = record[0]\n",
    "    vec = record[1]\n",
    "    pairs = [(tok, rId) for tok in vec]\n",
    "    return (pairs)\n",
    "\n",
    "amazonInvPairsRDD = (amazonWeightsRDD\n",
    "                     .flatMap(invert)\n",
    "                     .cache())\n",
    "googleInvPairsRDD = (googleWeightsRDD\n",
    "                     .flatMap(invert)\n",
    "                     .cache())\n",
    "print('There are {0} Amazon inverted pairs and {1} Google inverted pairs'.format(amazonInvPairsRDD.count(), googleInvPairsRDD.count()))"
   ]
  },
  {
   "cell_type": "markdown",
   "metadata": {},
   "source": [
    "### (4e) Identify common tokens from the full dataset\n",
    "We are now in position to efficiently perform ER on the full datasets. Implement the following algorithm to build an RDD that maps a pair of (ID, URL) to a list of tokens they share in common:\n",
    "* Using the two inverted indices (RDDs where each element is a pair of a token and an ID or URL that contains that token), create a new RDD that contains only tokens that appear in both datasets. This will yield an RDD of pairs of (token, iterable(ID, URL)).\n",
    "* We need a mapping from (ID, URL) to token, so create a function that will swap the elements of the RDD you just created to create this new RDD consisting of ((ID, URL), token) pairs.\n",
    "* Finally, create an RDD consisting of pairs mapping (ID, URL) to all the tokens the pair shares in common"
   ]
  },
  {
   "cell_type": "code",
   "execution_count": null,
   "metadata": {},
   "outputs": [],
   "source": [
    "def swap(record):\n",
    "    \"\"\" Swap (token, (ID, URL)) to ((ID, URL), token)\n",
    "    Args:\n",
    "        record: a pair, (token, (ID, URL))\n",
    "    Returns:\n",
    "        pair: ((ID, URL), token)\n",
    "    \"\"\"\n",
    "    token = record[0]\n",
    "    keys = record[1]\n",
    "    return (keys, token)\n",
    "\n",
    "commonTokens = (amazonInvPairsRDD\n",
    "                .join(googleInvPairsRDD)\n",
    "                .map(swap)\n",
    "                .groupByKey()\n",
    "                .map(lambda rec: (rec[0], list(rec[1])))\n",
    "                .cache())\n",
    "print('Found {0} common tokens'.format(commonTokens.count()))\n"
   ]
  },
  {
   "cell_type": "markdown",
   "metadata": {},
   "source": [
    "### (4f) Identify common tokens from the full dataset\n",
    "Use the data structures from parts `(4a)` and `(4e)` to build a dictionary to map record pairs to cosine similarity scores. The steps you should perform are:\n",
    "* Create two broadcast dictionaries from the amazonWeights and googleWeights RDDs\n",
    "* Create a `fastCosinesSimilarity` function that takes in a record consisting of the pair ((Amazon ID, Google URL), tokens list) and computes the sum for each of the tokens in the token list of the products of the Amazon weight for the token times the Google weight for the token. The sum should then be divided by the norm for the Google URL and then divided by the norm for the Amazon ID. The function should return this value in a pair with the key being the (Amazon ID, Google URL). Make sure you use broadcast variables you created for both the weights and norms\n",
    "* Apply your `fastCosinesSimilarity` function to the common tokens from the full dataset"
   ]
  },
  {
   "cell_type": "code",
   "execution_count": null,
   "metadata": {},
   "outputs": [],
   "source": [
    "amazonWeightsBroadcast = sc.broadcast(amazonWeightsRDD.collectAsMap())\n",
    "googleWeightsBroadcast = sc.broadcast(googleWeightsRDD.collectAsMap())\n",
    "\n",
    "def fastCosineSimilarity(record):\n",
    "    \"\"\" Compute Cosine Similarity using Broadcast variables\n",
    "    Args:\n",
    "        record: ((ID, URL), token)\n",
    "    Returns:\n",
    "        pair: ((ID, URL), cosine similarity value)\n",
    "    \"\"\"\n",
    "    amazonRec = record[0][0]\n",
    "    googleRec = record[0][1]\n",
    "    tokens = record[1]\n",
    "    s = sum([amazonWeightsBroadcast.value[amazonRec][t] * googleWeightsBroadcast.value[googleRec][t] for t in tokens])\n",
    "    value = s / googleNormsBroadcast.value[googleRec] / amazonNormsBroadcast.value[amazonRec]\n",
    "    key = (amazonRec, googleRec)\n",
    "    return (key, value)\n",
    "\n",
    "similaritiesFullRDD = (commonTokens.map(fastCosineSimilarity).cache())\n",
    "print(similaritiesFullRDD.count())"
   ]
  },
  {
   "cell_type": "markdown",
   "metadata": {},
   "source": [
    "## Part 5: Analysis"
   ]
  },
  {
   "cell_type": "markdown",
   "metadata": {},
   "source": [
    "Now we have an authoritative list of record-pair similarities, but we need a way to use those similarities to decide if two records are duplicates or not. The simplest approach is to pick a **threshold**. Pairs whose similarity is above the threshold are declared duplicates, and pairs below the threshold are declared distinct.\n",
    "\n",
    "To decide where to set the threshold we need to understand what kind of errors result at different levels. If we set the threshold too low, we get more **false positives**, that is, record-pairs we say are duplicates that in reality are not. If we set the threshold too high, we get more **false negatives**, that is, record-pairs that really are duplicates but that we miss.\n",
    "\n",
    "ER algorithms are evaluated by the common metrics of information retrieval and search called **precision** and **recall**. Precision asks of all the record-pairs marked duplicates, what fraction are true duplicates? Recall asks of all the true duplicates in the data, what fraction did we successfully find? As with false positives and false negatives, there is a trade-off between precision and recall. A third metric, called **F-measure**, takes the harmonic mean of precision and recall to measure overall goodness in a single value:\n",
    "\\begin{equation}\n",
    "Fmeasure = 2\\times\\frac{precision\\times recall}{precision+recall}\n",
    "\\end{equation}\n",
    "\n",
    ">**Note**: In this part, we use the \"gold standard\" mapping from the included file to look up true duplicates, and the results of Part 4.\n",
    "\n",
    ">**Note**: In this part, you will not be writing any code. We've written all of the code for you. Run each cell and then answer the quiz questions on edX Studio."
   ]
  },
  {
   "cell_type": "markdown",
   "metadata": {},
   "source": [
    "### (5a) Counting True Positives, False Positives, and False Negatives\n",
    "We need functions that count True Positives (true duplicates above the threshold), and False Positives and False Negatives:\n",
    "* We start with creating the simsFullRDD from our similaritiesFullRDD that consists of a pair of ((Amazon ID, Google URL), simlarity score)\n",
    "* From this RDD, we create an RDD consisting of only the similarity scores\n",
    "* To look up the similarity scores for true duplicates, we perform a left outer join using the goldStandard RDD and simsFullRDD and extract the similarities scores using the helper function"
   ]
  },
  {
   "cell_type": "code",
   "execution_count": null,
   "metadata": {},
   "outputs": [],
   "source": [
    "# Create an RDD of ((AmazonID, GoogleURL), similarity score)\n",
    "simsFullRDD = similaritiesFullRDD.map(lambda x: ('{0} {1}'.format(x[0][0],x[0][1]), x[1]))\n",
    "assert simsFullRDD.count() == 2441100\n",
    "\n",
    "# Create an RDD of just the similarity score\n",
    "simsFullValuesRDD = (simsFullRDD\n",
    "                     .map(lambda x: x[1])\n",
    "                     .cache())\n",
    "assert simsFullValuesRDD.count() == 2441100\n",
    "\n",
    "# Look up all similarity scores for true duplicates\n",
    "def gs_value(record):\n",
    "    if (record[1][1] is None):\n",
    "        return 0\n",
    "    else:\n",
    "        return record[1][1]\n",
    "\n",
    "# Join the gold standard and simsFullRDD, and then extract the similarities scores using the helper function\n",
    "trueDupSimsRDD = (goldStandard\n",
    "                  .leftOuterJoin(simsFullRDD)\n",
    "                  .map(gs_value)\n",
    "                  .cache())\n",
    "print('There are {0} true duplicates.'.format(trueDupSimsRDD.count()))\n",
    "assert trueDupSimsRDD.count() == 1300"
   ]
  },
  {
   "cell_type": "markdown",
   "metadata": {},
   "source": [
    "The next step is to pick a threshold between 0 and 1 for the count of True Positives (true duplicates above the threshold). However, we would like to explore many different thresholds.\n",
    "\n",
    "To do this, we divide the space of thresholds into 100 bins, and take the following actions:\n",
    "* We use Spark Accumulators to implement our counting function. We define a custom accumulator type, `VectorAccumulatorParam`, along with functions to initialize the accumulator's vector to zero, and to add two vectors. Note that we have to use the += operator because you can only add to an accumulator.\n",
    "* We create a helper function to create a list with one entry (bit) set to a value and all others set to 0.\n",
    "* We create 101 bins for the 100 threshold values between 0 and 1.\n",
    "* Now, for each similarity score, we can compute the false positives. We do this by adding each similarity score to the appropriate bin of the vector. Then we remove true positives from the vector by using the gold standard data.\n",
    "* We define functions for computing false positive and negative and true positives, for a given threshold."
   ]
  },
  {
   "cell_type": "code",
   "execution_count": null,
   "metadata": {
    "collapsed": true
   },
   "outputs": [],
   "source": [
    "from pyspark.accumulators import AccumulatorParam\n",
    "class VectorAccumulatorParam(AccumulatorParam):\n",
    "    # Initialize the VectorAccumulator to 0\n",
    "    def zero(self, value):\n",
    "        return [0] * len(value)\n",
    "    \n",
    "    # Add two VectorAccumulator variables\n",
    "    def addInPlace(self, val1, val2):\n",
    "        for i in xrange(len(val1)):\n",
    "            val1[i] += val2[i]\n",
    "        return val1\n",
    "    \n",
    "# Return a list with entry x set to value and all other entries set to 0\n",
    "def set_bit(x, value, length):\n",
    "    bits = []\n",
    "    for y in xrange(length):\n",
    "        if (x == y):\n",
    "            bits.append(value)\n",
    "        else:\n",
    "            bits.append(0)\n",
    "    return bits\n",
    "\n",
    "# Pre-bin counts of false positive for different thresholds\n",
    "BINS = 101\n",
    "nthresholds = 100\n",
    "def bin(similarity):\n",
    "    return int(similarity * nthresholds)\n",
    "\n",
    "# fpCounts[i] = number of entries (possible false positives) where bin(similarity) == i\n",
    "zeros = [0] * BINS\n",
    "fpCounts = sc.accumulator(zeros, VectorAccumulatorParam())\n",
    "\n",
    "def add_element(score):\n",
    "    global fpCounts\n",
    "    b = bin(score)\n",
    "    fpCounts += set_bit(b, 1, BINS)\n",
    "    \n",
    "simsFullValuesRDD.foreach(add_element)\n",
    "\n",
    "# Remove true positives from FP counts\n",
    "def sub_element(score):\n",
    "    global fpCounts\n",
    "    b = bin(score)\n",
    "    fpCounts += set_bit(b, -1, BINS)\n",
    "\n",
    "trueDupSimsRDD.foreach(sub_element)\n",
    "\n",
    "def falsepos(threshold):\n",
    "    fpList = fpCounts.value\n",
    "    return sum([fpList[b] for b in range(0, BINS) if float(b) / nthresholds >= threshold])\n",
    "\n",
    "def falseneg(threshold):\n",
    "    return trueDupSimsRDD.filter(lambda x: x < threshold).count()\n",
    "\n",
    "def truepos(threshold):\n",
    "    return trueDupSimsRDD.count() - falsenegDict[threshold]\n"
   ]
  },
  {
   "cell_type": "markdown",
   "metadata": {},
   "source": [
    "### (5b) Precision, Recall, and F-measures\n",
    "We define functions so that we can compute the [Precision](https://en.wikipedia.org/wiki/Precision_and_recall), [Recall](https://en.wikipedia.org/wiki/Precision_and_recall), and [F-measure](https://en.wikipedia.org/wiki/Precision_and_recall#F-measure) as a function of threshold value:\n",
    "\\begin{eqnarray}\n",
    "Precision &=& \\frac{TP}{TP+FP} \\\\\n",
    "Recall &=& \\frac{TP}{TP+FN} \\\\\n",
    "Fmeasure &=& 2\\times\\frac{Recall\\times Precision}{Recall+Precision}\n",
    "\\end{eqnarray}"
   ]
  },
  {
   "cell_type": "code",
   "execution_count": null,
   "metadata": {
    "collapsed": true
   },
   "outputs": [],
   "source": [
    "def precision(threshold):\n",
    "    tp = trueposDict[threshold]\n",
    "    return float(tp) / (tp + falseposDict[threshold])\n",
    "\n",
    "def recall(threshold):\n",
    "    tp = trueposDict[threshold]\n",
    "    return float(tp) / (tp + falsenegDict[threshold])\n",
    "\n",
    "def fmeasure(threshold):\n",
    "    r = recall(threshold)\n",
    "    p = precision(threshold)\n",
    "    \n",
    "    return 2 * r * p / (r + p)"
   ]
  },
  {
   "cell_type": "markdown",
   "metadata": {},
   "source": [
    "### (5c) Line Plots\n",
    "We can make line plots of precision, recall, and F-measure as a function of threshold value, for thresholds between 0.0 and 1.0. You can change nthresholds (above in part (5a)) to change the threshold values to plot.\n"
   ]
  },
  {
   "cell_type": "code",
   "execution_count": null,
   "metadata": {},
   "outputs": [],
   "source": [
    "thresholds = [float(n) / nthresholds for n in range(0, nthresholds)]\n",
    "falseposDict = dict([(t, falsepos(t)) for t in thresholds])\n",
    "falsenegDict = dict([(t, falseneg(t)) for t in thresholds])\n",
    "trueposDict = dict([(t, truepos(t)) for t in thresholds])\n",
    "\n",
    "precisions = [precision(t) for t in thresholds]\n",
    "recalls = [recall(t) for t in thresholds]\n",
    "fmeasures = [fmeasure(t) for t in thresholds]\n",
    "\n",
    "print(precisions[0], fmeasures[0])\n",
    "assert (abs(precisions[0] - 0.000532546802671) < 0.0000001)\n",
    "assert (abs(fmeasures[0] - 0.00106452669505) < 0.0000001)\n",
    "\n",
    "fig = plt.figure()\n",
    "plt.plot(thresholds, precisions)\n",
    "plt.plot(thresholds, recalls)\n",
    "plt.plot(thresholds, fmeasures)\n",
    "plt.legend(['Precision', 'Recall', 'F-measure'])\n",
    "fig.show()"
   ]
  },
  {
   "cell_type": "code",
   "execution_count": null,
   "metadata": {},
   "outputs": [],
   "source": [
    "graph = [(t, precision(t), recall(t), fmeasure(t)) for t in thresholds]\n",
    "graphRDD = sc.parallelize(graph)\n",
    "graphRow = graphRDD.map(lambda (t, x, y, z): Row(threshold=t, precision=x, recall=y, fmeasure=z))\n",
    "graphDF = sqlContext.createDataFrame(graphRow)\n",
    "graphDF.show()"
   ]
  },
  {
   "cell_type": "markdown",
   "metadata": {},
   "source": [
    "## Discussion\n",
    "State-of-the-art tools can get an F-measure of about 60% on this dataset. In this lab exercise, our best F-measure is closer to 40%. Look at some examples of errors (both False Positives and False Negatives) and think about what went wrong.\n",
    "## There are several ways we might improve our simple classifier, including:\n",
    "* Using additional attributes\n",
    "* Performing better featurization of our textual data (e.g., stemming, n-grams, etc.)\n",
    "* Using different similarity functions"
   ]
  },
  {
   "cell_type": "code",
   "execution_count": null,
   "metadata": {
    "collapsed": true
   },
   "outputs": [],
   "source": []
  }
 ],
 "metadata": {
  "kernelspec": {
   "display_name": "Python 2",
   "language": "python",
   "name": "python2"
  },
  "language_info": {
   "codemirror_mode": {
    "name": "ipython",
    "version": 2
   },
   "file_extension": ".py",
   "mimetype": "text/x-python",
   "name": "python",
   "nbconvert_exporter": "python",
   "pygments_lexer": "ipython2",
   "version": "2.7.6"
  }
 },
 "nbformat": 4,
 "nbformat_minor": 2
}
