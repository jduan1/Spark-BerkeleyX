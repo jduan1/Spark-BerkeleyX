{
 "cells": [
  {
   "cell_type": "markdown",
   "metadata": {},
   "source": [
    "# Click-Through Rate Prediction Lab"
   ]
  },
  {
   "cell_type": "markdown",
   "metadata": {},
   "source": [
    "## Part 1: Featurize categorical data using one-hot-encoding"
   ]
  },
  {
   "cell_type": "markdown",
   "metadata": {},
   "source": [
    "### (1a) One-hot-encoding"
   ]
  },
  {
   "cell_type": "code",
   "execution_count": 1,
   "metadata": {
    "collapsed": true
   },
   "outputs": [],
   "source": [
    "# By default, when a shuffle operation occurs with DataFrames, the post-shuffle partition\n",
    "# count is 200. This is controlled by Spark configuration value spark.sql.shuffle.partitions.\n",
    "# 200 is a little too high for this data set, so we set the post-shuffle partition count to\n",
    "# twice the number of available threads in Community Edition.\n",
    "sqlContext.setConf('spark.sql.shuffle.partitions', '6')  # Set default partitions for DataFrame operations"
   ]
  },
  {
   "cell_type": "code",
   "execution_count": 2,
   "metadata": {},
   "outputs": [
    {
     "name": "stdout",
     "output_type": "stream",
     "text": [
      "+------+-----+------+\n",
      "|animal|color|  food|\n",
      "+------+-----+------+\n",
      "| mouse|black|  null|\n",
      "|   cat|tabby| mouse|\n",
      "|  bear|black|salmon|\n",
      "+------+-----+------+\n",
      "\n",
      "+---------------------------------+\n",
      "|features                         |\n",
      "+---------------------------------+\n",
      "|[[0,mouse], [1,black]]           |\n",
      "|[[0,cat], [1,tabby], [2,mouse]]  |\n",
      "|[[0,bear], [1,black], [2,salmon]]|\n",
      "+---------------------------------+\n",
      "\n"
     ]
    }
   ],
   "source": [
    "from collections import defaultdict\n",
    "# Data for manual OHE\n",
    "# Note: the first data point does not include any value for the optional third feature\n",
    "sample_one = [(0, 'mouse'), (1, 'black')]\n",
    "sample_two = [(0, 'cat'), (1, 'tabby'), (2, 'mouse')]\n",
    "sample_three =  [(0, 'bear'), (1, 'black'), (2, 'salmon')]\n",
    "\n",
    "def sample_to_row(sample):\n",
    "    tmp_dict = defaultdict(lambda: None)\n",
    "    tmp_dict.update(sample)\n",
    "    return [tmp_dict[i] for i in range(3)]\n",
    "\n",
    "sqlContext.createDataFrame(map(sample_to_row, [sample_one, sample_two, sample_three]),\n",
    "                           ['animal', 'color', 'food']).show()\n",
    "sample_data_df = sqlContext.createDataFrame([(sample_one,), (sample_two,), (sample_three,)], ['features'])\n",
    "sample_data_df.show(truncate=False)"
   ]
  },
  {
   "cell_type": "code",
   "execution_count": 3,
   "metadata": {
    "collapsed": true
   },
   "outputs": [],
   "source": [
    "sample_ohe_dict_manual = {}\n",
    "sample_ohe_dict_manual[(0, 'bear')] = 0\n",
    "sample_ohe_dict_manual[(0, 'cat')] = 1\n",
    "sample_ohe_dict_manual[(0, 'mouse')] = 2\n",
    "sample_ohe_dict_manual[(1, 'black')] = 3\n",
    "sample_ohe_dict_manual[(1, 'tabby')] = 4\n",
    "sample_ohe_dict_manual[(2, 'mouse')] = 5\n",
    "sample_ohe_dict_manual[(2, 'salmon')] = 6"
   ]
  },
  {
   "cell_type": "markdown",
   "metadata": {},
   "source": [
    "### (1b) Sparse vectors"
   ]
  },
  {
   "cell_type": "code",
   "execution_count": 4,
   "metadata": {},
   "outputs": [
    {
     "name": "stdout",
     "output_type": "stream",
     "text": [
      "7.3\n",
      "7.3\n",
      "-0.5\n",
      "-0.5\n"
     ]
    }
   ],
   "source": [
    "import numpy as np\n",
    "from pyspark.mllib.linalg import SparseVector\n",
    "\n",
    "a_dense = np.array([0., 3., 0., 4.])\n",
    "a_sparse = SparseVector(4, [1,3], [3,4])\n",
    "\n",
    "b_dense = np.array([0., 0., 0., 1.])\n",
    "b_sparse = SparseVector(4, [(3,1)])\n",
    "\n",
    "w = np.array([0.4, 3.1, -1.4, -.5])\n",
    "print(a_dense.dot(w))\n",
    "print(a_sparse.dot(w))\n",
    "print(b_dense.dot(w))\n",
    "print(b_sparse.dot(w))"
   ]
  },
  {
   "cell_type": "markdown",
   "metadata": {},
   "source": [
    "### (1c) OHE features as sparse vectors"
   ]
  },
  {
   "cell_type": "code",
   "execution_count": 5,
   "metadata": {
    "collapsed": true
   },
   "outputs": [],
   "source": [
    "# Reminder of the sample features\n",
    "# sample_one = [(0, 'mouse'), (1, 'black')]\n",
    "# sample_two = [(0, 'cat'), (1, 'tabby'), (2, 'mouse')]\n",
    "# sample_three =  [(0, 'bear'), (1, 'black'), (2, 'salmon')]"
   ]
  },
  {
   "cell_type": "code",
   "execution_count": 6,
   "metadata": {
    "collapsed": true
   },
   "outputs": [],
   "source": [
    "sample_one_ohe_feat_manual = SparseVector(7, [(2,1), (3,1)])\n",
    "sample_two_ohe_feat_manual = SparseVector(7, [(1,1), (4,1), (5,1)])\n",
    "sample_three_ohe_feat_manual = SparseVector(7, [(0,1), (3,1), (6,1)])"
   ]
  },
  {
   "cell_type": "markdown",
   "metadata": {},
   "source": [
    "### (1d) Define a OHE function"
   ]
  },
  {
   "cell_type": "code",
   "execution_count": 7,
   "metadata": {},
   "outputs": [
    {
     "name": "stdout",
     "output_type": "stream",
     "text": [
      "(7,[2,3],[1.0,1.0])\n"
     ]
    }
   ],
   "source": [
    "def one_hot_encoding(raw_feats, ohe_dict_broadcast, num_ohe_feats):\n",
    "    \"\"\"Produce a one-hot-encoding from a list of features and an OHE dictionary.\n",
    "\n",
    "    Note:\n",
    "        You should ensure that the indices used to create a SparseVector are sorted.\n",
    "\n",
    "    Args:\n",
    "        raw_feats (list of (int, str)): The features corresponding to a single observation.  Each\n",
    "            feature consists of a tuple of featureID and the feature's value. (e.g. sample_one)\n",
    "        ohe_dict_broadcast (Broadcast of dict): Broadcast variable containing a dict that maps\n",
    "            (featureID, value) to unique integer.\n",
    "        num_ohe_feats (int): The total number of unique OHE features (combinations of featureID and\n",
    "            value).\n",
    "\n",
    "    Returns:\n",
    "        SparseVector: A SparseVector of length num_ohe_feats with indices equal to the unique\n",
    "            identifiers for the (featureID, value) combinations that occur in the observation and\n",
    "            with values equal to 1.0.\n",
    "    \"\"\"\n",
    "    result = []\n",
    "    for feat in raw_feats:\n",
    "      result.append((ohe_dict_broadcast.value[feat],1))\n",
    "    return SparseVector(num_ohe_feats, result)\n",
    "\n",
    "# Calculate the number of features in sample_ohe_dict_manual\n",
    "num_sample_ohe_feats = len(sample_ohe_dict_manual)\n",
    "sample_ohe_dict_manual_broadcast = sc.broadcast(sample_ohe_dict_manual)\n",
    "\n",
    "# Run one_hot_encoding() on sample_one.  Make sure to pass in the Broadcast variable.\n",
    "sample_one_ohe_feat = one_hot_encoding(sample_one, sample_ohe_dict_manual_broadcast, num_sample_ohe_feats)\n",
    "\n",
    "print(sample_one_ohe_feat)"
   ]
  },
  {
   "cell_type": "markdown",
   "metadata": {},
   "source": [
    "### (1e) Apply OHE to a dataset"
   ]
  },
  {
   "cell_type": "code",
   "execution_count": 8,
   "metadata": {},
   "outputs": [
    {
     "name": "stdout",
     "output_type": "stream",
     "text": [
      "+-------------------------+\n",
      "|<lambda>(features)       |\n",
      "+-------------------------+\n",
      "|(7,[2,3],[1.0,1.0])      |\n",
      "|(7,[1,4,5],[1.0,1.0,1.0])|\n",
      "|(7,[0,3,6],[1.0,1.0,1.0])|\n",
      "+-------------------------+\n",
      "\n"
     ]
    }
   ],
   "source": [
    "from pyspark.sql.functions import udf\n",
    "from pyspark.mllib.linalg import VectorUDT\n",
    "\n",
    "def ohe_udf_generator(ohe_dict_broadcast):\n",
    "    \"\"\"Generate a UDF that is setup to one-hot-encode rows with the given dictionary.\n",
    "\n",
    "    Note:\n",
    "        We'll reuse this function to generate a UDF that can one-hot-encode rows based on a\n",
    "        one-hot-encoding dictionary built from the training data.  Also, you should calculate\n",
    "        the number of features before calling the one_hot_encoding function.\n",
    "\n",
    "    Args:\n",
    "        ohe_dict_broadcast (Broadcast of dict): Broadcast variable containing a dict that maps\n",
    "            (featureID, value) to unique integer.\n",
    "\n",
    "    Returns:\n",
    "        UserDefinedFunction: A UDF can be used in `DataFrame` `select` statement to call a\n",
    "            function on each row in a given column.  This UDF should call the one_hot_encoding\n",
    "            function with the appropriate parameters.\n",
    "    \"\"\"\n",
    "    length = len(ohe_dict_broadcast.value)\n",
    "    return udf(lambda x: one_hot_encoding(x, ohe_dict_broadcast, length), VectorUDT())\n",
    "\n",
    "sample_ohe_dict_udf = ohe_udf_generator(sample_ohe_dict_manual_broadcast)\n",
    "sample_ohe_df = sample_data_df.select(sample_ohe_dict_udf('features'))\n",
    "sample_ohe_df.show(truncate=False)"
   ]
  },
  {
   "cell_type": "markdown",
   "metadata": {},
   "source": [
    "## Part 2: Construct an OHE dictionary"
   ]
  },
  {
   "cell_type": "markdown",
   "metadata": {},
   "source": [
    "### (2a) DataFrame with rows of `(featureID, category)`"
   ]
  },
  {
   "cell_type": "code",
   "execution_count": 9,
   "metadata": {},
   "outputs": [
    {
     "name": "stdout",
     "output_type": "stream",
     "text": [
      "+----------+\n",
      "|       col|\n",
      "+----------+\n",
      "|   [0,cat]|\n",
      "| [0,mouse]|\n",
      "| [1,black]|\n",
      "| [2,mouse]|\n",
      "|[2,salmon]|\n",
      "|  [0,bear]|\n",
      "| [1,tabby]|\n",
      "+----------+\n",
      "\n"
     ]
    }
   ],
   "source": [
    "from pyspark.sql.functions import explode\n",
    "sample_distinct_feats_df = (sample_data_df\n",
    "                              .select(explode('features'))\n",
    "                              .distinct())\n",
    "sample_distinct_feats_df.show()"
   ]
  },
  {
   "cell_type": "markdown",
   "metadata": {},
   "source": [
    "### (2b) OHE Dictionary from distinct features"
   ]
  },
  {
   "cell_type": "code",
   "execution_count": 10,
   "metadata": {},
   "outputs": [
    {
     "name": "stdout",
     "output_type": "stream",
     "text": [
      "{(2, u'mouse'): 3, (0, u'cat'): 0, (0, u'bear'): 5, (2, u'salmon'): 4, (1, u'tabby'): 6, (1, u'black'): 2, (0, u'mouse'): 1}\n"
     ]
    }
   ],
   "source": [
    "sample_ohe_dict = (sample_distinct_feats_df\n",
    "                     .rdd\n",
    "                     .map(lambda r: tuple(r[0]))\n",
    "                     .zipWithIndex()\n",
    "                     .collectAsMap())\n",
    "print(sample_ohe_dict)"
   ]
  },
  {
   "cell_type": "markdown",
   "metadata": {},
   "source": [
    "### (2c) Automated creation of an OHE dictionary"
   ]
  },
  {
   "cell_type": "code",
   "execution_count": 11,
   "metadata": {
    "collapsed": true
   },
   "outputs": [],
   "source": [
    "def create_one_hot_dict(input_df):\n",
    "    \"\"\"Creates a one-hot-encoder dictionary based on the input data.\n",
    "\n",
    "    Args:\n",
    "        input_df (DataFrame with 'features' column): A DataFrame where each row contains a list of\n",
    "            (featureID, value) tuples.\n",
    "\n",
    "    Returns:\n",
    "        dict: A dictionary where the keys are (featureID, value) tuples and map to values that are\n",
    "            unique integers.\n",
    "    \"\"\"\n",
    "    return (input_df.select(explode('features')).distinct().rdd\n",
    "                    .map(lambda r: tuple(r[0]))\n",
    "                    .zipWithIndex()\n",
    "                    .collectAsMap())\n",
    "\n",
    "sample_ohe_dict_auto = create_one_hot_dict(sample_data_df)"
   ]
  },
  {
   "cell_type": "markdown",
   "metadata": {},
   "source": [
    "## Part 3: Parse CTR data and generate OHE features"
   ]
  },
  {
   "cell_type": "markdown",
   "metadata": {},
   "source": [
    "```python\n",
    "import tarfile\n",
    "import tempfile\n",
    "\n",
    "tar_file_name = 'path/to/file/dac_sample.tar.gz'\n",
    "tf = tarfile.open(tar_file_name)\n",
    "dac_sample = tf.extractfile('dac_sample.txt')\n",
    "dac_sample = '\\n'.join([unicode(x.replace('\\n','').replace('\\t',',')) for x in dac_sample])\n",
    "\n",
    "with tempfile.NamedTemporaryFile(mode='wb', delete=False, prefix='dac', suffix='txt') as t:\n",
    "    t.write(dac_sample)\n",
    "    t.close()\n",
    "```"
   ]
  },
  {
   "cell_type": "code",
   "execution_count": 12,
   "metadata": {},
   "outputs": [
    {
     "name": "stdout",
     "output_type": "stream",
     "text": [
      "+--------------------+\n",
      "|                text|\n",
      "+--------------------+\n",
      "|0,1,1,5,0,1382,4,...|\n",
      "|0,2,0,44,1,102,8,...|\n",
      "|0,2,0,1,14,767,89...|\n",
      "|0,,893,,,4392,,0,...|\n",
      "|0,3,-1,,0,2,0,3,0...|\n",
      "|0,,-1,,,12824,,0,...|\n",
      "|0,,1,2,,3168,,0,1...|\n",
      "|1,1,4,2,0,0,0,1,0...|\n",
      "|0,,44,4,8,19010,2...|\n",
      "|0,,35,,1,33737,21...|\n",
      "|0,,2,632,0,56770,...|\n",
      "|0,0,6,6,6,421,109...|\n",
      "|1,0,-1,,,1465,0,1...|\n",
      "|1,,2,11,5,10262,3...|\n",
      "|0,0,51,84,4,3633,...|\n",
      "|0,,2,1,18,20255,,...|\n",
      "|1,1,987,,2,105,2,...|\n",
      "|0,0,1,,0,16597,55...|\n",
      "|0,0,24,4,2,2056,1...|\n",
      "|0,7,102,,3,780,15...|\n",
      "+--------------------+\n",
      "only showing top 20 rows\n",
      "\n"
     ]
    }
   ],
   "source": [
    "raw_df = sqlContext.read.text('dac_sample.txt').withColumnRenamed('value', 'text')\n",
    "raw_df.show()"
   ]
  },
  {
   "cell_type": "markdown",
   "metadata": {},
   "source": [
    "### (3a) Loading and splitting the data"
   ]
  },
  {
   "cell_type": "code",
   "execution_count": 13,
   "metadata": {},
   "outputs": [
    {
     "name": "stdout",
     "output_type": "stream",
     "text": [
      "(80115, 9955, 9930, 100000)\n",
      "+--------------------+\n",
      "|                text|\n",
      "+--------------------+\n",
      "|0,1,1,5,0,1382,4,...|\n",
      "+--------------------+\n",
      "only showing top 1 row\n",
      "\n"
     ]
    }
   ],
   "source": [
    "weights = [.8, .1, .1]\n",
    "seed = 42\n",
    "\n",
    "# Use randomSplit with weights and seed\n",
    "raw_train_df, raw_validation_df, raw_test_df = raw_df.randomSplit(weights, seed)\n",
    "\n",
    "# Cache and count the DataFrames\n",
    "n_train = raw_train_df.cache().count()\n",
    "n_val = raw_validation_df.cache().count()\n",
    "n_test = raw_test_df.cache().count()\n",
    "print(n_train, n_val, n_test, n_train + n_val + n_test)\n",
    "raw_df.show(1)"
   ]
  },
  {
   "cell_type": "markdown",
   "metadata": {},
   "source": [
    "### (3b) Extract features"
   ]
  },
  {
   "cell_type": "code",
   "execution_count": 14,
   "metadata": {},
   "outputs": [
    {
     "name": "stdout",
     "output_type": "stream",
     "text": [
      "[(0, u'1'), (1, u'1'), (2, u'5'), (3, u'0'), (4, u'1382'), (5, u'4'), (6, u'15'), (7, u'2'), (8, u'181'), (9, u'1'), (10, u'2'), (11, u''), (12, u'2'), (13, u'68fd1e64'), (14, u'80e26c9b'), (15, u'fb936136'), (16, u'7b4723c4'), (17, u'25c83c98'), (18, u'7e0ccccf'), (19, u'de7995b8'), (20, u'1f89b562'), (21, u'a73ee510'), (22, u'a8cd5504'), (23, u'b2cb9c98'), (24, u'37c9c164'), (25, u'2824a5f6'), (26, u'1adce6ef'), (27, u'8ba8b39a'), (28, u'891b62e7'), (29, u'e5ba7672'), (30, u'f54016b9'), (31, u'21ddcdc9'), (32, u'b1252a9d'), (33, u'07b5194c'), (34, u''), (35, u'3a171ecb'), (36, u'c5c50484'), (37, u'e8b83407'), (38, u'9727dd16')]\n"
     ]
    }
   ],
   "source": [
    "def parse_point(point):\n",
    "    \"\"\"Converts a comma separated string into a list of (featureID, value) tuples.\n",
    "\n",
    "    Note:\n",
    "        featureIDs should start at 0 and increase to the number of features - 1.\n",
    "\n",
    "    Args:\n",
    "        point (str): A comma separated string where the first value is the label and the rest\n",
    "            are features.\n",
    "\n",
    "    Returns:\n",
    "        list: A list of (featureID, value) tuples.\n",
    "    \"\"\"\n",
    "    features = point.split(',')[1:]\n",
    "    indexed_features = []\n",
    "    for i in range(len(features)):\n",
    "      indexed_features.append((i, features[i]))\n",
    "    return indexed_features\n",
    "\n",
    "print(parse_point(raw_df.select('text').first()[0]))"
   ]
  },
  {
   "cell_type": "markdown",
   "metadata": {},
   "source": [
    "### (3c) Extracting features continued"
   ]
  },
  {
   "cell_type": "code",
   "execution_count": 15,
   "metadata": {},
   "outputs": [
    {
     "name": "stdout",
     "output_type": "stream",
     "text": [
      "1720\n"
     ]
    }
   ],
   "source": [
    "from pyspark.sql.functions import udf, split\n",
    "from pyspark.sql.types import ArrayType, StructType, StructField, LongType, StringType, DoubleType\n",
    "\n",
    "parse_point_udf = udf(parse_point, ArrayType(StructType([StructField('_1', LongType()),\n",
    "                                                         StructField('_2', StringType())])))\n",
    "\n",
    "def parse_raw_df(raw_df):\n",
    "    \"\"\"Convert a DataFrame consisting of rows of comma separated text into labels and feature.\n",
    "\n",
    "\n",
    "    Args:\n",
    "        raw_df (DataFrame with a 'text' column): DataFrame containing the raw comma separated data.\n",
    "\n",
    "    Returns:\n",
    "        DataFrame: A DataFrame with 'label' and 'feature' columns.\n",
    "    \"\"\"\n",
    "    return raw_df.select(split('text', ',').getItem(0).cast(\"double\").alias(\"label\"), parse_point_udf('text').alias('feature')).cache()\n",
    "\n",
    "# Parse the raw training DataFrame\n",
    "parsed_train_df = parse_raw_df(raw_train_df)\n",
    "\n",
    "from pyspark.sql.functions import (explode, col)\n",
    "num_categories = (parsed_train_df\n",
    "                    .select(explode('feature').alias('feature'))\n",
    "                    .distinct()\n",
    "                    .select(col('feature').getField('_1').alias('featureNumber'))\n",
    "                    .groupBy('featureNumber')\n",
    "                    .sum()\n",
    "                    .orderBy('featureNumber')\n",
    "                    .collect())\n",
    "\n",
    "print(num_categories[2][1])"
   ]
  },
  {
   "cell_type": "markdown",
   "metadata": {},
   "source": [
    "### (3d) Create an OHE dictionary from the dataset"
   ]
  },
  {
   "cell_type": "code",
   "execution_count": 16,
   "metadata": {},
   "outputs": [
    {
     "name": "stdout",
     "output_type": "stream",
     "text": [
      "233618\n",
      "0\n"
     ]
    }
   ],
   "source": [
    "ctr_ohe_dict = create_one_hot_dict(parsed_train_df.select(col(\"feature\").alias(\"features\")))\n",
    "num_ctr_ohe_feats = len(ctr_ohe_dict)\n",
    "print(num_ctr_ohe_feats)\n",
    "print(ctr_ohe_dict[(0, '')])"
   ]
  },
  {
   "cell_type": "markdown",
   "metadata": {},
   "source": [
    "### (3e) Apply OHE to the dataset"
   ]
  },
  {
   "cell_type": "code",
   "execution_count": 17,
   "metadata": {},
   "outputs": [
    {
     "name": "stdout",
     "output_type": "stream",
     "text": [
      "80115\n",
      "[Row(label=0.0, features=SparseVector(233618, {0: 1.0, 1: 1.0, 2: 1.0, 3: 1.0, 4: 1.0, 5: 1.0, 6: 1.0, 38954: 1.0, 38955: 1.0, 38956: 1.0, 38957: 1.0, 38958: 1.0, 78081: 1.0, 78082: 1.0, 78083: 1.0, 78084: 1.0, 78085: 1.0, 78086: 1.0, 78087: 1.0, 78088: 1.0, 116967: 1.0, 116968: 1.0, 116969: 1.0, 116970: 1.0, 116971: 1.0, 155898: 1.0, 155899: 1.0, 155900: 1.0, 155901: 1.0, 155902: 1.0, 194626: 1.0, 194627: 1.0, 194628: 1.0, 194629: 1.0, 194630: 1.0, 194631: 1.0, 194632: 1.0, 194633: 1.0, 194634: 1.0}))]\n"
     ]
    }
   ],
   "source": [
    "ohe_dict_broadcast = sc.broadcast(ctr_ohe_dict)\n",
    "ohe_dict_udf = ohe_udf_generator(ohe_dict_broadcast)\n",
    "ohe_train_df = (parsed_train_df\n",
    "                  .select(\"label\",ohe_dict_udf('feature').alias(\"features\"))).cache()\n",
    "\n",
    "print(ohe_train_df.count())\n",
    "print(ohe_train_df.take(1))"
   ]
  },
  {
   "cell_type": "markdown",
   "metadata": {},
   "source": [
    "### Visualization 1: Feature frequency"
   ]
  },
  {
   "cell_type": "code",
   "execution_count": 18,
   "metadata": {
    "collapsed": true
   },
   "outputs": [],
   "source": [
    "from pyspark.sql.types import ArrayType, IntegerType\n",
    "from pyspark.sql.functions import log\n",
    "\n",
    "get_indices = udf(lambda sv: map(int, sv.indices), ArrayType(IntegerType()))\n",
    "feature_counts = (ohe_train_df\n",
    "                   .select(explode(get_indices('features')))\n",
    "                   .groupBy('col')\n",
    "                   .count()\n",
    "                   .withColumn('bucket', log('count').cast('int'))\n",
    "                   .groupBy('bucket')\n",
    "                   .count()\n",
    "                   .orderBy('bucket')\n",
    "                   .collect())"
   ]
  },
  {
   "cell_type": "code",
   "execution_count": 19,
   "metadata": {},
   "outputs": [
    {
     "name": "stderr",
     "output_type": "stream",
     "text": [
      "/usr/local/lib/python2.7/dist-packages/matplotlib/figure.py:402: UserWarning: matplotlib is currently using a non-GUI backend, so cannot show the figure\n",
      "  \"matplotlib is currently using a non-GUI backend, \"\n"
     ]
    },
    {
     "data": {
      "image/png": "[encoded data removed]",
      "text/plain": [
       "<matplotlib.figure.Figure at 0x7f4bc9966390>"
      ]
     },
     "metadata": {},
     "output_type": "display_data"
    }
   ],
   "source": [
    "import matplotlib.pyplot as plt\n",
    "%matplotlib inline\n",
    "x, y = zip(*feature_counts)\n",
    "x, y = x, np.log(y)\n",
    "\n",
    "def prepare_plot(xticks, yticks, figsize=(10.5, 6), hide_labels=False, grid_color='#999999',\n",
    "                 grid_width=1.0):\n",
    "    \"\"\"Template for generating the plot layout.\"\"\"\n",
    "    plt.close()\n",
    "    fig, ax = plt.subplots(figsize=figsize, facecolor='white', edgecolor='white')\n",
    "    ax.axes.tick_params(labelcolor='#999999', labelsize='10')\n",
    "    for axis, ticks in [(ax.get_xaxis(), xticks), (ax.get_yaxis(), yticks)]:\n",
    "        axis.set_ticks_position('none')\n",
    "        axis.set_ticks(ticks)\n",
    "        axis.label.set_color('#999999')\n",
    "        if hide_labels: axis.set_ticklabels([])\n",
    "    plt.grid(color=grid_color, linewidth=grid_width, linestyle='-')\n",
    "    map(lambda position: ax.spines[position].set_visible(False), ['bottom', 'top', 'left', 'right'])\n",
    "    return fig, ax\n",
    "\n",
    "# generate layout and plot data\n",
    "fig, ax = prepare_plot(np.arange(0, 12, 1), np.arange(0, 14, 2))\n",
    "ax.set_xlabel(r'$\\log_e(bucketSize)$'), ax.set_ylabel(r'$\\log_e(countInBucket)$')\n",
    "plt.scatter(x, y, s=14**2, c='#d6ebf2', edgecolors='#8cbfd0', alpha=0.75)\n",
    "fig.show()"
   ]
  },
  {
   "cell_type": "markdown",
   "metadata": {},
   "source": [
    "### (3f) Handling unseen features"
   ]
  },
  {
   "cell_type": "code",
   "execution_count": 20,
   "metadata": {},
   "outputs": [
    {
     "name": "stdout",
     "output_type": "stream",
     "text": [
      "+-----+----------------------------------------------------------------------------------------------------------------------------------------------------------------------------------------------------------------------------------------------------------------------------------------------------------------------------------------------------------------------------------------------------------------------+\n",
      "|label|features                                                                                                                                                                                                                                                                                                                                                                                                              |\n",
      "+-----+----------------------------------------------------------------------------------------------------------------------------------------------------------------------------------------------------------------------------------------------------------------------------------------------------------------------------------------------------------------------------------------------------------------------+\n",
      "|0.0  |(233618,[0,1,4,6,52,38954,38955,38957,38981,38984,78081,78083,78086,78087,78088,78093,116967,116968,116969,116973,121813,155898,155899,155911,155912,156016,194626,194627,194628,194629,194630,194631,194632,194633,194684,194788,194789,194790,199515],[1.0,1.0,1.0,1.0,1.0,1.0,1.0,1.0,1.0,1.0,1.0,1.0,1.0,1.0,1.0,1.0,1.0,1.0,1.0,1.0,1.0,1.0,1.0,1.0,1.0,1.0,1.0,1.0,1.0,1.0,1.0,1.0,1.0,1.0,1.0,1.0,1.0,1.0,1.0])|\n",
      "+-----+----------------------------------------------------------------------------------------------------------------------------------------------------------------------------------------------------------------------------------------------------------------------------------------------------------------------------------------------------------------------------------------------------------------------+\n",
      "only showing top 1 row\n",
      "\n"
     ]
    }
   ],
   "source": [
    "def one_hot_encoding(raw_feats, ohe_dict_broadcast, num_ohe_feats):\n",
    "    \"\"\"Produce a one-hot-encoding from a list of features and an OHE dictionary.\n",
    "\n",
    "    Note:\n",
    "        You should ensure that the indices used to create a SparseVector are sorted, and that the\n",
    "        function handles missing features.\n",
    "\n",
    "    Args:\n",
    "        raw_feats (list of (int, str)): The features corresponding to a single observation.  Each\n",
    "            feature consists of a tuple of featureID and the feature's value. (e.g. sample_one)\n",
    "        ohe_dict_broadcast (Broadcast of dict): Broadcast variable containing a dict that maps\n",
    "            (featureID, value) to unique integer.\n",
    "        num_ohe_feats (int): The total number of unique OHE features (combinations of featureID and\n",
    "            value).\n",
    "\n",
    "    Returns:\n",
    "        SparseVector: A SparseVector of length num_ohe_feats with indices equal to the unique\n",
    "            identifiers for the (featureID, value) combinations that occur in the observation and\n",
    "            with values equal to 1.0.\n",
    "    \"\"\"\n",
    "    result = []\n",
    "    for feat in raw_feats:\n",
    "        if feat in ohe_dict_broadcast.value:\n",
    "            result.append((ohe_dict_broadcast.value[feat],1))\n",
    "    return SparseVector(num_ohe_feats, result)\n",
    "  \n",
    "def ohe_udf_generator(ohe_dict_broadcast):\n",
    "    \"\"\"Generate a UDF that is setup to one-hot-encode rows with the given dictionary.\n",
    "\n",
    "    Note:\n",
    "        We'll reuse this function to generate a UDF that can one-hot-encode rows based on a\n",
    "        one-hot-encoding dictionary built from the training data.  Also, you should calculate\n",
    "        the number of features before calling the one_hot_encoding function.\n",
    "\n",
    "    Args:\n",
    "        ohe_dict_broadcast (Broadcast of dict): Broadcast variable containing a dict that maps\n",
    "            (featureID, value) to unique integer.\n",
    "\n",
    "    Returns:\n",
    "        UserDefinedFunction: A UDF can be used in `DataFrame` `select` statement to call a\n",
    "            function on each row in a given column.  This UDF should call the one_hot_encoding\n",
    "            function with the appropriate parameters.\n",
    "    \"\"\"\n",
    "    length = len(ohe_dict_broadcast.value)\n",
    "    return udf(lambda x: one_hot_encoding(x, ohe_dict_broadcast, length), VectorUDT())\n",
    "\n",
    "ohe_dict_missing_udf = ohe_udf_generator(ohe_dict_broadcast)\n",
    "ohe_validation_df = (parse_raw_df(raw_validation_df)\n",
    "                        .select(\"label\",ohe_dict_missing_udf('feature').alias(\"features\"))).cache()\n",
    "\n",
    "ohe_validation_df.count()\n",
    "ohe_validation_df.show(1, truncate=False)"
   ]
  },
  {
   "cell_type": "markdown",
   "metadata": {},
   "source": [
    "## Part 4: CTR prediction and logloss evaluation"
   ]
  },
  {
   "cell_type": "markdown",
   "metadata": {},
   "source": [
    "### (4a) Logistic regression"
   ]
  },
  {
   "cell_type": "code",
   "execution_count": 21,
   "metadata": {},
   "outputs": [
    {
     "name": "stdout",
     "output_type": "stream",
     "text": [
      "intercept: -1.22762492787\n",
      "length of coefficients: 233618\n"
     ]
    }
   ],
   "source": [
    "standardization = False\n",
    "elastic_net_param = 0.0\n",
    "reg_param = .01\n",
    "max_iter = 20\n",
    "\n",
    "from pyspark.ml.classification import LogisticRegression\n",
    "from pyspark.ml.linalg import Vectors as MLVectors\n",
    "\n",
    "ohe_train_ml_vectors_df = (ohe_train_df\n",
    "                           .rdd.map(lambda x : \n",
    "                            (x['label'], MLVectors.sparse(x['features'].size, list(x['features'].indices), list(x['features'].values))))\n",
    "                           .toDF(['label','features']))\n",
    "\n",
    "lr = LogisticRegression(standardization = standardization, elasticNetParam = elastic_net_param, regParam = reg_param, maxIter = max_iter)\n",
    "\n",
    "lr_model_basic = lr.fit(ohe_train_ml_vectors_df)\n",
    "\n",
    "print('intercept: {0}'.format(lr_model_basic.intercept))\n",
    "print('length of coefficients: {0}'.format(len(lr_model_basic.coefficients)))\n",
    "sorted_coefficients = sorted(lr_model_basic.coefficients)[:5]"
   ]
  },
  {
   "cell_type": "markdown",
   "metadata": {},
   "source": [
    "### (4b) Log loss"
   ]
  },
  {
   "cell_type": "code",
   "execution_count": 22,
   "metadata": {},
   "outputs": [
    {
     "name": "stdout",
     "output_type": "stream",
     "text": [
      "+----+-----+\n",
      "|   p|label|\n",
      "+----+-----+\n",
      "| 0.5|    1|\n",
      "| 0.5|    0|\n",
      "|0.99|    1|\n",
      "|0.99|    0|\n",
      "|0.01|    1|\n",
      "|0.01|    0|\n",
      "| 1.0|    1|\n",
      "| 0.0|    1|\n",
      "| 1.0|    0|\n",
      "+----+-----+\n",
      "\n"
     ]
    }
   ],
   "source": [
    "example_log_loss_df = sqlContext.createDataFrame([(.5, 1), (.5, 0), (.99, 1), (.99, 0), (.01, 1),\n",
    "                                                  (.01, 0), (1., 1), (.0, 1), (1., 0)], ['p', 'label'])\n",
    "example_log_loss_df.show()"
   ]
  },
  {
   "cell_type": "code",
   "execution_count": 23,
   "metadata": {},
   "outputs": [
    {
     "name": "stdout",
     "output_type": "stream",
     "text": [
      "+----+-----+--------------------+\n",
      "|   p|label|            log_loss|\n",
      "+----+-----+--------------------+\n",
      "| 0.5|    1|  0.6931471805599453|\n",
      "| 0.5|    0|  0.6931471805599453|\n",
      "|0.99|    1| 0.01005033585350145|\n",
      "|0.99|    0|   4.605170185988091|\n",
      "|0.01|    1|   4.605170185988091|\n",
      "|0.01|    0| 0.01005033585350145|\n",
      "| 1.0|    1|1.110223024625156...|\n",
      "| 0.0|    1|  36.841361487904734|\n",
      "| 1.0|    0|    36.7368005696771|\n",
      "+----+-----+--------------------+\n",
      "\n"
     ]
    }
   ],
   "source": [
    "from pyspark.sql.functions import when, log, col, lit\n",
    "epsilon = 1e-16\n",
    "\n",
    "def add_log_loss(df):\n",
    "    \"\"\"Computes and adds a 'log_loss' column to a DataFrame using 'p' and 'label' columns.\n",
    "\n",
    "    Note:\n",
    "        log(0) is undefined, so when p is 0 we add a small value (epsilon) to it and when\n",
    "        p is 1 we subtract a small value (epsilon) from it.\n",
    "\n",
    "    Args:\n",
    "        df (DataFrame with 'p' and 'label' columns): A DataFrame with a probability column\n",
    "            'p' and a 'label' column that corresponds to y in the log loss formula.\n",
    "\n",
    "    Returns:\n",
    "        DataFrame: A new DataFrame with an additional column called 'log_loss' where 'log_loss' column contains the loss value as explained above.\n",
    "    \"\"\"\n",
    "    return df.withColumn(\"log_loss\", when(df.label == 1, lit(-1) * log(when(df.p == 0, df.p + epsilon).when(df.p == 1, df.p - epsilon).otherwise(df.p))).otherwise(-1 * log(lit(1)- when(df.p == 0, df.p + epsilon).when(df.p == 1, df.p - epsilon).otherwise(df.p))))\n",
    "\n",
    "add_log_loss(example_log_loss_df).show()"
   ]
  },
  {
   "cell_type": "markdown",
   "metadata": {},
   "source": [
    "### (4c) Baseline log loss"
   ]
  },
  {
   "cell_type": "code",
   "execution_count": 24,
   "metadata": {},
   "outputs": [
    {
     "name": "stdout",
     "output_type": "stream",
     "text": [
      "Training class one fraction = 0.227\n"
     ]
    }
   ],
   "source": [
    "from pyspark.sql.functions import lit, avg\n",
    "class_one_frac_train = (ohe_train_df.groupBy().avg(\"label\")).head()[0]\n",
    "print('Training class one fraction = {0:.3f}'.format(class_one_frac_train))\n",
    "\n",
    "log_loss_tr_base = add_log_loss(ohe_train_df.withColumn(\"p\",lit(class_one_frac_train))).groupBy().avg(\"log_loss\").head()[0]\n",
    "#print 'Baseline Train Logloss = {0:.3f}\\n'.format(log_loss_tr_base)"
   ]
  },
  {
   "cell_type": "markdown",
   "metadata": {},
   "source": [
    "### (4d) Predicted probability"
   ]
  },
  {
   "cell_type": "code",
   "execution_count": 25,
   "metadata": {},
   "outputs": [
    {
     "name": "stdout",
     "output_type": "stream",
     "text": [
      "+-----+--------------------+-------------------+\n",
      "|label|            features|                  p|\n",
      "+-----+--------------------+-------------------+\n",
      "|  0.0|(233618,[0,1,2,3,...| 0.1518925746082389|\n",
      "|  0.0|(233618,[0,1,4,6,...|  0.130251666006613|\n",
      "|  0.0|(233618,[0,1,4,6,...|0.12389289405670015|\n",
      "|  0.0|(233618,[0,1,4,6,...|0.12651427318693748|\n",
      "|  0.0|(233618,[0,1,4,6,...|0.11079476120915072|\n",
      "+-----+--------------------+-------------------+\n",
      "only showing top 5 rows\n",
      "\n"
     ]
    }
   ],
   "source": [
    "from pyspark.sql.types import DoubleType\n",
    "from math import exp #  exp(-t) = e^-t\n",
    "\n",
    "def add_probability(df, model):\n",
    "    \"\"\"Adds a probability column ('p') to a DataFrame given a model\"\"\"\n",
    "    coefficients_broadcast = sc.broadcast(model.coefficients)\n",
    "    intercept = model.intercept\n",
    "\n",
    "    def get_p(features):\n",
    "        \"\"\"Calculate the probability for an observation given a list of features.\n",
    "\n",
    "        Note:\n",
    "            We'll bound our raw prediction between 20 and -20 for numerical purposes.\n",
    "\n",
    "        Args:\n",
    "            features: the features\n",
    "\n",
    "        Returns:\n",
    "            float: A probability between 0 and 1.\n",
    "        \"\"\"\n",
    "        # Compute the raw value\n",
    "        raw_prediction = features.dot(coefficients_broadcast.value) + intercept\n",
    "        # Bound the raw value between 20 and -20\n",
    "        raw_prediction = 20 if raw_prediction > 20 else -20 if raw_prediction < -20 else raw_prediction\n",
    "        # Return the probability\n",
    "        return 1/(1+exp(-raw_prediction))\n",
    "\n",
    "    get_p_udf = udf(get_p, DoubleType())\n",
    "    return df.withColumn('p', get_p_udf('features'))\n",
    "#print lr_model_basic.coefficients\n",
    "add_probability_model_basic = lambda df: add_probability(df, lr_model_basic)\n",
    "training_predictions = add_probability_model_basic(ohe_train_ml_vectors_df).cache()\n",
    "\n",
    "training_predictions.show(5)"
   ]
  },
  {
   "cell_type": "markdown",
   "metadata": {},
   "source": [
    "### (4e) Evaluate the model"
   ]
  },
  {
   "cell_type": "code",
   "execution_count": 26,
   "metadata": {},
   "outputs": [
    {
     "name": "stdout",
     "output_type": "stream",
     "text": [
      "OHE Features Train Logloss:\n",
      "\tBaseline = 0.535\n",
      "\tLogReg = 0.474\n"
     ]
    }
   ],
   "source": [
    "def evaluate_results(df, model, baseline=None):\n",
    "    \"\"\"Calculates the log loss for the data given the model.\n",
    "\n",
    "    Note:\n",
    "        If baseline has a value the probability should be set to baseline before\n",
    "        the log loss is calculated.  Otherwise, use add_probability to add the\n",
    "        appropriate probabilities to the DataFrame.\n",
    "\n",
    "    Args:\n",
    "        df (DataFrame with 'label' and 'features' columns): A DataFrame containing\n",
    "            labels and features.\n",
    "        model (LogisticRegressionModel): A trained logistic regression model. This\n",
    "            can be None if baseline is set.\n",
    "        baseline (float): A baseline probability to use for the log loss calculation.\n",
    "\n",
    "    Returns:\n",
    "        float: Log loss for the data.\n",
    "    \"\"\"\n",
    "    with_probability_df = add_probability(df, model) if not baseline else df.withColumn(\"p\",lit(baseline))\n",
    "    with_log_loss_df = add_log_loss(with_probability_df)\n",
    "    log_loss = with_log_loss_df.groupBy().avg(\"log_loss\").head()[0]\n",
    "    return log_loss\n",
    "\n",
    "log_loss_train_model_basic = evaluate_results(ohe_train_ml_vectors_df, lr_model_basic)\n",
    "print('OHE Features Train Logloss:\\n\\tBaseline = {0:.3f}\\n\\tLogReg = {1:.3f}'\n",
    "       .format(log_loss_tr_base, log_loss_train_model_basic))"
   ]
  },
  {
   "cell_type": "markdown",
   "metadata": {},
   "source": [
    "### (4f) Validation log loss"
   ]
  },
  {
   "cell_type": "code",
   "execution_count": 27,
   "metadata": {},
   "outputs": [
    {
     "name": "stdout",
     "output_type": "stream",
     "text": [
      "OHE Features Validation Logloss:\n",
      "\tBaseline = 0.535\n",
      "\tLogReg = 0.478\n"
     ]
    }
   ],
   "source": [
    "ohe_validation_ml_vectors_df = (ohe_validation_df\n",
    "                               .rdd.map(lambda x : \n",
    "                                (x['label'], MLVectors.sparse(x['features'].size, list(x['features'].indices), list(x['features'].values))))\n",
    "                               .toDF(['label','features']))\n",
    "\n",
    "\n",
    "log_loss_val_base = evaluate_results(ohe_validation_ml_vectors_df, None, class_one_frac_train)\n",
    "\n",
    "log_loss_val_l_r0 = evaluate_results(ohe_validation_ml_vectors_df, lr_model_basic, None)\n",
    "print('OHE Features Validation Logloss:\\n\\tBaseline = {0:.3f}\\n\\tLogReg = {1:.3f}'\n",
    "       .format(log_loss_val_base, log_loss_val_l_r0))"
   ]
  },
  {
   "cell_type": "markdown",
   "metadata": {},
   "source": [
    "### Visualization 2: ROC curve"
   ]
  },
  {
   "cell_type": "code",
   "execution_count": 28,
   "metadata": {},
   "outputs": [
    {
     "data": {
      "image/png": "[encoded data removed]",
      "text/plain": [
       "<matplotlib.figure.Figure at 0x7f4bf1078a90>"
      ]
     },
     "metadata": {},
     "output_type": "display_data"
    }
   ],
   "source": [
    "labels_and_scores = add_probability_model_basic(ohe_validation_ml_vectors_df).select('label', 'p')\n",
    "labels_and_weights = labels_and_scores.collect()\n",
    "labels_and_weights.sort(key=lambda (k, v): v, reverse=True)\n",
    "labels_by_weight = np.array([k for (k, v) in labels_and_weights])\n",
    "\n",
    "length = labels_by_weight.size\n",
    "true_positives = labels_by_weight.cumsum()\n",
    "num_positive = true_positives[-1]\n",
    "false_positives = np.arange(1.0, length + 1, 1.) - true_positives\n",
    "\n",
    "true_positive_rate = true_positives / num_positive\n",
    "false_positive_rate = false_positives / (length - num_positive)\n",
    "\n",
    "# Generate layout and plot data\n",
    "fig, ax = prepare_plot(np.arange(0., 1.1, 0.1), np.arange(0., 1.1, 0.1))\n",
    "ax.set_xlim(-.05, 1.05), ax.set_ylim(-.05, 1.05)\n",
    "ax.set_ylabel('True Positive Rate (Sensitivity)')\n",
    "ax.set_xlabel('False Positive Rate (1 - Specificity)')\n",
    "plt.plot(false_positive_rate, true_positive_rate, color='#8cbfd0', linestyle='-', linewidth=3.)\n",
    "plt.plot((0., 1.), (0., 1.), linestyle='--', color='#8cbfd0', linewidth=2.)  # Baseline model\n",
    "fig.show()"
   ]
  },
  {
   "cell_type": "markdown",
   "metadata": {},
   "source": [
    "## Part 5: Reduce feature dimension via feature hashing"
   ]
  },
  {
   "cell_type": "markdown",
   "metadata": {},
   "source": [
    "### (5a) Hash function"
   ]
  },
  {
   "cell_type": "code",
   "execution_count": 29,
   "metadata": {},
   "outputs": [
    {
     "name": "stdout",
     "output_type": "stream",
     "text": [
      "{'mouse:0': 3, 'black:1': 3}\n",
      "{'mouse:2': 1, 'tabby:1': 0, 'cat:0': 1}\n",
      "{'bear:0': 2, 'black:1': 3, 'salmon:2': 0}\n",
      "{'mouse:0': 99, 'black:1': 51}\n",
      "{'mouse:2': 9, 'tabby:1': 72, 'cat:0': 21}\n",
      "{'bear:0': 82, 'black:1': 51, 'salmon:2': 80}\n",
      "\n",
      "\t\t 4 Buckets \t\t\t 100 Buckets\n",
      "SampleOne:\t {3: 2.0}\t\t\t {99: 1.0, 51: 1.0}\n",
      "SampleTwo:\t {0: 1.0, 1: 2.0}\t\t {72: 1.0, 9: 1.0, 21: 1.0}\n",
      "SampleThree:\t {0: 1.0, 2: 1.0, 3: 1.0}\t {80: 1.0, 82: 1.0, 51: 1.0}\n"
     ]
    }
   ],
   "source": [
    "from collections import defaultdict\n",
    "import hashlib\n",
    "\n",
    "def hash_function(raw_feats, num_buckets, print_mapping=False):\n",
    "    \"\"\"Calculate a feature dictionary for an observation's features based on hashing.\n",
    "\n",
    "    Note:\n",
    "        Use print_mapping=True for debug purposes and to better understand how the hashing works.\n",
    "\n",
    "    Args:\n",
    "        raw_feats (list of (int, str)): A list of features for an observation.  Represented as\n",
    "            (featureID, value) tuples.\n",
    "        num_buckets (int): Number of buckets to use as features.\n",
    "        print_mapping (bool, optional): If true, the mappings of featureString to index will be\n",
    "            printed.\n",
    "\n",
    "    Returns:\n",
    "        dict of int to float:  The keys will be integers which represent the buckets that the\n",
    "            features have been hashed to.  The value for a given key will contain the count of the\n",
    "            (featureID, value) tuples that have hashed to that key.\n",
    "    \"\"\"\n",
    "    mapping = { category + ':' + str(ind):\n",
    "                int(int(hashlib.md5(category + ':' + str(ind)).hexdigest(), 16) % num_buckets)\n",
    "                for ind, category in raw_feats}\n",
    "    if(print_mapping): print mapping\n",
    "\n",
    "    def map_update(l, r):\n",
    "        l[r] += 1.0\n",
    "        return l\n",
    "\n",
    "    sparse_features = reduce(map_update, mapping.values(), defaultdict(float))\n",
    "    return dict(sparse_features)\n",
    "\n",
    "# Reminder of the sample values:\n",
    "# sample_one = [(0, 'mouse'), (1, 'black')]\n",
    "# sample_two = [(0, 'cat'), (1, 'tabby'), (2, 'mouse')]\n",
    "# sample_three =  [(0, 'bear'), (1, 'black'), (2, 'salmon')]\n",
    "# TODO: Replace <FILL IN> with appropriate code\n",
    "# Use four buckets\n",
    "samp_one_four_buckets = hash_function(sample_one, 4, True)\n",
    "samp_two_four_buckets = hash_function(sample_two, 4, True)\n",
    "samp_three_four_buckets = hash_function(sample_three, 4, True)\n",
    "\n",
    "# Use one hundred buckets\n",
    "samp_one_hundred_buckets = hash_function(sample_one, 100, True)\n",
    "samp_two_hundred_buckets = hash_function(sample_two, 100, True)\n",
    "samp_three_hundred_buckets = hash_function(sample_three, 100, True)\n",
    "\n",
    "print('\\n\\t\\t 4 Buckets \\t\\t\\t 100 Buckets')\n",
    "print('SampleOne:\\t {0}\\t\\t\\t {1}'.format(samp_one_four_buckets, samp_one_hundred_buckets))\n",
    "print('SampleTwo:\\t {0}\\t\\t {1}'.format(samp_two_four_buckets, samp_two_hundred_buckets))\n",
    "print('SampleThree:\\t {0}\\t {1}'.format(samp_three_four_buckets, samp_three_hundred_buckets))"
   ]
  },
  {
   "cell_type": "markdown",
   "metadata": {},
   "source": [
    "### (5b) Creating hashed features"
   ]
  },
  {
   "cell_type": "code",
   "execution_count": 30,
   "metadata": {},
   "outputs": [
    {
     "name": "stdout",
     "output_type": "stream",
     "text": [
      "+-----+--------------------+\n",
      "|label|            features|\n",
      "+-----+--------------------+\n",
      "|  0.0|(32768,[1613,1659...|\n",
      "|  0.0|(32768,[1408,1613...|\n",
      "|  0.0|(32768,[1613,2034...|\n",
      "|  0.0|(32768,[351,1613,...|\n",
      "|  0.0|(32768,[103,492,1...|\n",
      "|  0.0|(32768,[1613,2034...|\n",
      "|  0.0|(32768,[340,1408,...|\n",
      "|  0.0|(32768,[300,1613,...|\n",
      "|  0.0|(32768,[492,1613,...|\n",
      "|  0.0|(32768,[492,1613,...|\n",
      "|  0.0|(32768,[847,881,1...|\n",
      "|  0.0|(32768,[1408,1597...|\n",
      "|  0.0|(32768,[1613,2034...|\n",
      "|  0.0|(32768,[492,1613,...|\n",
      "|  0.0|(32768,[492,1613,...|\n",
      "|  0.0|(32768,[1408,1421...|\n",
      "|  0.0|(32768,[1408,1613...|\n",
      "|  0.0|(32768,[492,825,1...|\n",
      "|  0.0|(32768,[170,1613,...|\n",
      "|  0.0|(32768,[1408,1613...|\n",
      "+-----+--------------------+\n",
      "only showing top 20 rows\n",
      "\n"
     ]
    }
   ],
   "source": [
    "from pyspark.mllib.linalg import Vectors\n",
    "num_hash_buckets = 2 ** 15\n",
    "\n",
    "# UDF that returns a vector of hashed features given an Array of tuples\n",
    "tuples_to_hash_features_udf = udf(lambda x: Vectors.sparse(num_hash_buckets, hash_function(x, num_hash_buckets)), VectorUDT())\n",
    "\n",
    "def add_hashed_features(df):\n",
    "    \"\"\"Return a DataFrame with labels and hashed features.\n",
    "\n",
    "    Note:\n",
    "        Make sure to cache the DataFrame that you are returning.\n",
    "\n",
    "    Args:\n",
    "        df (DataFrame with 'tuples' column): A DataFrame containing the tuples to be hashed.\n",
    "\n",
    "    Returns:\n",
    "        DataFrame: A DataFrame with a 'label' column and a 'features' column that contains a\n",
    "            SparseVector of hashed features.\n",
    "    \"\"\"\n",
    "    return df.withColumn(\"features\", tuples_to_hash_features_udf(\"feature\")).drop(\"feature\")\n",
    "\n",
    "hash_train_df = add_hashed_features(parsed_train_df)\n",
    "hash_validation_df = add_hashed_features(parse_raw_df(raw_validation_df))\n",
    "hash_test_df = add_hashed_features(parse_raw_df(raw_test_df))\n",
    "\n",
    "hash_train_df.show()"
   ]
  },
  {
   "cell_type": "markdown",
   "metadata": {},
   "source": [
    "### (5c) Sparsity"
   ]
  },
  {
   "cell_type": "code",
   "execution_count": 31,
   "metadata": {},
   "outputs": [
    {
     "name": "stdout",
     "output_type": "stream",
     "text": [
      "This vector should have sparsity 2/5 or .4.\n",
      "Sparsity = 0.40.\n"
     ]
    }
   ],
   "source": [
    "def vector_feature_sparsity(sparse_vector):\n",
    "    \"\"\"Calculates the sparsity of a SparseVector.\n",
    "\n",
    "    Args:\n",
    "        sparse_vector (SparseVector): The vector containing the features.\n",
    "\n",
    "    Returns:\n",
    "        float: The ratio of features found in the vector to the total number of features.\n",
    "    \"\"\"\n",
    "    return float(len(sparse_vector.indices)) / len(sparse_vector)\n",
    "\n",
    "feature_sparsity_udf = udf(vector_feature_sparsity, DoubleType())\n",
    "\n",
    "a_sparse_vector = Vectors.sparse(5, {0: 1.0, 3: 1.0})\n",
    "a_sparse_vector_sparsity = vector_feature_sparsity(a_sparse_vector)\n",
    "print('This vector should have sparsity 2/5 or .4.')\n",
    "print('Sparsity = {0:.2f}.'.format(a_sparse_vector_sparsity))"
   ]
  },
  {
   "cell_type": "markdown",
   "metadata": {},
   "source": [
    "### (5d) Sparsity continued"
   ]
  },
  {
   "cell_type": "code",
   "execution_count": 32,
   "metadata": {},
   "outputs": [
    {
     "name": "stdout",
     "output_type": "stream",
     "text": [
      "Average OHE Sparsity: 1.6693919e-04\n",
      "Average Hash Sparsity: 1.1896523e-03\n"
     ]
    }
   ],
   "source": [
    "feature_sparsity_udf = udf(vector_feature_sparsity, DoubleType())\n",
    "\n",
    "def get_sparsity(df):\n",
    "    \"\"\"Calculates the average sparsity for the features in a DataFrame.\n",
    "\n",
    "    Args:\n",
    "        df (DataFrame with 'features' column): A DataFrame with sparse features.\n",
    "\n",
    "    Returns:\n",
    "        float: The average feature sparsity.\n",
    "    \"\"\"\n",
    "    return df.select(feature_sparsity_udf(\"features\").alias(\"s\")).groupBy().avg(\"s\").head()[0]\n",
    "\n",
    "average_sparsity_ohe = get_sparsity(ohe_train_df)\n",
    "average_sparsity_hash = get_sparsity(hash_train_df)\n",
    "\n",
    "print('Average OHE Sparsity: {0:.7e}'.format(average_sparsity_ohe))\n",
    "print('Average Hash Sparsity: {0:.7e}'.format(average_sparsity_hash))"
   ]
  },
  {
   "cell_type": "markdown",
   "metadata": {},
   "source": [
    "### (5e) Logistic model with hashed features"
   ]
  },
  {
   "cell_type": "code",
   "execution_count": 33,
   "metadata": {},
   "outputs": [
    {
     "name": "stdout",
     "output_type": "stream",
     "text": [
      "intercept: -1.23541926094\n",
      "32768\n",
      "OHE Features Train Logloss:\n",
      "\tBaseline = 0.535\n",
      "\thashed = 0.466\n"
     ]
    }
   ],
   "source": [
    "standardization = False\n",
    "elastic_net_param = 0.7\n",
    "reg_param = .001\n",
    "max_iter = 20\n",
    "\n",
    "hash_train_ml_vectors_df = (hash_train_df\n",
    "                               .rdd.map(lambda x : \n",
    "                                (x['label'], MLVectors.sparse(x['features'].size, list(x['features'].indices), list(x['features'].values))))\n",
    "                               .toDF(['label','features']))\n",
    "\n",
    "lr_hash = (LogisticRegression(standardization = standardization, elasticNetParam = elastic_net_param, regParam = reg_param, maxIter = max_iter))\n",
    "\n",
    "lr_model_hashed = lr_hash.fit(hash_train_ml_vectors_df)\n",
    "print('intercept: {0}'.format(lr_model_hashed.intercept))\n",
    "print(len(lr_model_hashed.coefficients))\n",
    "\n",
    "log_loss_train_model_hashed = evaluate_results(hash_train_ml_vectors_df, lr_model_hashed, None)\n",
    "print ('OHE Features Train Logloss:\\n\\tBaseline = {0:.3f}\\n\\thashed = {1:.3f}'\n",
    "       .format(log_loss_tr_base, log_loss_train_model_hashed))"
   ]
  },
  {
   "cell_type": "markdown",
   "metadata": {},
   "source": [
    "### (5f) Evaluate on the test set"
   ]
  },
  {
   "cell_type": "code",
   "execution_count": 34,
   "metadata": {},
   "outputs": [
    {
     "name": "stdout",
     "output_type": "stream",
     "text": [
      "Class one fraction for test data: 0.226183282981\n",
      "Hashed Features Test Log Loss:\n",
      "\tBaseline = 0.535\n",
      "\tLogReg = 0.470\n"
     ]
    }
   ],
   "source": [
    "hash_test_ml_vectors_df = (hash_test_df\n",
    "                               .rdd.map(lambda x : \n",
    "                                (x['label'], MLVectors.sparse(x['features'].size, list(x['features'].indices), list(x['features'].values))))\n",
    "                               .toDF(['label','features']))\n",
    "\n",
    "# Log loss for the best model from (5e)\n",
    "log_loss_test = evaluate_results(hash_test_ml_vectors_df, lr_model_hashed, None)\n",
    "\n",
    "# Log loss for the baseline model\n",
    "class_one_frac_test = parse_raw_df(raw_test_df).groupBy().avg(\"label\").head()[0]\n",
    "print('Class one fraction for test data: {0}'.format(class_one_frac_test))\n",
    "log_loss_test_baseline = evaluate_results(hash_test_df, lr_model_hashed, class_one_frac_test)\n",
    "\n",
    "print('Hashed Features Test Log Loss:\\n\\tBaseline = {0:.3f}\\n\\tLogReg = {1:.3f}'\n",
    "       .format(log_loss_test_baseline, log_loss_test))"
   ]
  },
  {
   "cell_type": "code",
   "execution_count": null,
   "metadata": {
    "collapsed": true
   },
   "outputs": [],
   "source": []
  }
 ],
 "metadata": {
  "kernelspec": {
   "display_name": "Python 2",
   "language": "python",
   "name": "python2"
  },
  "language_info": {
   "codemirror_mode": {
    "name": "ipython",
    "version": 2
   },
   "file_extension": ".py",
   "mimetype": "text/x-python",
   "name": "python",
   "nbconvert_exporter": "python",
   "pygments_lexer": "ipython2",
   "version": "2.7.6"
  }
 },
 "nbformat": 4,
 "nbformat_minor": 2
}
