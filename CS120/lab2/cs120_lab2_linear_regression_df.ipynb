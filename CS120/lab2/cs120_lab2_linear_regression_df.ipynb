{
 "cells": [
  {
   "cell_type": "markdown",
   "metadata": {},
   "source": [
    "<a rel=\"license\" href=\"http://creativecommons.org/licenses/by-nc-nd/4.0/\"><img alt=\"Creative Commons License\" style=\"border-width:0\" src=\"https://i.creativecommons.org/l/by-nc-nd/4.0/88x31.png\" align=\"left\" /></a><br><br/>This work is licensed under a <a rel=\"license\" href=\"http://creativecommons.org/licenses/by-nc-nd/4.0/\">Creative Commons Attribution-NonCommercial-NoDerivatives 4.0 International License</a>."
   ]
  },
  {
   "cell_type": "markdown",
   "metadata": {},
   "source": [
    "![ML Logo](http://spark-mooc.github.io/web-assets/images/CS190.1x_Banner_300.png)"
   ]
  },
  {
   "cell_type": "markdown",
   "metadata": {},
   "source": [
    "# Linear Regression Lab\n",
    "This lab covers a common supervised learning pipeline, using a subset of the [Million Song Dataset](http://labrosa.ee.columbia.edu/millionsong/) from the [UCI Machine Learning Repository](https://archive.ics.uci.edu/ml/datasets/YearPredictionMSD). Our goal is to train a linear regression model to predict the release year of a song given a set of audio features.\n",
    "## This lab will cover:\n",
    "* Part 1: Read and parse the initial dataset\n",
    "    * Visualization 1: Features\n",
    "    * Visualization 2: Shifting labels\n",
    "* Part 2: Create and evaluate a baseline model\n",
    "    * Visualization 3: Predicted vs. actual\n",
    "    * Part 3: Train (via gradient descent) and evaluate a linear regression model\n",
    "* Visualization 4: Training error\n",
    "    * Part 4: Train using SparkML and tune hyperparameters via grid search\n",
    "    * Visualization 5: Best model's predictions\n",
    "    * Visualization 6: Hyperparameter heat map\n",
    "* Part 5: Add interactions between features\n",
    "> Note that, for reference, you can look up the details of:\n",
    "> * the relevant Spark methods in [Spark's RDD Python API](https://spark.apache.org/docs/latest/api/python/pyspark.html#pyspark.RDD) and [Spark's DataFrame Python API](https://spark.apache.org/docs/latest/api/python/pyspark.sql.html#pyspark.sql.DataFrame)\n",
    "> * the relevant NumPy methods in the [NumPy Reference](http://docs.scipy.org/doc/numpy/reference/index.html)"
   ]
  },
  {
   "cell_type": "markdown",
   "metadata": {},
   "source": [
    "## Part 1: Read and parse the initial dataset"
   ]
  },
  {
   "cell_type": "markdown",
   "metadata": {},
   "source": [
    "### (1a) Load and check the data\n",
    "The raw data is currently stored in text file. We will start by storing this raw data in as a DataFrame, with each element of the DataFrame representing a data point as a comma-delimited string. Each string starts with the label (a year) followed by numerical audio features. Use the DataFrame [count method](https://spark.apache.org/docs/latest/api/python/pyspark.sql.html#pyspark.sql.DataFrame.count) to check how many data points we have. Then use the [take method](https://spark.apache.org/docs/latest/api/python/pyspark.sql.html#pyspark.sql.DataFrame.take) to create and print out a list of the first 5 data points in their initial string format."
   ]
  },
  {
   "cell_type": "code",
   "execution_count": null,
   "metadata": {},
   "outputs": [],
   "source": [
    "import os.path\n",
    "file_name = os.path.join('millionsong.txt')\n",
    "raw_data_df = sqlContext.read.load(file_name, 'text')\n",
    "num_points = raw_data_df.count()\n",
    "print(num_points)\n",
    "sample_points = raw_data_df.take(5)\n",
    "print(sample_points)"
   ]
  },
  {
   "cell_type": "markdown",
   "metadata": {},
   "source": [
    "### (1b) Using LabeledPoint\n",
    "In MLlib, labeled training instances are stored using the [LabeledPoint](https://spark.apache.org/docs/latest/api/python/pyspark.mllib.html#pyspark.mllib.regression.LabeledPoint) object. Write the `parse_points` function that takes, as input, a DataFrame of comma-separated strings. We'll pass it the `raw_data_df` DataFrame.\n",
    "\n",
    "It should parse each row in the DataFrame into individual elements, using Spark's `select` and `split` methods.\n",
    "\n",
    "For example, split `\"2001.0,0.884,0.610,0.600,0.474,0.247,0.357,0.344,0.33,0.600,0.425,0.60,0.419\"` into `['2001.0', '0.884', '0.610', '0.600', '0.474', '0.247', '0.357', '0.344', '0.33', '0.600', '0.425', '0.60', '0.419']`.\n",
    "\n",
    "The first value in the resulting list (`2001.0` in the example, above) is the label. The remaining values (`0.884`, `0.610`, etc., in the example) are the features.\n",
    "\n",
    "After splitting each row, map it to a `LabeledPoint`. You'll have to step down to an RDD (using `.rdd`) or use a DataFrame user-defined function to convert to the `LabeledPoint` object. (See **Hint**, below.) If you step down to an RDD, you'll have to use [toDF()](https://spark.apache.org/docs/latest/api/python/pyspark.sql.html#pyspark.sql.DataFrame.toDF) to convert back to a DataFrame.\n",
    "\n",
    "Use this new `parse_points` function to parse `raw_data_df`. Then print out the features and label for the first training point, using the `features` and `label` attributes. Finally, calculate the number of features for this dataset.\n",
    "\n",
    "### Hint: Running Arbitrary Lambdas on a DataFrame\n",
    "To solve this problem, you need a way to run your parse_points function on a DataFrame. There are two ways to do this, which we will illustrate with an extremely simple example.\n",
    "\n",
    "Suppose you have a DataFrame consisting of a first name and a last name, and you want to add a unique [SHA-256](https://en.wikipedia.org/wiki/Secure_Hash_Algorithm) hash to each row.\n",
    "    \n",
    "    df = sqlContext.createDataFrame([(\"John\", \"Smith\"), (\"Ravi\", \"Singh\"), (\"Julia\", \"Jones\")], (\"first_name\", \"last_name\"))\n",
    "\n",
    "Here's a simple function to calculate such a hash, using Python's built-in `hashlib` library:\n",
    "```python\n",
    "def make_hash(first_name, last_name):\n",
    "    import hashlib\n",
    "    m = hashlib.sha256()\n",
    "    # Join the first name and last name by a blank and hash the resulting\n",
    "    # string.\n",
    "    full_name = ' '.join((first_name, last_name))\n",
    "    m.update(full_name)\n",
    "    return m.hexdigest()\n",
    "```\n",
    "Okay, that's great. But, how do we use it on our DataFrame? We can use a UDF:\n",
    "```python\n",
    "from pyspark.sql.functions import udf\n",
    "u_make_hash = udf(make_hash)\n",
    "df2 = df.select(df['*'], u_make_hash(df['first_name'], df['last_name']))\n",
    "# could run df2.show() here to prove it works\n",
    "```\n",
    "Or we can step down to an RDD, use a lambda to call `make_hash` and have the lambda return a `Row` object, which Spark can use to [\"infer\" a new DataFrame](http://spark.apache.org/docs/latest/sql-programming-guide.html#inferring-the-schema-using-reflection).\n",
    "```python\n",
    "from pyspark.sql import Row\n",
    "def make_hash_from_row(row):\n",
    "    hash = make_hash(row[0], row[1])\n",
    "    return Row(first_name=row[0], last_name=row[1], hash=hash)\n",
    "\n",
    "df2 = (df.rdd\n",
    "         .map(lambda row: make_hash_from_row(row))\n",
    "         .toDF())\n",
    "```\n",
    "These methods are roughly equivalent. You'll need to do something similar to convert your `raw_data_df` DataFrame into a new DataFrame of `LabeledPoint` objects."
   ]
  },
  {
   "cell_type": "code",
   "execution_count": null,
   "metadata": {
    "collapsed": true
   },
   "outputs": [],
   "source": [
    "from pyspark.mllib.regression import LabeledPoint\n",
    "import numpy as np"
   ]
  },
  {
   "cell_type": "code",
   "execution_count": null,
   "metadata": {},
   "outputs": [],
   "source": [
    "from pyspark.sql import functions as sql_functions\n",
    "\n",
    "def parse_points(df):\n",
    "    \"\"\"Converts a DataFrame of comma separated unicode strings into a DataFrame of `LabeledPoints`.\n",
    "\n",
    "    Args:\n",
    "        df: DataFrame where each row is a comma separated unicode string. The first element in the string\n",
    "            is the label and the remaining elements are the features.\n",
    "\n",
    "    Returns:\n",
    "        DataFrame: Each row is converted into a `LabeledPoint`, which consists of a label and\n",
    "            features. To convert an RDD to a DataFrame, simply call toDF().\n",
    "    \"\"\"\n",
    "    return df.rdd.map(lambda x: LabeledPoint(x[0].split(\",\")[0], x[0].split(\",\")[1:])).toDF()\n",
    "\n",
    "parsed_points_df = parse_points(raw_data_df)\n",
    "first_point_features = parsed_points_df.take(1)[0].features\n",
    "first_point_label = parsed_points_df.take(1)[0].label\n",
    "print(first_point_features, first_point_label)\n",
    "\n",
    "d = len(first_point_features)\n",
    "print(d)"
   ]
  },
  {
   "cell_type": "markdown",
   "metadata": {
    "collapsed": true
   },
   "source": [
    "### Visualization 1: Features\n",
    "First we will load and setup the visualization library. Then we will look at the raw features for 50 data points by generating a heatmap that visualizes each feature on a grey-scale and shows the variation of each feature across the 50 sample data points. The features are all between 0 and 1, with values closer to 1 represented via darker shades of grey."
   ]
  },
  {
   "cell_type": "code",
   "execution_count": null,
   "metadata": {},
   "outputs": [],
   "source": [
    "import matplotlib.pyplot as plt\n",
    "import matplotlib.cm as cm\n",
    "%matplotlib inline\n",
    "# takeSample(withReplacement, num, [seed]) randomly selects num elements from the dataset with/without replacement, and has an\n",
    "# optional seed parameter that one can set for reproducible results\n",
    "\n",
    "data_values = (parsed_points_df\n",
    "               .rdd\n",
    "               .map(lambda lp: lp.features.toArray())\n",
    "               .takeSample(False, 50, 47))\n",
    "\n",
    "# You can uncomment the line below to see randomly selected features.  These will be randomly\n",
    "# selected each time you run the cell because there is no set seed.  Note that you should run\n",
    "# this cell with the line commented out when answering the lab quiz questions.\n",
    "# data_values = (parsedPointsDF\n",
    "#                .rdd\n",
    "#                .map(lambda lp: lp.features.toArray())\n",
    "#                .takeSample(False, 50))\n",
    "\n",
    "def prepare_plot(xticks, yticks, figsize=(10.5, 6), hideLabels=False, gridColor='#999999',\n",
    "                 gridWidth=1.0):\n",
    "    \"\"\"Template for generating the plot layout.\"\"\"\n",
    "    plt.close()\n",
    "    fig, ax = plt.subplots(figsize=figsize, facecolor='white', edgecolor='white')\n",
    "    ax.axes.tick_params(labelcolor='#999999', labelsize='10')\n",
    "    for axis, ticks in [(ax.get_xaxis(), xticks), (ax.get_yaxis(), yticks)]:\n",
    "        axis.set_ticks_position('none')\n",
    "        axis.set_ticks(ticks)\n",
    "        axis.label.set_color('#999999')\n",
    "        if hideLabels: axis.set_ticklabels([])\n",
    "    plt.grid(color=gridColor, linewidth=gridWidth, linestyle='-')\n",
    "    map(lambda position: ax.spines[position].set_visible(False), ['bottom', 'top', 'left', 'right'])\n",
    "    return fig, ax\n",
    "\n",
    "# generate layout and plot\n",
    "fig, ax = prepare_plot(np.arange(.5, 11, 1), np.arange(.5, 49, 1), figsize=(8,7), hideLabels=True,\n",
    "                       gridColor='#eeeeee', gridWidth=1.1)\n",
    "image = plt.imshow(data_values,interpolation='nearest', aspect='auto', cmap=cm.Greys)\n",
    "for x, y, s in zip(np.arange(-.125, 12, 1), np.repeat(-.75, 12), [str(x) for x in range(12)]):\n",
    "    plt.text(x, y, s, color='#999999', size='10')\n",
    "plt.text(4.7, -3, 'Feature', color='#999999', size='11'), ax.set_ylabel('Observation')\n",
    "fig.show()"
   ]
  },
  {
   "cell_type": "markdown",
   "metadata": {
    "collapsed": true
   },
   "source": [
    "### (1c) Find the range\n",
    "Now let's examine the labels to find the range of song years. To do this, find the smallest and largest labels in the `parsed_points_df`.\n",
    "\n",
    "We will use the min and max functions that are native to the DataFrames, and thus can be optimized using Spark's Catalyst Optimizer and Project Tungsten (don't worry about the technical details). This code will run faster than simply using the native min and max functions in Python. Use [selectExpr](https://spark.apache.org/docs/latest/api/python/pyspark.sql.html#pyspark.sql.DataFrame.selectExpr) to retrieve the min and max label values."
   ]
  },
  {
   "cell_type": "code",
   "execution_count": null,
   "metadata": {},
   "outputs": [],
   "source": [
    "content_stats = (parsed_points_df\n",
    "                 .selectExpr(\"min(label)\", \"max(label)\"))\n",
    "\n",
    "min_year = content_stats.first()[0]\n",
    "max_year = content_stats.first()[1]\n",
    "\n",
    "print(min_year, max_year)"
   ]
  },
  {
   "cell_type": "markdown",
   "metadata": {},
   "source": [
    "### (1d) Shift labels\n",
    "As we just saw, the labels are years in the 1900s and 2000s. In learning problems, it is often natural to shift labels such that they start from zero. Starting with `parsed_points_df`, create a new DataFrame in which the labels are shifted such that smallest label equals zero (hint: use `select`). After, use [withColumnRenamed](https://spark.apache.org/docs/latest/api/python/pyspark.sql.html#pyspark.sql.DataFrame.withColumnRenamed) to rename the appropriate columns to `features` and `label`."
   ]
  },
  {
   "cell_type": "code",
   "execution_count": null,
   "metadata": {},
   "outputs": [],
   "source": [
    "from pyspark.sql.functions import col,lit\n",
    "parsed_data_df = parsed_points_df.select(col(\"features\"), (col(\"label\")-lit(min_year)).alias(\"label\"))\n",
    "\n",
    "# View the first point\n",
    "print('\\n{0}'.format(parsed_data_df.first()))"
   ]
  },
  {
   "cell_type": "markdown",
   "metadata": {},
   "source": [
    "### Visualization 2: Shifting labels\n",
    "We will look at the labels before and after shifting them. Both scatter plots below visualize tuples storing:\n",
    "* a label value and\n",
    "* the number of training points with this label.\n",
    "\n",
    "The first scatter plot uses the initial labels, while the second one uses the shifted labels. Note that the two plots look the same except for the labels on the x-axis."
   ]
  },
  {
   "cell_type": "code",
   "execution_count": null,
   "metadata": {},
   "outputs": [],
   "source": [
    "# get data for plot\n",
    "old_data = (parsed_points_df\n",
    "             .rdd\n",
    "             .map(lambda lp: (lp.label, 1))\n",
    "             .reduceByKey(lambda x, y: x + y)\n",
    "             .collect())\n",
    "x, y = zip(*old_data)\n",
    "\n",
    "# generate layout and plot data\n",
    "fig, ax = prepare_plot(np.arange(1920, 2050, 20), np.arange(0, 150, 20))\n",
    "plt.scatter(x, y, s=14**2, c='#d6ebf2', edgecolors='#8cbfd0', alpha=0.75)\n",
    "ax.set_xlabel('Year'), ax.set_ylabel('Count')\n",
    "fig.show()"
   ]
  },
  {
   "cell_type": "code",
   "execution_count": null,
   "metadata": {},
   "outputs": [],
   "source": [
    "# get data for plot\n",
    "new_data = (parsed_points_df\n",
    "             .rdd\n",
    "             .map(lambda lp: (lp.label, 1))\n",
    "             .reduceByKey(lambda x, y: x + y)\n",
    "             .collect())\n",
    "x, y = zip(*new_data)\n",
    "\n",
    "# generate layout and plot data\n",
    "fig, ax = prepare_plot(np.arange(0, 120, 20), np.arange(0, 120, 20))\n",
    "plt.scatter(x, y, s=14**2, c='#d6ebf2', edgecolors='#8cbfd0', alpha=0.75)\n",
    "ax.set_xlabel('Year (shifted)'), ax.set_ylabel('Count')\n",
    "fig.show()"
   ]
  },
  {
   "cell_type": "markdown",
   "metadata": {},
   "source": [
    "### (1e) Training, validation, and test sets\n",
    "We're almost done parsing our dataset, and our final task involves spliting the dataset into training, validation and test sets. Use the [randomSplit](https://spark.apache.org/docs/latest/api/python/pyspark.sql.html#pyspark.sql.DataFrame.randomSplit) method with the specified weights and seed to create DataFrames storing each of these datasets. Next, cache each of these DataFrames, as we will be accessing them multiple times in the remainder of this lab. Finally, compute the size of each dataset and verify that the sum of their sizes equals the value computed in Part (1a)."
   ]
  },
  {
   "cell_type": "code",
   "execution_count": null,
   "metadata": {},
   "outputs": [],
   "source": [
    "weights = [.8, .1, .1]\n",
    "seed = 42\n",
    "parsed_train_data_df, parsed_val_data_df, parsed_test_data_df = parsed_data_df.randomSplit(weights, seed)\n",
    "parsed_train_data_df.cache()\n",
    "parsed_val_data_df.cache()\n",
    "parsed_test_data_df.cache()\n",
    "n_train = parsed_train_data_df.count()\n",
    "n_val = parsed_val_data_df.count()\n",
    "n_test = parsed_test_data_df.count()\n",
    "\n",
    "print(n_train, n_val, n_test, n_train + n_val + n_test)\n",
    "print(parsed_data_df.count())"
   ]
  },
  {
   "cell_type": "code",
   "execution_count": null,
   "metadata": {},
   "outputs": [],
   "source": [
    "parsed_train_data_df.show()"
   ]
  },
  {
   "cell_type": "markdown",
   "metadata": {},
   "source": [
    "## Part 2: Create and evaluate a baseline model"
   ]
  },
  {
   "cell_type": "markdown",
   "metadata": {},
   "source": [
    "### (2a) Average label\n",
    "A very simple yet natural baseline model is one where we always make the same prediction independent of the given data point, using the average label in the training set as the constant prediction value. Compute this value, which is the average (shifted) song year for the training set. Use `selectExpr` and `first()` from the [DataFrame API](https://spark.apache.org/docs/latest/api/python/pyspark.sql.html#pyspark.sql.DataFrame)."
   ]
  },
  {
   "cell_type": "code",
   "execution_count": null,
   "metadata": {},
   "outputs": [],
   "source": [
    "average_train_year = (parsed_train_data_df\n",
    "                        .selectExpr(\"avg(label)\")).first()[0]\n",
    "print(average_train_year)"
   ]
  },
  {
   "cell_type": "markdown",
   "metadata": {},
   "source": [
    "### (2b) Root mean squared error\n",
    "We naturally would like to see how well this naive baseline performs. We will use root mean squared error ([RMSE](http://en.wikipedia.org/wiki/Root-mean-square_deviation)) for evaluation purposes. Using [Regression Evaluator](http://spark.apache.org/docs/latest/api/python/pyspark.ml.html#pyspark.ml.evaluation.RegressionEvaluator), compute the RMSE given a dataset of _(prediction, label)_ tuples."
   ]
  },
  {
   "cell_type": "code",
   "execution_count": null,
   "metadata": {},
   "outputs": [],
   "source": [
    "from pyspark.ml.evaluation import RegressionEvaluator\n",
    "\n",
    "preds_and_labels = [(1., 3.), (2., 1.), (2., 2.)]\n",
    "preds_and_labels_df = sqlContext.createDataFrame(preds_and_labels, [\"prediction\", \"label\"])\n",
    "\n",
    "evaluator = RegressionEvaluator()\n",
    "def calc_RMSE(dataset):\n",
    "    \"\"\"Calculates the root mean squared error for an dataset of (prediction, label) tuples.\n",
    "\n",
    "    Args:\n",
    "        dataset (DataFrame of (float, float)): A `DataFrame` consisting of (prediction, label) tuples.\n",
    "\n",
    "    Returns:\n",
    "        float: The square root of the mean of the squared errors.\n",
    "    \"\"\"\n",
    "    return evaluator.evaluate(dataset)\n",
    "\n",
    "example_rmse = calc_RMSE(preds_and_labels_df)\n",
    "print(example_rmse)"
   ]
  },
  {
   "cell_type": "markdown",
   "metadata": {},
   "source": [
    "### (2c) Training, validation and test RMSE\n",
    "Now let's calculate the training, validation and test RMSE of our baseline model. To do this, first create DataFrames of _(prediction, label)_ tuples for each dataset, and then call `calc_RMSE()`. Note that each RMSE can be interpreted as the average prediction error for the given dataset (in terms of number of years). You can use [createDataFrame](https://spark.apache.org/docs/latest/api/python/pyspark.sql.html#pyspark.sql.SQLContext.createDataFrame) to make a DataFrame with the column names of \"prediction\" and \"label\" from an RDD."
   ]
  },
  {
   "cell_type": "code",
   "execution_count": null,
   "metadata": {},
   "outputs": [],
   "source": [
    "preds_and_labels_train = parsed_train_data_df.rdd.map(lambda x: (average_train_year, x[1]))\n",
    "preds_and_labels_train_df = sqlContext.createDataFrame(preds_and_labels_train, [\"prediction\", \"label\"])\n",
    "rmse_train_base = calc_RMSE(preds_and_labels_train_df)\n",
    "\n",
    "preds_and_labels_val = parsed_val_data_df.rdd.map(lambda x: (average_train_year, x[1]))\n",
    "preds_and_labels_val_df = sqlContext.createDataFrame(preds_and_labels_val, [\"prediction\", \"label\"])\n",
    "rmse_val_base = calc_RMSE(preds_and_labels_val_df)\n",
    "\n",
    "preds_and_labels_test = parsed_test_data_df.rdd.map(lambda x: (average_train_year, x[1]))\n",
    "preds_and_labels_test_df = sqlContext.createDataFrame(preds_and_labels_test, [\"prediction\", \"label\"])\n",
    "rmse_test_base = calc_RMSE(preds_and_labels_test_df)\n",
    "\n",
    "print('Baseline Train RMSE = {0:.3f}'.format(rmse_train_base))\n",
    "print('Baseline Validation RMSE = {0:.3f}'.format(rmse_val_base))\n",
    "print('Baseline Test RMSE = {0:.3f}'.format(rmse_test_base))"
   ]
  },
  {
   "cell_type": "markdown",
   "metadata": {},
   "source": [
    "### Visualization 3: Predicted vs. actual\n",
    "We will visualize predictions on the validation dataset. The scatter plots below visualize tuples storing i) the predicted value and ii) true label. The first scatter plot represents the ideal situation where the predicted value exactly equals the true label, while the second plot uses the baseline predictor (i.e., `average_train_year`) for all predicted values. Further note that the points in the scatter plots are color-coded, ranging from light yellow when the true and predicted values are equal to bright red when they drastically differ."
   ]
  },
  {
   "cell_type": "code",
   "execution_count": null,
   "metadata": {},
   "outputs": [],
   "source": [
    "from matplotlib.colors import ListedColormap, Normalize\n",
    "from matplotlib.cm import get_cmap\n",
    "cmap = get_cmap('YlOrRd')\n",
    "norm = Normalize()\n",
    "\n",
    "def squared_error(label, prediction):\n",
    "    \"\"\"Calculates the squared error for a single prediction.\"\"\"\n",
    "    return float((label - prediction)**2)\n",
    "\n",
    "actual = np.asarray(parsed_val_data_df\n",
    "                    .select('label')\n",
    "                    .collect())\n",
    "error = np.asarray(parsed_val_data_df\n",
    "                   .rdd\n",
    "                   .map(lambda lp: (lp.label, lp.label))\n",
    "                   .map(lambda (l, p): squared_error(l, p))\n",
    "                   .collect())\n",
    "clrs = cmap(np.asarray(norm(error)))[:,0:3]\n",
    "\n",
    "fig, ax = prepare_plot(np.arange(0, 100, 20), np.arange(0, 100, 20))\n",
    "plt.scatter(actual, actual, s=14**2, c=clrs, edgecolors='#888888', alpha=0.75, linewidths=0.5)\n",
    "ax.set_xlabel('Predicted'), ax.set_ylabel('Actual')\n",
    "fig.show()"
   ]
  },
  {
   "cell_type": "code",
   "execution_count": null,
   "metadata": {},
   "outputs": [],
   "source": [
    "def squared_error(label, prediction):\n",
    "    \"\"\"Calculates the squared error for a single prediction.\"\"\"\n",
    "    return float((label - prediction)**2)\n",
    "\n",
    "predictions = np.asarray(parsed_val_data_df\n",
    "                         .rdd\n",
    "                         .map(lambda lp: average_train_year)\n",
    "                         .collect())\n",
    "error = np.asarray(parsed_val_data_df\n",
    "                   .rdd\n",
    "                   .map(lambda lp: (lp.label, average_train_year))\n",
    "                   .map(lambda (l, p): squared_error(l, p))\n",
    "                   .collect())\n",
    "norm = Normalize()\n",
    "clrs = cmap(np.asarray(norm(error)))[:,0:3]\n",
    "\n",
    "fig, ax = prepare_plot(np.arange(53.0, 55.0, 0.5), np.arange(0, 100, 20))\n",
    "ax.set_xlim(53, 55)\n",
    "plt.scatter(predictions, actual, s=14**2, c=clrs, edgecolors='#888888', alpha=0.75, linewidths=0.3)\n",
    "ax.set_xlabel('Predicted'), ax.set_ylabel('Actual')\n",
    "fig.show()"
   ]
  },
  {
   "cell_type": "markdown",
   "metadata": {},
   "source": [
    "## Part 3: Train (via gradient descent) and evaluate a linear regression model"
   ]
  },
  {
   "cell_type": "markdown",
   "metadata": {},
   "source": [
    "### (3a) Gradient summand\n",
    "Now let's see if we can do better via linear regression, training a model via gradient descent (we'll omit the intercept for now). Recall that the gradient descent update for linear regression is:\n",
    "\\begin{equation}\n",
    "\\mathbf{w}_{i+1} = \\mathbf{w}_i - \\alpha_i \\sum_j (\\mathbf{w}_i^\\top\\mathbf{x}_j - y_j) \\mathbf{x}_j.\n",
    "\\end{equation}\n",
    "\n",
    "where $i$ is the iteration number of the gradient descent algorithm, and \\scriptsize $j$ identifies the observation.\n",
    "\n",
    "First, implement a function that computes the summand for this update, i.e., the summand equals $(\\mathbf{w}^\\top \\mathbf{x} - y) \\mathbf{x}$, and test out this function on two examples. Use the `DenseVector` [dot](http://spark.apache.org/docs/latest/api/python/pyspark.mllib.html#pyspark.mllib.linalg.DenseVector.dot) method."
   ]
  },
  {
   "cell_type": "code",
   "execution_count": null,
   "metadata": {},
   "outputs": [],
   "source": [
    "from pyspark.mllib.linalg import DenseVector\n",
    "def gradient_summand(weights, lp):\n",
    "    \"\"\"Calculates the gradient summand for a given weight and `LabeledPoint`.\n",
    "\n",
    "    Note:\n",
    "        `DenseVector` behaves similarly to a `numpy.ndarray` and they can be used interchangably\n",
    "        within this function.  For example, they both implement the `dot` method.\n",
    "\n",
    "    Args:\n",
    "        weights (DenseVector): An array of model weights (betas).\n",
    "        lp (LabeledPoint): The `LabeledPoint` for a single observation.\n",
    "\n",
    "    Returns:\n",
    "        DenseVector: An array of values the same length as `weights`.  The gradient summand.\n",
    "    \"\"\"\n",
    "    return (weights.dot(lp.features)-lp.label) * lp.features\n",
    "\n",
    "example_w = DenseVector([1, 1, 1])\n",
    "example_lp = LabeledPoint(2.0, [3, 1, 4])\n",
    "# gradient_summand = (dot([1 1 1], [3 1 4]) - 2) * [3 1 4] = (8 - 2) * [3 1 4] = [18 6 24]\n",
    "summand_one = gradient_summand(example_w, example_lp)\n",
    "print(summand_one)\n",
    "\n",
    "example_w = DenseVector([.24, 1.2, -1.4])\n",
    "example_lp = LabeledPoint(3.0, [-1.4, 4.2, 2.1])\n",
    "summand_two = gradient_summand(example_w, example_lp)\n",
    "print(summand_two)"
   ]
  },
  {
   "cell_type": "markdown",
   "metadata": {},
   "source": [
    "### (3b) Use weights to make predictions\n",
    "Next, implement a `get_labeled_predictions` function that takes in weights and an observation's `LabeledPoint` and returns a _(prediction, label)_ tuple. Note that we can predict by computing the dot product between weights and an observation's features."
   ]
  },
  {
   "cell_type": "code",
   "execution_count": null,
   "metadata": {},
   "outputs": [],
   "source": [
    "def get_labeled_prediction(weights, observation):\n",
    "    \"\"\"Calculates predictions and returns a (prediction, label) tuple.\n",
    "\n",
    "    Note:\n",
    "        The labels should remain unchanged as we'll use this information to calculate prediction\n",
    "        error later.\n",
    "\n",
    "    Args:\n",
    "        weights (np.ndarray): An array with one weight for each features in `trainData`.\n",
    "        observation (LabeledPoint): A `LabeledPoint` that contain the correct label and the\n",
    "            features for the data point.\n",
    "\n",
    "    Returns:\n",
    "        tuple: A (prediction, label) tuple. Convert the return type of the label and prediction to a float.\n",
    "    \"\"\"\n",
    "    return (float(weights.dot(observation.features)), float(observation.label))\n",
    "\n",
    "weights = np.array([1.0, 1.5])\n",
    "prediction_example = sc.parallelize([LabeledPoint(2, np.array([1.0, .5])),\n",
    "                                     LabeledPoint(1.5, np.array([.5, .5]))])\n",
    "preds_and_labels_example = prediction_example.map(lambda lp: get_labeled_prediction(weights, lp))\n",
    "print(preds_and_labels_example.collect())"
   ]
  },
  {
   "cell_type": "markdown",
   "metadata": {},
   "source": [
    "### (3c) Gradient descent\n",
    "Next, implement a gradient descent function for linear regression and test out this function on an example."
   ]
  },
  {
   "cell_type": "code",
   "execution_count": null,
   "metadata": {},
   "outputs": [],
   "source": [
    "def linreg_gradient_descent(train_data, num_iters):\n",
    "    \"\"\"Calculates the weights and error for a linear regression model trained with gradient descent.\n",
    "\n",
    "    Note:\n",
    "        `DenseVector` behaves similarly to a `numpy.ndarray` and they can be used interchangably\n",
    "        within this function.  For example, they both implement the `dot` method.\n",
    "\n",
    "    Args:\n",
    "        train_data (RDD of LabeledPoint): The labeled data for use in training the model.\n",
    "        num_iters (int): The number of iterations of gradient descent to perform.\n",
    "\n",
    "    Returns:\n",
    "        (np.ndarray, np.ndarray): A tuple of (weights, training errors).  Weights will be the\n",
    "            final weights (one weight per feature) for the model, and training errors will contain\n",
    "            an error (RMSE) for each iteration of the algorithm.\n",
    "    \"\"\"\n",
    "    # The length of the training data\n",
    "    n = train_data.count()\n",
    "    # The number of features in the training data\n",
    "    d = len(train_data.first().features)\n",
    "    w = np.zeros(d)\n",
    "    alpha = 1.0\n",
    "    # We will compute and store the training error after each iteration\n",
    "    error_train = np.zeros(num_iters)\n",
    "    for i in range(num_iters):\n",
    "        # Use get_labeled_prediction from (3b) with trainData to obtain an RDD of (label, prediction)\n",
    "        # tuples.  Note that the weights all equal 0 for the first iteration, so the predictions will\n",
    "        # have large errors to start.\n",
    "        preds_and_labels_train = train_data.map(lambda lp: get_labeled_prediction(w, lp))        \n",
    "        preds_and_labels_train_df = sqlContext.createDataFrame(preds_and_labels_train, [\"prediction\", \"label\"])\n",
    "        error_train[i] = calc_RMSE(preds_and_labels_train_df)\n",
    "\n",
    "        # Calculate the `gradient`.  Make use of the `gradient_summand` function you wrote in (3a).\n",
    "        # Note that `gradient` should be a `DenseVector` of length `d`.\n",
    "        gradient = train_data.map(lambda x: gradient_summand(w, x)).reduce(lambda x, y: x + y)\n",
    "\n",
    "        # Update the weights\n",
    "        alpha_i = alpha / (n * np.sqrt(i+1))\n",
    "        w -= alpha_i * gradient\n",
    "    return w, error_train\n",
    "\n",
    "# create a toy dataset with n = 10, d = 3, and then run 5 iterations of gradient descent\n",
    "# note: the resulting model will not be useful; the goal here is to verify that\n",
    "# linreg_gradient_descent is working properly\n",
    "example_n = 10\n",
    "example_d = 3\n",
    "example_data = (sc\n",
    "                 .parallelize(parsed_train_data_df.take(example_n))\n",
    "                 .map(lambda lp: LabeledPoint(lp.label, lp.features[0:example_d])))\n",
    "print(example_data.take(2))\n",
    "example_num_iters = 5\n",
    "#linreg_gradient_descent(example_data, example_num_iters)\n",
    "example_weights, example_error_train = linreg_gradient_descent(example_data, example_num_iters)\n",
    "print(example_weights)"
   ]
  },
  {
   "cell_type": "markdown",
   "metadata": {},
   "source": [
    "### (3d) Train the model\n",
    "Now let's train a linear regression model on all of our training data and evaluate its accuracy on the validation set. Note that the test set will not be used here. If we evaluated the model on the test set, we would bias our final results.\n",
    "\n",
    "We've already done much of the required work: we computed the number of features in Part (1b); we created the training and validation datasets and computed their sizes in Part (1e); and, we wrote a function to compute RMSE in Part (2b)."
   ]
  },
  {
   "cell_type": "code",
   "execution_count": null,
   "metadata": {},
   "outputs": [],
   "source": [
    "num_iters = 50\n",
    "weights_LR0, error_train_LR0 = linreg_gradient_descent(parsed_train_data_df.rdd, num_iters)\n",
    "\n",
    "preds_and_labels = (parsed_val_data_df\n",
    "                      .rdd.map(lambda lp: get_labeled_prediction(weights_LR0, lp)))\n",
    "preds_and_labels_df = sqlContext.createDataFrame(preds_and_labels, [\"prediction\", \"label\"])\n",
    "rmse_val_LR0 = calc_RMSE(preds_and_labels_df)\n",
    "\n",
    "print('Validation RMSE:\\n\\tBaseline = {0:.3f}\\n\\tLR0 = {1:.3f}'.format(rmse_val_base,\n",
    "                                                                       rmse_val_LR0))"
   ]
  },
  {
   "cell_type": "markdown",
   "metadata": {},
   "source": [
    "### Visualization 4: Training error\n",
    "We will look at the log of the training error as a function of iteration. The first scatter plot visualizes the logarithm of the training error for all 50 iterations. The second plot shows the training error itself, focusing on the final 44 iterations."
   ]
  },
  {
   "cell_type": "code",
   "execution_count": null,
   "metadata": {},
   "outputs": [],
   "source": [
    "norm = Normalize()\n",
    "clrs = cmap(np.asarray(norm(np.log(error_train_LR0))))[:,0:3]\n",
    "\n",
    "fig, ax = prepare_plot(np.arange(0, 60, 10), np.arange(2, 6, 1))\n",
    "ax.set_ylim(2, 6)\n",
    "plt.scatter(range(0, num_iters), np.log(error_train_LR0), s=14**2, c=clrs, edgecolors='#888888', alpha=0.75)\n",
    "ax.set_xlabel('Iteration'), ax.set_ylabel(r'$\\log_e(errorTrainLR0)$')\n",
    "fig.show()"
   ]
  },
  {
   "cell_type": "code",
   "execution_count": null,
   "metadata": {},
   "outputs": [],
   "source": [
    "norm = Normalize()\n",
    "clrs = cmap(np.asarray(norm(error_train_LR0[6:])))[:,0:3]\n",
    "\n",
    "fig, ax = prepare_plot(np.arange(0, 60, 10), np.arange(17, 22, 1))\n",
    "ax.set_ylim(17.8, 21.2)\n",
    "plt.scatter(range(0, num_iters-6), error_train_LR0[6:], s=14**2, c=clrs, edgecolors='#888888', alpha=0.75)\n",
    "ax.set_xticklabels(map(str, range(6, 66, 10)))\n",
    "ax.set_xlabel('Iteration'), ax.set_ylabel(r'Training Error')\n",
    "fig.show()"
   ]
  },
  {
   "cell_type": "markdown",
   "metadata": {},
   "source": [
    "## Part 4: Train using SparkML and perform grid search"
   ]
  },
  {
   "cell_type": "markdown",
   "metadata": {},
   "source": [
    "### (4a) `LinearRegression`\n",
    "We're already doing better than the baseline model, but let's see if we can do better by adding an intercept, using regularization, and (based on the previous visualization) training for more iterations. SparkML's [LinearRegression](https://spark.apache.org/docs/2.1.0/api/python/pyspark.ml.html#pyspark.ml.regression.LinearRegression) essentially implements the same algorithm that we implemented in Part (3b), albeit more efficiently and with various additional functionality, such as including an intercept in the model and allowing L1, L2, or [elastic net regularization](https://en.wikipedia.org/wiki/Elastic_net_regularization). Elastic net regularization is a linear combination of L1 and L2 regularization. For alpha = 0, the penalty is an L2 penalty. For alpha = 1, it is an L1 penalty.\n",
    "\n",
    "First use LinearRegression to train a model with [elastic net](https://spark.apache.org/docs/2.1.0/api/python/pyspark.ml.html#pyspark.ml.regression.LinearRegression.elasticNetParam) regularization and an intercept. This method returns a [LinearRegressionModel](https://spark.apache.org/docs/latest/api/python/pyspark.mllib.html#pyspark.mllib.regression.LinearRegressionModel). Next, use the model's [coefficients](https://spark.apache.org/docs/latest/api/python/pyspark.ml.html#pyspark.ml.regression.LinearRegressionModel.coefficients) (weights) and [intercept](https://spark.apache.org/docs/latest/api/python/pyspark.ml.html#pyspark.ml.regression.LinearRegressionModel.coefficients) attributes to print out the model's parameters."
   ]
  },
  {
   "cell_type": "code",
   "execution_count": null,
   "metadata": {
    "collapsed": true
   },
   "outputs": [],
   "source": [
    "from pyspark.ml.regression import LinearRegression\n",
    "# Values to use when training the linear regression model\n",
    "\n",
    "num_iters = 500  # iterations\n",
    "reg = 1e-1  # regParam\n",
    "alpha = .2  # elasticNetParam\n",
    "use_intercept = True  # intercept"
   ]
  },
  {
   "cell_type": "code",
   "execution_count": null,
   "metadata": {},
   "outputs": [],
   "source": [
    "from pyspark.ml.linalg import Vectors as MLVectors\n",
    "parsed_train_data_ml_vectors_df = (parsed_train_data_df\n",
    "                                   .rdd.map(lambda x : (MLVectors.dense(x[0]), x[1]))\n",
    "                                   .toDF(['features', 'label']))\n",
    "\n",
    "lin_reg = LinearRegression(maxIter=num_iters, regParam=reg, elasticNetParam=alpha)\n",
    "first_model = lin_reg.fit(parsed_train_data_ml_vectors_df)\n",
    "\n",
    "# coeffsLR1 stores the model coefficients; interceptLR1 stores the model intercept\n",
    "coeffs_LR1 = first_model.coefficients\n",
    "intercept_LR1 = first_model.intercept\n",
    "print(coeffs_LR1, intercept_LR1)"
   ]
  },
  {
   "cell_type": "markdown",
   "metadata": {},
   "source": [
    "### (4b) Transform\n",
    "Now use the [LinearRegressionModel.transform()](https://spark.apache.org/docs/latest/api/python/pyspark.ml.html#pyspark.ml.regression.LinearRegressionModel.transform) method to make predictions on the `parsed_train_data_df`."
   ]
  },
  {
   "cell_type": "code",
   "execution_count": null,
   "metadata": {},
   "outputs": [],
   "source": [
    "sample_prediction = first_model.transform(parsed_train_data_ml_vectors_df)\n",
    "sample_prediction.show()"
   ]
  },
  {
   "cell_type": "markdown",
   "metadata": {},
   "source": [
    "### (4c) Evaluate RMSE\n",
    "Next evaluate the accuracy of this model on the validation set. Use the `transform()` method to create predictions, and then use the `calc_RMSE()` function from Part (2b)."
   ]
  },
  {
   "cell_type": "code",
   "execution_count": null,
   "metadata": {},
   "outputs": [],
   "source": [
    "parsed_val_data_ml_vectors_df = (parsed_val_data_df\n",
    "                                   .rdd.map(lambda x : (MLVectors.dense(x[0]), x[1]))\n",
    "                                   .toDF(['features', 'label']))\n",
    "\n",
    "val_pred_df = first_model.transform(parsed_val_data_ml_vectors_df)\n",
    "rmse_val_LR1 = calc_RMSE(val_pred_df)\n",
    "\n",
    "print('Validation RMSE:\\n\\tBaseline = {0:.3f}\\n\\tLR0 = {1:.3f}' +\n",
    "       '\\n\\tLR1 = {2:.3f}').format(rmse_val_base, rmse_val_LR0, rmse_val_LR1)"
   ]
  },
  {
   "cell_type": "markdown",
   "metadata": {},
   "source": [
    "### (4d) Grid search\n",
    "We're already outperforming the baseline on the validation set by almost 2 years on average, but let's see if we can do better. Perform grid search to find a good regularization parameter. Try `regParam` values `1e-10`, `1e-5`, and `1.0`."
   ]
  },
  {
   "cell_type": "code",
   "execution_count": null,
   "metadata": {},
   "outputs": [],
   "source": [
    "best_RMSE = rmse_val_LR1\n",
    "best_reg_param = reg\n",
    "best_model = first_model\n",
    "\n",
    "num_iters = 500  # iterations\n",
    "alpha = .2  # elasticNetParam\n",
    "use_intercept = True  # intercept\n",
    "\n",
    "for reg in [1e-10, 1e-5, 1.0]:\n",
    "    lin_reg = LinearRegression(maxIter=num_iters, regParam=reg, elasticNetParam=alpha, fitIntercept=use_intercept)\n",
    "    model = lin_reg.fit(parsed_train_data_ml_vectors_df)\n",
    "    val_pred_df = model.transform(parsed_val_data_ml_vectors_df)\n",
    "\n",
    "    rmse_val_grid = calc_RMSE(val_pred_df)\n",
    "    print(rmse_val_grid)\n",
    "\n",
    "    if rmse_val_grid < best_RMSE:\n",
    "        best_RMSE = rmse_val_grid\n",
    "        best_reg_param = reg\n",
    "        best_model = model\n",
    "\n",
    "rmse_val_LR_grid = best_RMSE\n",
    "\n",
    "print('Validation RMSE:\\n\\tBaseline = {0:.3f}\\n\\tLR0 = {1:.3f}\\n\\tLR1 = {2:.3f}\\n' +\n",
    "       '\\tLRGrid = {3:.3f}').format(rmse_val_base, rmse_val_LR0, rmse_val_LR1, rmse_val_LR_grid)"
   ]
  },
  {
   "cell_type": "markdown",
   "metadata": {},
   "source": [
    "### Visualization 5: Best model's predictions\n",
    "Next, we create a visualization similar to 'Visualization 3: Predicted vs. actual' from Part 2 using the predictions from the best model from Part (4d) on the validation dataset. Specifically, we create a color-coded scatter plot visualizing tuples storing i) the predicted value from this model and ii) true label."
   ]
  },
  {
   "cell_type": "code",
   "execution_count": null,
   "metadata": {},
   "outputs": [],
   "source": [
    "parsed_val_df = best_model.transform(parsed_val_data_ml_vectors_df)\n",
    "predictions = np.asarray(parsed_val_df\n",
    "                         .select('prediction')\n",
    "                         .collect())\n",
    "actual = np.asarray(parsed_val_df\n",
    "                      .select('label')\n",
    "                      .collect())\n",
    "error = np.asarray(parsed_val_df\n",
    "                     .rdd\n",
    "                     .map(lambda lp: squared_error(lp.label, lp.prediction))\n",
    "                     .collect())\n",
    "\n",
    "norm = Normalize()\n",
    "clrs = cmap(np.asarray(norm(error)))[:,0:3]\n",
    "\n",
    "fig, ax = prepare_plot(np.arange(0, 120, 20), np.arange(0, 120, 20))\n",
    "ax.set_xlim(15, 82), ax.set_ylim(-5, 105)\n",
    "plt.scatter(predictions, actual, s=14**2, c=clrs, edgecolors='#888888', alpha=0.75, linewidths=.5)\n",
    "ax.set_xlabel('Predicted'), ax.set_ylabel(r'Actual')\n",
    "fig.show()"
   ]
  },
  {
   "cell_type": "markdown",
   "metadata": {},
   "source": [
    "### Visualization 6: Hyperparameter heat map\n",
    "Next, we perform a visualization of hyperparameter search using a larger set of hyperparameters (with precomputed results). Specifically, we create a heat map where the brighter colors correspond to lower RMSE values. The first plot has a large area with brighter colors. In order to differentiate within the bright region, we generate a second plot corresponding to the hyperparameters found within that region."
   ]
  },
  {
   "cell_type": "code",
   "execution_count": null,
   "metadata": {},
   "outputs": [],
   "source": [
    "from matplotlib.colors import LinearSegmentedColormap\n",
    "\n",
    "# Saved parameters and results, to save the time required to run 36 models\n",
    "num_iters = 500\n",
    "reg_params = [1.0, 2.0, 4.0, 8.0, 16.0, 32.0]\n",
    "alpha_params = [0.0, .1, .2, .4, .8, 1.0]\n",
    "rmse_val = np.array([[ 15.317156766552452, 15.327211561989827, 15.357152971253697, 15.455092206273847, 15.73774335576239,\n",
    "                       16.36423857334287, 15.315019185101972, 15.305949211619886, 15.355590337955194, 15.573049001631558,\n",
    "                       16.231992712117222, 17.700179790697746, 15.305266383061921, 15.301104931027034, 15.400125020566225,\n",
    "                       15.824676190630191, 17.045905140628836, 19.365558346037535, 15.292810983243772, 15.333756681057828,\n",
    "                       15.620051033979871, 16.631757941340428, 18.948786862836954, 20.91796910560631, 15.308301384150049,\n",
    "                       15.522394576046239, 16.414106221093316, 18.655978799189178, 20.91796910560631, 20.91796910560631,\n",
    "                       15.33442896030322, 15.680134490745722, 16.86502909075323, 19.72915603626022, 20.91796910560631,\n",
    "                       20.91796910560631 ]])\n",
    "\n",
    "num_rows, num_cols = len(alpha_params), len(reg_params)\n",
    "rmse_val = np.array(rmse_val)\n",
    "rmse_val.shape = (num_rows, num_cols)\n",
    "\n",
    "fig, ax = prepare_plot(np.arange(0, num_cols, 1), np.arange(0, num_rows, 1), figsize=(8, 7), hideLabels=True,\n",
    "                       gridWidth=0.)\n",
    "ax.set_xticklabels(reg_params), ax.set_yticklabels(alpha_params)\n",
    "ax.set_xlabel('Regularization Parameter'), ax.set_ylabel('Alpha')\n",
    "\n",
    "colors = LinearSegmentedColormap.from_list('blue', ['#0022ff', '#000055'], gamma=.2)\n",
    "image = plt.imshow(rmse_val,interpolation='nearest', aspect='auto',\n",
    "                    cmap = colors)\n",
    "fig.show()"
   ]
  },
  {
   "cell_type": "code",
   "execution_count": null,
   "metadata": {},
   "outputs": [],
   "source": [
    "# Zoom into the top left\n",
    "alpha_params_zoom, reg_params_zoom = alpha_params[1:5], reg_params[:4]\n",
    "rmse_val_zoom = rmse_val[1:5, :4]\n",
    "\n",
    "num_rows, num_cols = len(alpha_params_zoom), len(reg_params_zoom)\n",
    "\n",
    "fig, ax = prepare_plot(np.arange(0, num_cols, 1), np.arange(0, num_rows, 1), figsize=(8, 7), hideLabels=True,\n",
    "                       gridWidth=0.)\n",
    "ax.set_xticklabels(reg_params_zoom), ax.set_yticklabels(alpha_params_zoom)\n",
    "ax.set_xlabel('Regularization Parameter'), ax.set_ylabel('Alpha')\n",
    "\n",
    "colors = LinearSegmentedColormap.from_list('blue', ['#0022ff', '#000055'], gamma=.2)\n",
    "image = plt.imshow(rmse_val_zoom, interpolation='nearest', aspect='auto',\n",
    "                    cmap = colors)\n",
    "fig.show()"
   ]
  },
  {
   "cell_type": "markdown",
   "metadata": {},
   "source": [
    "### Part 5: Add interactions between features"
   ]
  },
  {
   "cell_type": "markdown",
   "metadata": {},
   "source": [
    "### (5a) Add 2-way interactions\n",
    "So far, we've used the features as they were provided. Now, we will add features that capture the two-way interactions between our existing features. Write a function `two_way_interactions` that takes in a `LabeledPoint` and generates a new `LabeledPoint` that contains the old features and the two-way interactions between them.\n",
    "> **Note**:\n",
    "> * A dataset with three features would have nine ($3^2$) two-way interactions.\n",
    "> * You might want to use itertools.product to generate tuples for each of the possible 2-way interactions.\n",
    "> * Remember that you can combine two DenseVector or ndarray objects using np.hstack."
   ]
  },
  {
   "cell_type": "code",
   "execution_count": null,
   "metadata": {},
   "outputs": [],
   "source": [
    "import itertools\n",
    "\n",
    "def two_way_interactions(lp):\n",
    "    \"\"\" Creates a new `LabeledPoint` that includes two-way interactions.\n",
    "\n",
    "    Note:\n",
    "        For features [x, y] the two-way interactions would be [x^2, x*y, y*x, y^2] and these\n",
    "        would be appended to the original [x, y] feature list.\n",
    "\n",
    "    Args:\n",
    "        lp (LabeledPoint): The label and features for this observation.\n",
    "\n",
    "    Returns:\n",
    "        LabeledPoint: The new `LabeledPoint` should have the same label as `lp`.  Its features\n",
    "            should include the features from `lp` followed by the two-way interaction features.\n",
    "    \"\"\"\n",
    "    vec = []\n",
    "    for x in itertools.product(lp.features, lp.features):\n",
    "        vec.append( x[0] * x[1])\n",
    "    return LabeledPoint(lp.label, np.hstack((lp.features, vec)))\n",
    "\n",
    "print(two_way_interactions(LabeledPoint(0.0, [2, 3])))\n",
    "\n",
    "# Transform the existing train, validation, and test sets to include two-way interactions.\n",
    "# Remember to convert them back to DataFrames at the end.\n",
    "train_data_interact_df = parsed_train_data_df.rdd.map(lambda x: two_way_interactions(x)).toDF()\n",
    "val_data_interact_df = parsed_val_data_df.rdd.map(lambda x: two_way_interactions(x)).toDF()\n",
    "test_data_interact_df = parsed_test_data_df.rdd.map(lambda x: two_way_interactions(x)).toDF()"
   ]
  },
  {
   "cell_type": "markdown",
   "metadata": {},
   "source": [
    "### (5b) Build interaction model\n",
    "Now, let's build the new model. We've done this several times now. To implement this for the new features, we need to change a few variable names.\n",
    "> Note:\n",
    "> * Remember that we should build our model from the training data and evaluate it on the validation data.\n",
    "> * You should re-run your hyperparameter search after changing features, as using the best hyperparameters from your prior model will not necessary lead to the best model.\n",
    "> * For this exercise, we have already preset the hyperparameters to reasonable values."
   ]
  },
  {
   "cell_type": "code",
   "execution_count": null,
   "metadata": {},
   "outputs": [],
   "source": [
    "num_iters = 500\n",
    "reg = 1e-10\n",
    "alpha = .2\n",
    "use_intercept = True\n",
    "\n",
    "train_data_interact_ml_vectors_df = (train_data_interact_df\n",
    "                                     .rdd.map(lambda x : (MLVectors.dense(x[0]), x[1]))\n",
    "                                     .toDF(['features', 'label']))\n",
    "val_data_interact_ml_vectors_df = (val_data_interact_df\n",
    "                                   .rdd.map(lambda x : (MLVectors.dense(x[0]), x[1]))\n",
    "                                   .toDF(['features', 'label']))\n",
    "\n",
    "lin_reg = LinearRegression(maxIter=num_iters, regParam=reg, elasticNetParam=alpha, fitIntercept=use_intercept)\n",
    "model_interact = lin_reg.fit(train_data_interact_ml_vectors_df)\n",
    "preds_and_labels_interact_df = model_interact.transform(val_data_interact_ml_vectors_df)\n",
    "rmse_val_interact = calc_RMSE(preds_and_labels_interact_df)\n",
    "\n",
    "print('Validation RMSE:\\n\\tBaseline = {0:.3f}\\n\\tLR0 = {1:.3f}\\n\\tLR1 = {2:.3f}\\n\\tLRGrid = ' +\n",
    "       '{3:.3f}\\n\\tLRInteract = {4:.3f}').format(rmse_val_base, rmse_val_LR0, rmse_val_LR1,\n",
    "                                                 rmse_val_LR_grid, rmse_val_interact)"
   ]
  },
  {
   "cell_type": "markdown",
   "metadata": {},
   "source": [
    "### (5c) Evaluate interaction model on test data\n",
    "Our next step is to evaluate the new model on the test dataset. Note that we haven't used the test set to evaluate any of our models. Because of this, our evaluation provides us with an unbiased estimate for how our model will perform on new data. If we had changed our model based on viewing its performance on the test set, our estimate of RMSE would likely be overly optimistic.\n",
    "\n",
    "We'll also print the RMSE for both the baseline model and our new model. With this information, we can see how much better our model performs than the baseline model."
   ]
  },
  {
   "cell_type": "code",
   "execution_count": null,
   "metadata": {},
   "outputs": [],
   "source": [
    "test_data_interact_ml_vectors_df = (test_data_interact_df\n",
    "                                    .rdd.map(lambda x : (MLVectors.dense(x[0]), x[1]))\n",
    "                                    .toDF(['features', 'label']))\n",
    "preds_and_labels_test_df = model_interact.transform(test_data_interact_ml_vectors_df)\n",
    "rmse_test_interact = calc_RMSE(preds_and_labels_test_df)\n",
    "\n",
    "print('Test RMSE:\\n\\tBaseline = {0:.3f}\\n\\tLRInteract = {1:.3f}'\n",
    "       .format(rmse_test_base, rmse_test_interact))"
   ]
  },
  {
   "cell_type": "markdown",
   "metadata": {},
   "source": [
    "### (5d) Use a pipeline to create the interaction model\n",
    "Our final step is to create the interaction model using a [Pipeline](http://spark.apache.org/docs/latest/api/python/pyspark.ml.html#pyspark.ml.Pipeline). Note that Spark contains the [PolynomialExpansion](http://spark.apache.org/docs/latest/api/python/pyspark.ml.html#pyspark.ml.feature.PolynomialExpansion) transformer which will automatically generate interactions for us. In this section, you'll need to generate the `PolynomialExpansion` transformer and set the stages for the `Pipeline` estimator. Make sure to use a degree of 2 for `PolynomialExpansion`, set the input column appropriately, and set the output column to \"polyFeatures\". The pipeline should contain two stages: the polynomial expansion and the linear regression."
   ]
  },
  {
   "cell_type": "code",
   "execution_count": null,
   "metadata": {},
   "outputs": [],
   "source": [
    "from pyspark.ml import Pipeline\n",
    "from pyspark.ml.feature import PolynomialExpansion\n",
    "\n",
    "num_iters = 500\n",
    "reg = 1e-10\n",
    "alpha = .2\n",
    "use_intercept = True\n",
    "\n",
    "polynomial_expansion = PolynomialExpansion(degree=2, inputCol=\"features\", outputCol=\"polyFeatures\")\n",
    "linear_regression = LinearRegression(maxIter=num_iters, regParam=reg, elasticNetParam=alpha,\n",
    "                                     fitIntercept=use_intercept, featuresCol='polyFeatures')\n",
    "parsed_test_data_ml_vectors_df = (parsed_test_data_df\n",
    "                                    .rdd.map(lambda x : (MLVectors.dense(x[0]), x[1]))\n",
    "                                    .toDF(['features', 'label']))\n",
    "\n",
    "pipeline = Pipeline(stages=[polynomial_expansion, linear_regression])\n",
    "pipeline_model = pipeline.fit(parsed_train_data_ml_vectors_df)\n",
    "\n",
    "predictions_df = pipeline_model.transform(parsed_test_data_ml_vectors_df)\n",
    "\n",
    "evaluator = RegressionEvaluator()\n",
    "rmse_test_pipeline = evaluator.evaluate(predictions_df, {evaluator.metricName: \"rmse\"})\n",
    "print('RMSE for test data set using pipelines: {0:.3f}'.format(rmse_test_pipeline))"
   ]
  },
  {
   "cell_type": "code",
   "execution_count": null,
   "metadata": {
    "collapsed": true
   },
   "outputs": [],
   "source": []
  }
 ],
 "metadata": {
  "kernelspec": {
   "display_name": "Python 2",
   "language": "python",
   "name": "python2"
  },
  "language_info": {
   "codemirror_mode": {
    "name": "ipython",
    "version": 2
   },
   "file_extension": ".py",
   "mimetype": "text/x-python",
   "name": "python",
   "nbconvert_exporter": "python",
   "pygments_lexer": "ipython2",
   "version": "2.7.6"
  }
 },
 "nbformat": 4,
 "nbformat_minor": 2
}
